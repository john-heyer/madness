{
 "cells": [
  {
   "cell_type": "code",
   "execution_count": 2,
   "metadata": {},
   "outputs": [],
   "source": [
    "%load_ext autoreload\n",
    "%autoreload 2"
   ]
  },
  {
   "cell_type": "code",
   "execution_count": 3,
   "metadata": {},
   "outputs": [],
   "source": [
    "import requests\n",
    "import json\n",
    "import pandas as pd"
   ]
  },
  {
   "cell_type": "code",
   "execution_count": 4,
   "metadata": {},
   "outputs": [],
   "source": [
    "from datetime import datetime, timedelta"
   ]
  },
  {
   "cell_type": "code",
   "execution_count": 5,
   "metadata": {},
   "outputs": [],
   "source": [
    "from dotenv import dotenv_values\n",
    "\n",
    "config = dotenv_values(\".env\")"
   ]
  },
  {
   "cell_type": "markdown",
   "metadata": {},
   "source": [
    "## ODDS API"
   ]
  },
  {
   "cell_type": "code",
   "execution_count": 94,
   "metadata": {},
   "outputs": [],
   "source": [
    "from bracket import Bracket"
   ]
  },
  {
   "cell_type": "code",
   "execution_count": 95,
   "metadata": {},
   "outputs": [],
   "source": [
    "bracket = Bracket.from_config(config)"
   ]
  },
  {
   "cell_type": "code",
   "execution_count": 96,
   "metadata": {},
   "outputs": [
    {
     "name": "stderr",
     "output_type": "stream",
     "text": [
      "[2024-03-28 20:00:37,042 - bracket - INFO] Data for 62 events returned.\n",
      "[2024-03-28 20:00:37,042 - bracket - INFO] Data for 62 events returned.\n",
      "[2024-03-28 20:00:37,042 - bracket - INFO] Data for 62 events returned.\n",
      "[2024-03-28 20:00:37,042 - bracket - INFO] Data for 62 events returned.\n",
      "[2024-03-28 20:00:37,043 - bracket - INFO] Status update for event from TBD to STATUS_FINAL.\n",
      "Event #: 1\tUConn Huskies (Scott) vs. Stetson Hatters (Katz)\tScore: 0 - 0\tStatus: TBD\n",
      "[2024-03-28 20:00:37,043 - bracket - INFO] Status update for event from TBD to STATUS_FINAL.\n",
      "Event #: 1\tUConn Huskies (Scott) vs. Stetson Hatters (Katz)\tScore: 0 - 0\tStatus: TBD\n",
      "[2024-03-28 20:00:37,043 - bracket - INFO] Status update for event from TBD to STATUS_FINAL.\n",
      "Event #: 1\tUConn Huskies (Scott) vs. Stetson Hatters (Katz)\tScore: 0 - 0\tStatus: TBD\n",
      "[2024-03-28 20:00:37,043 - bracket - INFO] Status update for event from TBD to STATUS_FINAL.\n",
      "Event #: 1\tUConn Huskies (Scott) vs. Stetson Hatters (Katz)\tScore: 0 - 0\tStatus: TBD\n",
      "[2024-03-28 20:00:37,044 - bracket - INFO] Status update for event from TBD to STATUS_FINAL.\n",
      "Event #: 2\tFlorida Atlantic Owls (Molloy) vs. Northwestern Wildcats (John + Tyler)\tScore: 0 - 0\tStatus: TBD\n",
      "[2024-03-28 20:00:37,044 - bracket - INFO] Status update for event from TBD to STATUS_FINAL.\n",
      "Event #: 2\tFlorida Atlantic Owls (Molloy) vs. Northwestern Wildcats (John + Tyler)\tScore: 0 - 0\tStatus: TBD\n",
      "[2024-03-28 20:00:37,044 - bracket - INFO] Status update for event from TBD to STATUS_FINAL.\n",
      "Event #: 2\tFlorida Atlantic Owls (Molloy) vs. Northwestern Wildcats (John + Tyler)\tScore: 0 - 0\tStatus: TBD\n",
      "[2024-03-28 20:00:37,044 - bracket - INFO] Status update for event from TBD to STATUS_FINAL.\n",
      "Event #: 2\tFlorida Atlantic Owls (Molloy) vs. Northwestern Wildcats (John + Tyler)\tScore: 0 - 0\tStatus: TBD\n",
      "[2024-03-28 20:00:37,045 - bracket - INFO] Status update for event from TBD to STATUS_FINAL.\n",
      "Event #: 3\tSan Diego State Aztecs (Eddie) vs. UAB Blazers (Rob)\tScore: 0 - 0\tStatus: TBD\n",
      "[2024-03-28 20:00:37,045 - bracket - INFO] Status update for event from TBD to STATUS_FINAL.\n",
      "Event #: 3\tSan Diego State Aztecs (Eddie) vs. UAB Blazers (Rob)\tScore: 0 - 0\tStatus: TBD\n",
      "[2024-03-28 20:00:37,045 - bracket - INFO] Status update for event from TBD to STATUS_FINAL.\n",
      "Event #: 3\tSan Diego State Aztecs (Eddie) vs. UAB Blazers (Rob)\tScore: 0 - 0\tStatus: TBD\n",
      "[2024-03-28 20:00:37,045 - bracket - INFO] Status update for event from TBD to STATUS_FINAL.\n",
      "Event #: 3\tSan Diego State Aztecs (Eddie) vs. UAB Blazers (Rob)\tScore: 0 - 0\tStatus: TBD\n",
      "[2024-03-28 20:00:37,046 - bracket - INFO] Status update for event from TBD to STATUS_FINAL.\n",
      "Event #: 4\tAuburn Tigers (Aaron) vs. Yale Bulldogs (Bobby + Derham)\tScore: 0 - 0\tStatus: TBD\n",
      "[2024-03-28 20:00:37,046 - bracket - INFO] Status update for event from TBD to STATUS_FINAL.\n",
      "Event #: 4\tAuburn Tigers (Aaron) vs. Yale Bulldogs (Bobby + Derham)\tScore: 0 - 0\tStatus: TBD\n",
      "[2024-03-28 20:00:37,046 - bracket - INFO] Status update for event from TBD to STATUS_FINAL.\n",
      "Event #: 4\tAuburn Tigers (Aaron) vs. Yale Bulldogs (Bobby + Derham)\tScore: 0 - 0\tStatus: TBD\n",
      "[2024-03-28 20:00:37,046 - bracket - INFO] Status update for event from TBD to STATUS_FINAL.\n",
      "Event #: 4\tAuburn Tigers (Aaron) vs. Yale Bulldogs (Bobby + Derham)\tScore: 0 - 0\tStatus: TBD\n",
      "[2024-03-28 20:00:37,046 - bracket - INFO] Status update for event from TBD to STATUS_FINAL.\n",
      "Event #: 5\tBYU Cougars (Mike) vs. Duquesne Dukes (Dillon)\tScore: 0 - 0\tStatus: TBD\n",
      "[2024-03-28 20:00:37,046 - bracket - INFO] Status update for event from TBD to STATUS_FINAL.\n",
      "Event #: 5\tBYU Cougars (Mike) vs. Duquesne Dukes (Dillon)\tScore: 0 - 0\tStatus: TBD\n",
      "[2024-03-28 20:00:37,046 - bracket - INFO] Status update for event from TBD to STATUS_FINAL.\n",
      "Event #: 5\tBYU Cougars (Mike) vs. Duquesne Dukes (Dillon)\tScore: 0 - 0\tStatus: TBD\n",
      "[2024-03-28 20:00:37,046 - bracket - INFO] Status update for event from TBD to STATUS_FINAL.\n",
      "Event #: 5\tBYU Cougars (Mike) vs. Duquesne Dukes (Dillon)\tScore: 0 - 0\tStatus: TBD\n",
      "[2024-03-28 20:00:37,047 - bracket - INFO] Status update for event from TBD to STATUS_FINAL.\n",
      "Event #: 6\tIllinois Fighting Illini (Keav) vs. Morehead State Eagles (Nicolai)\tScore: 0 - 0\tStatus: TBD\n",
      "[2024-03-28 20:00:37,047 - bracket - INFO] Status update for event from TBD to STATUS_FINAL.\n",
      "Event #: 6\tIllinois Fighting Illini (Keav) vs. Morehead State Eagles (Nicolai)\tScore: 0 - 0\tStatus: TBD\n",
      "[2024-03-28 20:00:37,047 - bracket - INFO] Status update for event from TBD to STATUS_FINAL.\n",
      "Event #: 6\tIllinois Fighting Illini (Keav) vs. Morehead State Eagles (Nicolai)\tScore: 0 - 0\tStatus: TBD\n",
      "[2024-03-28 20:00:37,047 - bracket - INFO] Status update for event from TBD to STATUS_FINAL.\n",
      "Event #: 6\tIllinois Fighting Illini (Keav) vs. Morehead State Eagles (Nicolai)\tScore: 0 - 0\tStatus: TBD\n",
      "[2024-03-28 20:00:37,048 - bracket - INFO] Status update for event from TBD to STATUS_FINAL.\n",
      "Event #: 7\tWashington State Cougars (Mayer) vs. Drake Bulldogs (Brey)\tScore: 0 - 0\tStatus: TBD\n",
      "[2024-03-28 20:00:37,048 - bracket - INFO] Status update for event from TBD to STATUS_FINAL.\n",
      "Event #: 7\tWashington State Cougars (Mayer) vs. Drake Bulldogs (Brey)\tScore: 0 - 0\tStatus: TBD\n",
      "[2024-03-28 20:00:37,048 - bracket - INFO] Status update for event from TBD to STATUS_FINAL.\n",
      "Event #: 7\tWashington State Cougars (Mayer) vs. Drake Bulldogs (Brey)\tScore: 0 - 0\tStatus: TBD\n",
      "[2024-03-28 20:00:37,048 - bracket - INFO] Status update for event from TBD to STATUS_FINAL.\n",
      "Event #: 7\tWashington State Cougars (Mayer) vs. Drake Bulldogs (Brey)\tScore: 0 - 0\tStatus: TBD\n",
      "[2024-03-28 20:00:37,049 - bracket - INFO] Status update for event from TBD to STATUS_FINAL.\n",
      "Event #: 8\tIowa State Cyclones (Brandon) vs. South Dakota State Jackrabbits (Meshi)\tScore: 0 - 0\tStatus: TBD\n",
      "[2024-03-28 20:00:37,049 - bracket - INFO] Status update for event from TBD to STATUS_FINAL.\n",
      "Event #: 8\tIowa State Cyclones (Brandon) vs. South Dakota State Jackrabbits (Meshi)\tScore: 0 - 0\tStatus: TBD\n",
      "[2024-03-28 20:00:37,049 - bracket - INFO] Status update for event from TBD to STATUS_FINAL.\n",
      "Event #: 8\tIowa State Cyclones (Brandon) vs. South Dakota State Jackrabbits (Meshi)\tScore: 0 - 0\tStatus: TBD\n",
      "[2024-03-28 20:00:37,049 - bracket - INFO] Status update for event from TBD to STATUS_FINAL.\n",
      "Event #: 8\tIowa State Cyclones (Brandon) vs. South Dakota State Jackrabbits (Meshi)\tScore: 0 - 0\tStatus: TBD\n",
      "[2024-03-28 20:00:37,049 - bracket - INFO] Status update for event from TBD to STATUS_FINAL.\n",
      "Event #: 9\tNorth Carolina Tar Heels (Big Mike) vs. Wagner Seahawks (Colin)\tScore: 0 - 0\tStatus: TBD\n",
      "[2024-03-28 20:00:37,049 - bracket - INFO] Status update for event from TBD to STATUS_FINAL.\n",
      "Event #: 9\tNorth Carolina Tar Heels (Big Mike) vs. Wagner Seahawks (Colin)\tScore: 0 - 0\tStatus: TBD\n",
      "[2024-03-28 20:00:37,049 - bracket - INFO] Status update for event from TBD to STATUS_FINAL.\n",
      "Event #: 9\tNorth Carolina Tar Heels (Big Mike) vs. Wagner Seahawks (Colin)\tScore: 0 - 0\tStatus: TBD\n",
      "[2024-03-28 20:00:37,049 - bracket - INFO] Status update for event from TBD to STATUS_FINAL.\n",
      "Event #: 9\tNorth Carolina Tar Heels (Big Mike) vs. Wagner Seahawks (Colin)\tScore: 0 - 0\tStatus: TBD\n",
      "[2024-03-28 20:00:37,050 - bracket - INFO] Status update for event from TBD to STATUS_FINAL.\n",
      "Event #: 10\tMississippi State Bulldogs (Raggio) vs. Michigan State Spartans (Germano)\tScore: 0 - 0\tStatus: TBD\n",
      "[2024-03-28 20:00:37,050 - bracket - INFO] Status update for event from TBD to STATUS_FINAL.\n",
      "Event #: 10\tMississippi State Bulldogs (Raggio) vs. Michigan State Spartans (Germano)\tScore: 0 - 0\tStatus: TBD\n",
      "[2024-03-28 20:00:37,050 - bracket - INFO] Status update for event from TBD to STATUS_FINAL.\n",
      "Event #: 10\tMississippi State Bulldogs (Raggio) vs. Michigan State Spartans (Germano)\tScore: 0 - 0\tStatus: TBD\n",
      "[2024-03-28 20:00:37,050 - bracket - INFO] Status update for event from TBD to STATUS_FINAL.\n",
      "Event #: 10\tMississippi State Bulldogs (Raggio) vs. Michigan State Spartans (Germano)\tScore: 0 - 0\tStatus: TBD\n",
      "[2024-03-28 20:00:37,051 - bracket - INFO] Status update for event from TBD to STATUS_FINAL.\n",
      "Event #: 11\tSaint Mary's Gaels (Gateson) vs. Grand Canyon Lopes (Becker)\tScore: 0 - 0\tStatus: TBD\n",
      "[2024-03-28 20:00:37,051 - bracket - INFO] Status update for event from TBD to STATUS_FINAL.\n",
      "Event #: 11\tSaint Mary's Gaels (Gateson) vs. Grand Canyon Lopes (Becker)\tScore: 0 - 0\tStatus: TBD\n",
      "[2024-03-28 20:00:37,051 - bracket - INFO] Status update for event from TBD to STATUS_FINAL.\n",
      "Event #: 11\tSaint Mary's Gaels (Gateson) vs. Grand Canyon Lopes (Becker)\tScore: 0 - 0\tStatus: TBD\n",
      "[2024-03-28 20:00:37,051 - bracket - INFO] Status update for event from TBD to STATUS_FINAL.\n",
      "Event #: 11\tSaint Mary's Gaels (Gateson) vs. Grand Canyon Lopes (Becker)\tScore: 0 - 0\tStatus: TBD\n",
      "[2024-03-28 20:00:37,051 - bracket - INFO] Status update for event from TBD to STATUS_FINAL.\n",
      "Event #: 12\tAlabama Crimson Tide (Dana) vs. Charleston Cougars (Peralo)\tScore: 0 - 0\tStatus: TBD\n",
      "[2024-03-28 20:00:37,051 - bracket - INFO] Status update for event from TBD to STATUS_FINAL.\n",
      "Event #: 12\tAlabama Crimson Tide (Dana) vs. Charleston Cougars (Peralo)\tScore: 0 - 0\tStatus: TBD\n",
      "[2024-03-28 20:00:37,051 - bracket - INFO] Status update for event from TBD to STATUS_FINAL.\n",
      "Event #: 12\tAlabama Crimson Tide (Dana) vs. Charleston Cougars (Peralo)\tScore: 0 - 0\tStatus: TBD\n",
      "[2024-03-28 20:00:37,051 - bracket - INFO] Status update for event from TBD to STATUS_FINAL.\n",
      "Event #: 12\tAlabama Crimson Tide (Dana) vs. Charleston Cougars (Peralo)\tScore: 0 - 0\tStatus: TBD\n",
      "[2024-03-28 20:00:37,052 - bracket - INFO] Status update for event from TBD to STATUS_FINAL.\n",
      "Event #: 13\tClemson Tigers (Rosa) vs. New Mexico Lobos (Combs)\tScore: 0 - 0\tStatus: TBD\n",
      "[2024-03-28 20:00:37,052 - bracket - INFO] Status update for event from TBD to STATUS_FINAL.\n",
      "Event #: 13\tClemson Tigers (Rosa) vs. New Mexico Lobos (Combs)\tScore: 0 - 0\tStatus: TBD\n",
      "[2024-03-28 20:00:37,052 - bracket - INFO] Status update for event from TBD to STATUS_FINAL.\n",
      "Event #: 13\tClemson Tigers (Rosa) vs. New Mexico Lobos (Combs)\tScore: 0 - 0\tStatus: TBD\n",
      "[2024-03-28 20:00:37,052 - bracket - INFO] Status update for event from TBD to STATUS_FINAL.\n",
      "Event #: 13\tClemson Tigers (Rosa) vs. New Mexico Lobos (Combs)\tScore: 0 - 0\tStatus: TBD\n",
      "[2024-03-28 20:00:37,053 - bracket - INFO] Status update for event from TBD to STATUS_FINAL.\n",
      "Event #: 14\tBaylor Bears (Cimi) vs. Colgate Raiders (Leff)\tScore: 0 - 0\tStatus: TBD\n",
      "[2024-03-28 20:00:37,053 - bracket - INFO] Status update for event from TBD to STATUS_FINAL.\n",
      "Event #: 14\tBaylor Bears (Cimi) vs. Colgate Raiders (Leff)\tScore: 0 - 0\tStatus: TBD\n",
      "[2024-03-28 20:00:37,053 - bracket - INFO] Status update for event from TBD to STATUS_FINAL.\n",
      "Event #: 14\tBaylor Bears (Cimi) vs. Colgate Raiders (Leff)\tScore: 0 - 0\tStatus: TBD\n",
      "[2024-03-28 20:00:37,053 - bracket - INFO] Status update for event from TBD to STATUS_FINAL.\n",
      "Event #: 14\tBaylor Bears (Cimi) vs. Colgate Raiders (Leff)\tScore: 0 - 0\tStatus: TBD\n",
      "[2024-03-28 20:00:37,054 - bracket - INFO] Status update for event from TBD to STATUS_FINAL.\n",
      "Event #: 15\tDayton Flyers (Healy) vs. Nevada Wolf Pack (Luke)\tScore: 0 - 0\tStatus: TBD\n",
      "[2024-03-28 20:00:37,054 - bracket - INFO] Status update for event from TBD to STATUS_FINAL.\n",
      "Event #: 15\tDayton Flyers (Healy) vs. Nevada Wolf Pack (Luke)\tScore: 0 - 0\tStatus: TBD\n",
      "[2024-03-28 20:00:37,054 - bracket - INFO] Status update for event from TBD to STATUS_FINAL.\n",
      "Event #: 15\tDayton Flyers (Healy) vs. Nevada Wolf Pack (Luke)\tScore: 0 - 0\tStatus: TBD\n",
      "[2024-03-28 20:00:37,054 - bracket - INFO] Status update for event from TBD to STATUS_FINAL.\n",
      "Event #: 15\tDayton Flyers (Healy) vs. Nevada Wolf Pack (Luke)\tScore: 0 - 0\tStatus: TBD\n",
      "[2024-03-28 20:00:37,054 - bracket - INFO] Status update for event from TBD to STATUS_FINAL.\n",
      "Event #: 16\tArizona Wildcats (Kurta) vs. Long Beach State Beach (F-Cup)\tScore: 0 - 0\tStatus: TBD\n",
      "[2024-03-28 20:00:37,054 - bracket - INFO] Status update for event from TBD to STATUS_FINAL.\n",
      "Event #: 16\tArizona Wildcats (Kurta) vs. Long Beach State Beach (F-Cup)\tScore: 0 - 0\tStatus: TBD\n",
      "[2024-03-28 20:00:37,054 - bracket - INFO] Status update for event from TBD to STATUS_FINAL.\n",
      "Event #: 16\tArizona Wildcats (Kurta) vs. Long Beach State Beach (F-Cup)\tScore: 0 - 0\tStatus: TBD\n",
      "[2024-03-28 20:00:37,054 - bracket - INFO] Status update for event from TBD to STATUS_FINAL.\n",
      "Event #: 16\tArizona Wildcats (Kurta) vs. Long Beach State Beach (F-Cup)\tScore: 0 - 0\tStatus: TBD\n",
      "[2024-03-28 20:00:37,055 - bracket - INFO] Status update for event from TBD to STATUS_FINAL.\n",
      "Event #: 17\tHouston Cougars (Dillon (2)) vs. Longwood Lancers (Meshi (2))\tScore: 0 - 0\tStatus: TBD\n",
      "[2024-03-28 20:00:37,055 - bracket - INFO] Status update for event from TBD to STATUS_FINAL.\n",
      "Event #: 17\tHouston Cougars (Dillon (2)) vs. Longwood Lancers (Meshi (2))\tScore: 0 - 0\tStatus: TBD\n",
      "[2024-03-28 20:00:37,055 - bracket - INFO] Status update for event from TBD to STATUS_FINAL.\n",
      "Event #: 17\tHouston Cougars (Dillon (2)) vs. Longwood Lancers (Meshi (2))\tScore: 0 - 0\tStatus: TBD\n",
      "[2024-03-28 20:00:37,055 - bracket - INFO] Status update for event from TBD to STATUS_FINAL.\n",
      "Event #: 17\tHouston Cougars (Dillon (2)) vs. Longwood Lancers (Meshi (2))\tScore: 0 - 0\tStatus: TBD\n",
      "[2024-03-28 20:00:37,056 - bracket - INFO] Status update for event from TBD to STATUS_FINAL.\n",
      "Event #: 18\tNebraska Cornhuskers (Becker (2)) vs. Texas A&M Aggies (Gateson (2))\tScore: 0 - 0\tStatus: TBD\n",
      "[2024-03-28 20:00:37,056 - bracket - INFO] Status update for event from TBD to STATUS_FINAL.\n",
      "Event #: 18\tNebraska Cornhuskers (Becker (2)) vs. Texas A&M Aggies (Gateson (2))\tScore: 0 - 0\tStatus: TBD\n",
      "[2024-03-28 20:00:37,056 - bracket - INFO] Status update for event from TBD to STATUS_FINAL.\n",
      "Event #: 18\tNebraska Cornhuskers (Becker (2)) vs. Texas A&M Aggies (Gateson (2))\tScore: 0 - 0\tStatus: TBD\n",
      "[2024-03-28 20:00:37,056 - bracket - INFO] Status update for event from TBD to STATUS_FINAL.\n",
      "Event #: 18\tNebraska Cornhuskers (Becker (2)) vs. Texas A&M Aggies (Gateson (2))\tScore: 0 - 0\tStatus: TBD\n",
      "[2024-03-28 20:00:37,056 - bracket - INFO] Status update for event from TBD to STATUS_FINAL.\n",
      "Event #: 19\tWisconsin Badgers (Colin (2)) vs. James Madison Dukes (Katz (2))\tScore: 0 - 0\tStatus: TBD\n",
      "[2024-03-28 20:00:37,056 - bracket - INFO] Status update for event from TBD to STATUS_FINAL.\n",
      "Event #: 19\tWisconsin Badgers (Colin (2)) vs. James Madison Dukes (Katz (2))\tScore: 0 - 0\tStatus: TBD\n",
      "[2024-03-28 20:00:37,056 - bracket - INFO] Status update for event from TBD to STATUS_FINAL.\n",
      "Event #: 19\tWisconsin Badgers (Colin (2)) vs. James Madison Dukes (Katz (2))\tScore: 0 - 0\tStatus: TBD\n",
      "[2024-03-28 20:00:37,056 - bracket - INFO] Status update for event from TBD to STATUS_FINAL.\n",
      "Event #: 19\tWisconsin Badgers (Colin (2)) vs. James Madison Dukes (Katz (2))\tScore: 0 - 0\tStatus: TBD\n",
      "[2024-03-28 20:00:37,057 - bracket - INFO] Status update for event from TBD to STATUS_FINAL.\n",
      "Event #: 20\tDuke Blue Devils (Scott (2)) vs. Vermont Catamounts (Eddie (2))\tScore: 0 - 0\tStatus: TBD\n",
      "[2024-03-28 20:00:37,057 - bracket - INFO] Status update for event from TBD to STATUS_FINAL.\n",
      "Event #: 20\tDuke Blue Devils (Scott (2)) vs. Vermont Catamounts (Eddie (2))\tScore: 0 - 0\tStatus: TBD\n",
      "[2024-03-28 20:00:37,057 - bracket - INFO] Status update for event from TBD to STATUS_FINAL.\n",
      "Event #: 20\tDuke Blue Devils (Scott (2)) vs. Vermont Catamounts (Eddie (2))\tScore: 0 - 0\tStatus: TBD\n",
      "[2024-03-28 20:00:37,057 - bracket - INFO] Status update for event from TBD to STATUS_FINAL.\n",
      "Event #: 20\tDuke Blue Devils (Scott (2)) vs. Vermont Catamounts (Eddie (2))\tScore: 0 - 0\tStatus: TBD\n",
      "[2024-03-28 20:00:37,058 - bracket - INFO] Status update for event from TBD to STATUS_FINAL.\n",
      "Event #: 21\tTexas Tech Red Raiders (John + Tyler (2)) vs. NC State Wolfpack (Rosa (2))\tScore: 0 - 0\tStatus: TBD\n",
      "[2024-03-28 20:00:37,058 - bracket - INFO] Status update for event from TBD to STATUS_FINAL.\n",
      "Event #: 21\tTexas Tech Red Raiders (John + Tyler (2)) vs. NC State Wolfpack (Rosa (2))\tScore: 0 - 0\tStatus: TBD\n",
      "[2024-03-28 20:00:37,058 - bracket - INFO] Status update for event from TBD to STATUS_FINAL.\n",
      "Event #: 21\tTexas Tech Red Raiders (John + Tyler (2)) vs. NC State Wolfpack (Rosa (2))\tScore: 0 - 0\tStatus: TBD\n",
      "[2024-03-28 20:00:37,058 - bracket - INFO] Status update for event from TBD to STATUS_FINAL.\n",
      "Event #: 21\tTexas Tech Red Raiders (John + Tyler (2)) vs. NC State Wolfpack (Rosa (2))\tScore: 0 - 0\tStatus: TBD\n",
      "[2024-03-28 20:00:37,059 - bracket - INFO] Status update for event from TBD to STATUS_FINAL.\n",
      "Event #: 22\tKentucky Wildcats (Cimi (2)) vs. Oakland Golden Grizzlies (Luke (2))\tScore: 0 - 0\tStatus: TBD\n",
      "[2024-03-28 20:00:37,059 - bracket - INFO] Status update for event from TBD to STATUS_FINAL.\n",
      "Event #: 22\tKentucky Wildcats (Cimi (2)) vs. Oakland Golden Grizzlies (Luke (2))\tScore: 0 - 0\tStatus: TBD\n",
      "[2024-03-28 20:00:37,059 - bracket - INFO] Status update for event from TBD to STATUS_FINAL.\n",
      "Event #: 22\tKentucky Wildcats (Cimi (2)) vs. Oakland Golden Grizzlies (Luke (2))\tScore: 0 - 0\tStatus: TBD\n",
      "[2024-03-28 20:00:37,059 - bracket - INFO] Status update for event from TBD to STATUS_FINAL.\n",
      "Event #: 22\tKentucky Wildcats (Cimi (2)) vs. Oakland Golden Grizzlies (Luke (2))\tScore: 0 - 0\tStatus: TBD\n",
      "[2024-03-28 20:00:37,059 - bracket - INFO] Status update for event from TBD to STATUS_FINAL.\n",
      "Event #: 23\tFlorida Gators (Molloy (2)) vs. Colorado Buffaloes (Bobby + Derham (2))\tScore: 0 - 0\tStatus: TBD\n",
      "[2024-03-28 20:00:37,059 - bracket - INFO] Status update for event from TBD to STATUS_FINAL.\n",
      "Event #: 23\tFlorida Gators (Molloy (2)) vs. Colorado Buffaloes (Bobby + Derham (2))\tScore: 0 - 0\tStatus: TBD\n",
      "[2024-03-28 20:00:37,059 - bracket - INFO] Status update for event from TBD to STATUS_FINAL.\n",
      "Event #: 23\tFlorida Gators (Molloy (2)) vs. Colorado Buffaloes (Bobby + Derham (2))\tScore: 0 - 0\tStatus: TBD\n",
      "[2024-03-28 20:00:37,059 - bracket - INFO] Status update for event from TBD to STATUS_FINAL.\n",
      "Event #: 23\tFlorida Gators (Molloy (2)) vs. Colorado Buffaloes (Bobby + Derham (2))\tScore: 0 - 0\tStatus: TBD\n",
      "[2024-03-28 20:00:37,060 - bracket - INFO] Status update for event from TBD to STATUS_FINAL.\n",
      "Event #: 24\tMarquette Golden Eagles (Rob (2)) vs. Western Kentucky Hilltoppers (Mayer (2))\tScore: 0 - 0\tStatus: TBD\n",
      "[2024-03-28 20:00:37,060 - bracket - INFO] Status update for event from TBD to STATUS_FINAL.\n",
      "Event #: 24\tMarquette Golden Eagles (Rob (2)) vs. Western Kentucky Hilltoppers (Mayer (2))\tScore: 0 - 0\tStatus: TBD\n",
      "[2024-03-28 20:00:37,060 - bracket - INFO] Status update for event from TBD to STATUS_FINAL.\n",
      "Event #: 24\tMarquette Golden Eagles (Rob (2)) vs. Western Kentucky Hilltoppers (Mayer (2))\tScore: 0 - 0\tStatus: TBD\n",
      "[2024-03-28 20:00:37,060 - bracket - INFO] Status update for event from TBD to STATUS_FINAL.\n",
      "Event #: 24\tMarquette Golden Eagles (Rob (2)) vs. Western Kentucky Hilltoppers (Mayer (2))\tScore: 0 - 0\tStatus: TBD\n",
      "[2024-03-28 20:00:37,061 - bracket - INFO] Status update for event from TBD to STATUS_FINAL.\n",
      "Event #: 25\tPurdue Boilermakers (Brey (2)) vs. Grambling Tigers (Mike (2))\tScore: 0 - 0\tStatus: TBD\n",
      "[2024-03-28 20:00:37,061 - bracket - INFO] Status update for event from TBD to STATUS_FINAL.\n",
      "Event #: 25\tPurdue Boilermakers (Brey (2)) vs. Grambling Tigers (Mike (2))\tScore: 0 - 0\tStatus: TBD\n",
      "[2024-03-28 20:00:37,061 - bracket - INFO] Status update for event from TBD to STATUS_FINAL.\n",
      "Event #: 25\tPurdue Boilermakers (Brey (2)) vs. Grambling Tigers (Mike (2))\tScore: 0 - 0\tStatus: TBD\n",
      "[2024-03-28 20:00:37,061 - bracket - INFO] Status update for event from TBD to STATUS_FINAL.\n",
      "Event #: 25\tPurdue Boilermakers (Brey (2)) vs. Grambling Tigers (Mike (2))\tScore: 0 - 0\tStatus: TBD\n",
      "[2024-03-28 20:00:37,061 - bracket - INFO] Status update for event from TBD to STATUS_FINAL.\n",
      "Event #: 26\tUtah State Aggies (Big Mike (2)) vs. TCU Horned Frogs (Dana (2))\tScore: 0 - 0\tStatus: TBD\n",
      "[2024-03-28 20:00:37,061 - bracket - INFO] Status update for event from TBD to STATUS_FINAL.\n",
      "Event #: 26\tUtah State Aggies (Big Mike (2)) vs. TCU Horned Frogs (Dana (2))\tScore: 0 - 0\tStatus: TBD\n",
      "[2024-03-28 20:00:37,061 - bracket - INFO] Status update for event from TBD to STATUS_FINAL.\n",
      "Event #: 26\tUtah State Aggies (Big Mike (2)) vs. TCU Horned Frogs (Dana (2))\tScore: 0 - 0\tStatus: TBD\n",
      "[2024-03-28 20:00:37,061 - bracket - INFO] Status update for event from TBD to STATUS_FINAL.\n",
      "Event #: 26\tUtah State Aggies (Big Mike (2)) vs. TCU Horned Frogs (Dana (2))\tScore: 0 - 0\tStatus: TBD\n",
      "[2024-03-28 20:00:37,062 - bracket - INFO] Status update for event from TBD to STATUS_FINAL.\n",
      "Event #: 27\tGonzaga Bulldogs (Kurta (2)) vs. McNeese Cowboys (Germano (2))\tScore: 0 - 0\tStatus: TBD\n",
      "[2024-03-28 20:00:37,062 - bracket - INFO] Status update for event from TBD to STATUS_FINAL.\n",
      "Event #: 27\tGonzaga Bulldogs (Kurta (2)) vs. McNeese Cowboys (Germano (2))\tScore: 0 - 0\tStatus: TBD\n",
      "[2024-03-28 20:00:37,062 - bracket - INFO] Status update for event from TBD to STATUS_FINAL.\n",
      "Event #: 27\tGonzaga Bulldogs (Kurta (2)) vs. McNeese Cowboys (Germano (2))\tScore: 0 - 0\tStatus: TBD\n",
      "[2024-03-28 20:00:37,062 - bracket - INFO] Status update for event from TBD to STATUS_FINAL.\n",
      "Event #: 27\tGonzaga Bulldogs (Kurta (2)) vs. McNeese Cowboys (Germano (2))\tScore: 0 - 0\tStatus: TBD\n",
      "[2024-03-28 20:00:37,063 - bracket - INFO] Status update for event from TBD to STATUS_FINAL.\n",
      "Event #: 28\tKansas Jayhawks (Keav (2)) vs. Samford Bulldogs (Raggio (2))\tScore: 0 - 0\tStatus: TBD\n",
      "[2024-03-28 20:00:37,063 - bracket - INFO] Status update for event from TBD to STATUS_FINAL.\n",
      "Event #: 28\tKansas Jayhawks (Keav (2)) vs. Samford Bulldogs (Raggio (2))\tScore: 0 - 0\tStatus: TBD\n",
      "[2024-03-28 20:00:37,063 - bracket - INFO] Status update for event from TBD to STATUS_FINAL.\n",
      "Event #: 28\tKansas Jayhawks (Keav (2)) vs. Samford Bulldogs (Raggio (2))\tScore: 0 - 0\tStatus: TBD\n",
      "[2024-03-28 20:00:37,063 - bracket - INFO] Status update for event from TBD to STATUS_FINAL.\n",
      "Event #: 28\tKansas Jayhawks (Keav (2)) vs. Samford Bulldogs (Raggio (2))\tScore: 0 - 0\tStatus: TBD\n",
      "[2024-03-28 20:00:37,064 - bracket - INFO] Status update for event from TBD to STATUS_FINAL.\n",
      "Event #: 29\tSouth Carolina Gamecocks (Aaron (2)) vs. Oregon Ducks (Healy (2))\tScore: 0 - 0\tStatus: TBD\n",
      "[2024-03-28 20:00:37,064 - bracket - INFO] Status update for event from TBD to STATUS_FINAL.\n",
      "Event #: 29\tSouth Carolina Gamecocks (Aaron (2)) vs. Oregon Ducks (Healy (2))\tScore: 0 - 0\tStatus: TBD\n",
      "[2024-03-28 20:00:37,064 - bracket - INFO] Status update for event from TBD to STATUS_FINAL.\n",
      "Event #: 29\tSouth Carolina Gamecocks (Aaron (2)) vs. Oregon Ducks (Healy (2))\tScore: 0 - 0\tStatus: TBD\n",
      "[2024-03-28 20:00:37,064 - bracket - INFO] Status update for event from TBD to STATUS_FINAL.\n",
      "Event #: 29\tSouth Carolina Gamecocks (Aaron (2)) vs. Oregon Ducks (Healy (2))\tScore: 0 - 0\tStatus: TBD\n",
      "[2024-03-28 20:00:37,064 - bracket - INFO] Status update for event from TBD to STATUS_FINAL.\n",
      "Event #: 30\tCreighton Bluejays (F-Cup (2)) vs. Akron Zips (Combs (2))\tScore: 0 - 0\tStatus: TBD\n",
      "[2024-03-28 20:00:37,064 - bracket - INFO] Status update for event from TBD to STATUS_FINAL.\n",
      "Event #: 30\tCreighton Bluejays (F-Cup (2)) vs. Akron Zips (Combs (2))\tScore: 0 - 0\tStatus: TBD\n",
      "[2024-03-28 20:00:37,064 - bracket - INFO] Status update for event from TBD to STATUS_FINAL.\n",
      "Event #: 30\tCreighton Bluejays (F-Cup (2)) vs. Akron Zips (Combs (2))\tScore: 0 - 0\tStatus: TBD\n",
      "[2024-03-28 20:00:37,064 - bracket - INFO] Status update for event from TBD to STATUS_FINAL.\n",
      "Event #: 30\tCreighton Bluejays (F-Cup (2)) vs. Akron Zips (Combs (2))\tScore: 0 - 0\tStatus: TBD\n",
      "[2024-03-28 20:00:37,065 - bracket - INFO] Status update for event from TBD to STATUS_FINAL.\n",
      "Event #: 31\tTexas Longhorns (Leff (2)) vs. Colorado State Rams (Peralo (2))\tScore: 0 - 0\tStatus: TBD\n",
      "[2024-03-28 20:00:37,065 - bracket - INFO] Status update for event from TBD to STATUS_FINAL.\n",
      "Event #: 31\tTexas Longhorns (Leff (2)) vs. Colorado State Rams (Peralo (2))\tScore: 0 - 0\tStatus: TBD\n",
      "[2024-03-28 20:00:37,065 - bracket - INFO] Status update for event from TBD to STATUS_FINAL.\n",
      "Event #: 31\tTexas Longhorns (Leff (2)) vs. Colorado State Rams (Peralo (2))\tScore: 0 - 0\tStatus: TBD\n",
      "[2024-03-28 20:00:37,065 - bracket - INFO] Status update for event from TBD to STATUS_FINAL.\n",
      "Event #: 31\tTexas Longhorns (Leff (2)) vs. Colorado State Rams (Peralo (2))\tScore: 0 - 0\tStatus: TBD\n",
      "[2024-03-28 20:00:37,066 - bracket - INFO] Status update for event from TBD to STATUS_FINAL.\n",
      "Event #: 32\tTennessee Volunteers (Nicolai (2)) vs. Saint Peter's Peacocks (Brandon (2))\tScore: 0 - 0\tStatus: TBD\n",
      "[2024-03-28 20:00:37,066 - bracket - INFO] Status update for event from TBD to STATUS_FINAL.\n",
      "Event #: 32\tTennessee Volunteers (Nicolai (2)) vs. Saint Peter's Peacocks (Brandon (2))\tScore: 0 - 0\tStatus: TBD\n",
      "[2024-03-28 20:00:37,066 - bracket - INFO] Status update for event from TBD to STATUS_FINAL.\n",
      "Event #: 32\tTennessee Volunteers (Nicolai (2)) vs. Saint Peter's Peacocks (Brandon (2))\tScore: 0 - 0\tStatus: TBD\n",
      "[2024-03-28 20:00:37,066 - bracket - INFO] Status update for event from TBD to STATUS_FINAL.\n",
      "Event #: 32\tTennessee Volunteers (Nicolai (2)) vs. Saint Peter's Peacocks (Brandon (2))\tScore: 0 - 0\tStatus: TBD\n",
      "[2024-03-28 20:00:37,066 - bracket - INFO] Status update for event from TBD to STATUS_FINAL.\n",
      "Event #: 33\tUConn Huskies (Scott) vs. Northwestern Wildcats (John + Tyler)\tScore: 0 - 0\tStatus: TBD\n",
      "[2024-03-28 20:00:37,066 - bracket - INFO] Status update for event from TBD to STATUS_FINAL.\n",
      "Event #: 33\tUConn Huskies (Scott) vs. Northwestern Wildcats (John + Tyler)\tScore: 0 - 0\tStatus: TBD\n",
      "[2024-03-28 20:00:37,066 - bracket - INFO] Status update for event from TBD to STATUS_FINAL.\n",
      "Event #: 33\tUConn Huskies (Scott) vs. Northwestern Wildcats (John + Tyler)\tScore: 0 - 0\tStatus: TBD\n",
      "[2024-03-28 20:00:37,066 - bracket - INFO] Status update for event from TBD to STATUS_FINAL.\n",
      "Event #: 33\tUConn Huskies (Scott) vs. Northwestern Wildcats (John + Tyler)\tScore: 0 - 0\tStatus: TBD\n",
      "[2024-03-28 20:00:37,067 - bracket - INFO] Status update for event from TBD to STATUS_FINAL.\n",
      "Event #: 34\tSan Diego State Aztecs (Eddie) vs. Yale Bulldogs (Bobby + Derham)\tScore: 0 - 0\tStatus: TBD\n",
      "[2024-03-28 20:00:37,067 - bracket - INFO] Status update for event from TBD to STATUS_FINAL.\n",
      "Event #: 34\tSan Diego State Aztecs (Eddie) vs. Yale Bulldogs (Bobby + Derham)\tScore: 0 - 0\tStatus: TBD\n",
      "[2024-03-28 20:00:37,067 - bracket - INFO] Status update for event from TBD to STATUS_FINAL.\n",
      "Event #: 34\tSan Diego State Aztecs (Eddie) vs. Yale Bulldogs (Bobby + Derham)\tScore: 0 - 0\tStatus: TBD\n",
      "[2024-03-28 20:00:37,067 - bracket - INFO] Status update for event from TBD to STATUS_FINAL.\n",
      "Event #: 34\tSan Diego State Aztecs (Eddie) vs. Yale Bulldogs (Bobby + Derham)\tScore: 0 - 0\tStatus: TBD\n",
      "[2024-03-28 20:00:37,068 - bracket - INFO] Status update for event from TBD to STATUS_FINAL.\n",
      "Event #: 35\tDuquesne Dukes (Dillon) vs. Illinois Fighting Illini (Keav)\tScore: 0 - 0\tStatus: TBD\n",
      "[2024-03-28 20:00:37,068 - bracket - INFO] Status update for event from TBD to STATUS_FINAL.\n",
      "Event #: 35\tDuquesne Dukes (Dillon) vs. Illinois Fighting Illini (Keav)\tScore: 0 - 0\tStatus: TBD\n",
      "[2024-03-28 20:00:37,068 - bracket - INFO] Status update for event from TBD to STATUS_FINAL.\n",
      "Event #: 35\tDuquesne Dukes (Dillon) vs. Illinois Fighting Illini (Keav)\tScore: 0 - 0\tStatus: TBD\n",
      "[2024-03-28 20:00:37,068 - bracket - INFO] Status update for event from TBD to STATUS_FINAL.\n",
      "Event #: 35\tDuquesne Dukes (Dillon) vs. Illinois Fighting Illini (Keav)\tScore: 0 - 0\tStatus: TBD\n",
      "[2024-03-28 20:00:37,069 - bracket - INFO] Status update for event from TBD to STATUS_FINAL.\n",
      "Event #: 36\tWashington State Cougars (Mayer) vs. Iowa State Cyclones (Brandon)\tScore: 0 - 0\tStatus: TBD\n",
      "[2024-03-28 20:00:37,069 - bracket - INFO] Status update for event from TBD to STATUS_FINAL.\n",
      "Event #: 36\tWashington State Cougars (Mayer) vs. Iowa State Cyclones (Brandon)\tScore: 0 - 0\tStatus: TBD\n",
      "[2024-03-28 20:00:37,069 - bracket - INFO] Status update for event from TBD to STATUS_FINAL.\n",
      "Event #: 36\tWashington State Cougars (Mayer) vs. Iowa State Cyclones (Brandon)\tScore: 0 - 0\tStatus: TBD\n",
      "[2024-03-28 20:00:37,069 - bracket - INFO] Status update for event from TBD to STATUS_FINAL.\n",
      "Event #: 36\tWashington State Cougars (Mayer) vs. Iowa State Cyclones (Brandon)\tScore: 0 - 0\tStatus: TBD\n",
      "[2024-03-28 20:00:37,069 - bracket - INFO] Status update for event from TBD to STATUS_FINAL.\n",
      "Event #: 37\tNorth Carolina Tar Heels (Big Mike) vs. Michigan State Spartans (Germano)\tScore: 0 - 0\tStatus: TBD\n",
      "[2024-03-28 20:00:37,069 - bracket - INFO] Status update for event from TBD to STATUS_FINAL.\n",
      "Event #: 37\tNorth Carolina Tar Heels (Big Mike) vs. Michigan State Spartans (Germano)\tScore: 0 - 0\tStatus: TBD\n",
      "[2024-03-28 20:00:37,069 - bracket - INFO] Status update for event from TBD to STATUS_FINAL.\n",
      "Event #: 37\tNorth Carolina Tar Heels (Big Mike) vs. Michigan State Spartans (Germano)\tScore: 0 - 0\tStatus: TBD\n",
      "[2024-03-28 20:00:37,069 - bracket - INFO] Status update for event from TBD to STATUS_FINAL.\n",
      "Event #: 37\tNorth Carolina Tar Heels (Big Mike) vs. Michigan State Spartans (Germano)\tScore: 0 - 0\tStatus: TBD\n",
      "[2024-03-28 20:00:37,070 - bracket - INFO] Status update for event from TBD to STATUS_FINAL.\n",
      "Event #: 38\tGrand Canyon Lopes (Becker) vs. Alabama Crimson Tide (Dana)\tScore: 0 - 0\tStatus: TBD\n",
      "[2024-03-28 20:00:37,070 - bracket - INFO] Status update for event from TBD to STATUS_FINAL.\n",
      "Event #: 38\tGrand Canyon Lopes (Becker) vs. Alabama Crimson Tide (Dana)\tScore: 0 - 0\tStatus: TBD\n",
      "[2024-03-28 20:00:37,070 - bracket - INFO] Status update for event from TBD to STATUS_FINAL.\n",
      "Event #: 38\tGrand Canyon Lopes (Becker) vs. Alabama Crimson Tide (Dana)\tScore: 0 - 0\tStatus: TBD\n",
      "[2024-03-28 20:00:37,070 - bracket - INFO] Status update for event from TBD to STATUS_FINAL.\n",
      "Event #: 38\tGrand Canyon Lopes (Becker) vs. Alabama Crimson Tide (Dana)\tScore: 0 - 0\tStatus: TBD\n",
      "[2024-03-28 20:00:37,071 - bracket - INFO] Status update for event from TBD to STATUS_FINAL.\n",
      "Event #: 39\tClemson Tigers (Rosa) vs. Baylor Bears (Cimi)\tScore: 0 - 0\tStatus: TBD\n",
      "[2024-03-28 20:00:37,071 - bracket - INFO] Status update for event from TBD to STATUS_FINAL.\n",
      "Event #: 39\tClemson Tigers (Rosa) vs. Baylor Bears (Cimi)\tScore: 0 - 0\tStatus: TBD\n",
      "[2024-03-28 20:00:37,071 - bracket - INFO] Status update for event from TBD to STATUS_FINAL.\n",
      "Event #: 39\tClemson Tigers (Rosa) vs. Baylor Bears (Cimi)\tScore: 0 - 0\tStatus: TBD\n",
      "[2024-03-28 20:00:37,071 - bracket - INFO] Status update for event from TBD to STATUS_FINAL.\n",
      "Event #: 39\tClemson Tigers (Rosa) vs. Baylor Bears (Cimi)\tScore: 0 - 0\tStatus: TBD\n",
      "[2024-03-28 20:00:37,071 - bracket - INFO] Status update for event from TBD to STATUS_FINAL.\n",
      "Event #: 40\tDayton Flyers (Healy) vs. Arizona Wildcats (Kurta)\tScore: 0 - 0\tStatus: TBD\n",
      "[2024-03-28 20:00:37,071 - bracket - INFO] Status update for event from TBD to STATUS_FINAL.\n",
      "Event #: 40\tDayton Flyers (Healy) vs. Arizona Wildcats (Kurta)\tScore: 0 - 0\tStatus: TBD\n",
      "[2024-03-28 20:00:37,071 - bracket - INFO] Status update for event from TBD to STATUS_FINAL.\n",
      "Event #: 40\tDayton Flyers (Healy) vs. Arizona Wildcats (Kurta)\tScore: 0 - 0\tStatus: TBD\n",
      "[2024-03-28 20:00:37,071 - bracket - INFO] Status update for event from TBD to STATUS_FINAL.\n",
      "Event #: 40\tDayton Flyers (Healy) vs. Arizona Wildcats (Kurta)\tScore: 0 - 0\tStatus: TBD\n",
      "[2024-03-28 20:00:37,072 - bracket - INFO] Status update for event from TBD to STATUS_FINAL.\n",
      "Event #: 41\tHouston Cougars (Dillon (2)) vs. Texas A&M Aggies (Gateson (2))\tScore: 0 - 0\tStatus: TBD\n",
      "[2024-03-28 20:00:37,072 - bracket - INFO] Status update for event from TBD to STATUS_FINAL.\n",
      "Event #: 41\tHouston Cougars (Dillon (2)) vs. Texas A&M Aggies (Gateson (2))\tScore: 0 - 0\tStatus: TBD\n",
      "[2024-03-28 20:00:37,072 - bracket - INFO] Status update for event from TBD to STATUS_FINAL.\n",
      "Event #: 41\tHouston Cougars (Dillon (2)) vs. Texas A&M Aggies (Gateson (2))\tScore: 0 - 0\tStatus: TBD\n",
      "[2024-03-28 20:00:37,072 - bracket - INFO] Status update for event from TBD to STATUS_FINAL.\n",
      "Event #: 41\tHouston Cougars (Dillon (2)) vs. Texas A&M Aggies (Gateson (2))\tScore: 0 - 0\tStatus: TBD\n",
      "[2024-03-28 20:00:37,073 - bracket - INFO] Status update for event from TBD to STATUS_FINAL.\n",
      "Event #: 42\tJames Madison Dukes (Katz (2)) vs. Duke Blue Devils (Scott (2))\tScore: 0 - 0\tStatus: TBD\n",
      "[2024-03-28 20:00:37,073 - bracket - INFO] Status update for event from TBD to STATUS_FINAL.\n",
      "Event #: 42\tJames Madison Dukes (Katz (2)) vs. Duke Blue Devils (Scott (2))\tScore: 0 - 0\tStatus: TBD\n",
      "[2024-03-28 20:00:37,073 - bracket - INFO] Status update for event from TBD to STATUS_FINAL.\n",
      "Event #: 42\tJames Madison Dukes (Katz (2)) vs. Duke Blue Devils (Scott (2))\tScore: 0 - 0\tStatus: TBD\n",
      "[2024-03-28 20:00:37,073 - bracket - INFO] Status update for event from TBD to STATUS_FINAL.\n",
      "Event #: 42\tJames Madison Dukes (Katz (2)) vs. Duke Blue Devils (Scott (2))\tScore: 0 - 0\tStatus: TBD\n",
      "[2024-03-28 20:00:37,074 - bracket - INFO] Status update for event from TBD to STATUS_FINAL.\n",
      "Event #: 43\tNC State Wolfpack (Rosa (2)) vs. Oakland Golden Grizzlies (Luke (2))\tScore: 0 - 0\tStatus: TBD\n",
      "[2024-03-28 20:00:37,074 - bracket - INFO] Status update for event from TBD to STATUS_FINAL.\n",
      "Event #: 43\tNC State Wolfpack (Rosa (2)) vs. Oakland Golden Grizzlies (Luke (2))\tScore: 0 - 0\tStatus: TBD\n",
      "[2024-03-28 20:00:37,074 - bracket - INFO] Status update for event from TBD to STATUS_FINAL.\n",
      "Event #: 43\tNC State Wolfpack (Rosa (2)) vs. Oakland Golden Grizzlies (Luke (2))\tScore: 0 - 0\tStatus: TBD\n",
      "[2024-03-28 20:00:37,074 - bracket - INFO] Status update for event from TBD to STATUS_FINAL.\n",
      "Event #: 43\tNC State Wolfpack (Rosa (2)) vs. Oakland Golden Grizzlies (Luke (2))\tScore: 0 - 0\tStatus: TBD\n",
      "[2024-03-28 20:00:37,074 - bracket - INFO] Status update for event from TBD to STATUS_FINAL.\n",
      "Event #: 44\tColorado Buffaloes (Bobby + Derham (2)) vs. Marquette Golden Eagles (Rob (2))\tScore: 0 - 0\tStatus: TBD\n",
      "[2024-03-28 20:00:37,074 - bracket - INFO] Status update for event from TBD to STATUS_FINAL.\n",
      "Event #: 44\tColorado Buffaloes (Bobby + Derham (2)) vs. Marquette Golden Eagles (Rob (2))\tScore: 0 - 0\tStatus: TBD\n",
      "[2024-03-28 20:00:37,074 - bracket - INFO] Status update for event from TBD to STATUS_FINAL.\n",
      "Event #: 44\tColorado Buffaloes (Bobby + Derham (2)) vs. Marquette Golden Eagles (Rob (2))\tScore: 0 - 0\tStatus: TBD\n",
      "[2024-03-28 20:00:37,074 - bracket - INFO] Status update for event from TBD to STATUS_FINAL.\n",
      "Event #: 44\tColorado Buffaloes (Bobby + Derham (2)) vs. Marquette Golden Eagles (Rob (2))\tScore: 0 - 0\tStatus: TBD\n",
      "[2024-03-28 20:00:37,075 - bracket - INFO] Status update for event from TBD to STATUS_FINAL.\n",
      "Event #: 45\tPurdue Boilermakers (Brey (2)) vs. Utah State Aggies (Big Mike (2))\tScore: 0 - 0\tStatus: TBD\n",
      "[2024-03-28 20:00:37,075 - bracket - INFO] Status update for event from TBD to STATUS_FINAL.\n",
      "Event #: 45\tPurdue Boilermakers (Brey (2)) vs. Utah State Aggies (Big Mike (2))\tScore: 0 - 0\tStatus: TBD\n",
      "[2024-03-28 20:00:37,075 - bracket - INFO] Status update for event from TBD to STATUS_FINAL.\n",
      "Event #: 45\tPurdue Boilermakers (Brey (2)) vs. Utah State Aggies (Big Mike (2))\tScore: 0 - 0\tStatus: TBD\n",
      "[2024-03-28 20:00:37,075 - bracket - INFO] Status update for event from TBD to STATUS_FINAL.\n",
      "Event #: 45\tPurdue Boilermakers (Brey (2)) vs. Utah State Aggies (Big Mike (2))\tScore: 0 - 0\tStatus: TBD\n",
      "[2024-03-28 20:00:37,076 - bracket - INFO] Status update for event from TBD to STATUS_FINAL.\n",
      "Event #: 46\tGonzaga Bulldogs (Kurta (2)) vs. Kansas Jayhawks (Keav (2))\tScore: 0 - 0\tStatus: TBD\n",
      "[2024-03-28 20:00:37,076 - bracket - INFO] Status update for event from TBD to STATUS_FINAL.\n",
      "Event #: 46\tGonzaga Bulldogs (Kurta (2)) vs. Kansas Jayhawks (Keav (2))\tScore: 0 - 0\tStatus: TBD\n",
      "[2024-03-28 20:00:37,076 - bracket - INFO] Status update for event from TBD to STATUS_FINAL.\n",
      "Event #: 46\tGonzaga Bulldogs (Kurta (2)) vs. Kansas Jayhawks (Keav (2))\tScore: 0 - 0\tStatus: TBD\n",
      "[2024-03-28 20:00:37,076 - bracket - INFO] Status update for event from TBD to STATUS_FINAL.\n",
      "Event #: 46\tGonzaga Bulldogs (Kurta (2)) vs. Kansas Jayhawks (Keav (2))\tScore: 0 - 0\tStatus: TBD\n",
      "[2024-03-28 20:00:37,077 - bracket - INFO] Status update for event from TBD to STATUS_FINAL.\n",
      "Event #: 47\tOregon Ducks (Healy (2)) vs. Creighton Bluejays (F-Cup (2))\tScore: 0 - 0\tStatus: TBD\n",
      "[2024-03-28 20:00:37,077 - bracket - INFO] Status update for event from TBD to STATUS_FINAL.\n",
      "Event #: 47\tOregon Ducks (Healy (2)) vs. Creighton Bluejays (F-Cup (2))\tScore: 0 - 0\tStatus: TBD\n",
      "[2024-03-28 20:00:37,077 - bracket - INFO] Status update for event from TBD to STATUS_FINAL.\n",
      "Event #: 47\tOregon Ducks (Healy (2)) vs. Creighton Bluejays (F-Cup (2))\tScore: 0 - 0\tStatus: TBD\n",
      "[2024-03-28 20:00:37,077 - bracket - INFO] Status update for event from TBD to STATUS_FINAL.\n",
      "Event #: 47\tOregon Ducks (Healy (2)) vs. Creighton Bluejays (F-Cup (2))\tScore: 0 - 0\tStatus: TBD\n",
      "[2024-03-28 20:00:37,077 - bracket - INFO] Status update for event from TBD to STATUS_FINAL.\n",
      "Event #: 48\tTexas Longhorns (Leff (2)) vs. Tennessee Volunteers (Nicolai (2))\tScore: 0 - 0\tStatus: TBD\n",
      "[2024-03-28 20:00:37,077 - bracket - INFO] Status update for event from TBD to STATUS_FINAL.\n",
      "Event #: 48\tTexas Longhorns (Leff (2)) vs. Tennessee Volunteers (Nicolai (2))\tScore: 0 - 0\tStatus: TBD\n",
      "[2024-03-28 20:00:37,077 - bracket - INFO] Status update for event from TBD to STATUS_FINAL.\n",
      "Event #: 48\tTexas Longhorns (Leff (2)) vs. Tennessee Volunteers (Nicolai (2))\tScore: 0 - 0\tStatus: TBD\n",
      "[2024-03-28 20:00:37,077 - bracket - INFO] Status update for event from TBD to STATUS_FINAL.\n",
      "Event #: 48\tTexas Longhorns (Leff (2)) vs. Tennessee Volunteers (Nicolai (2))\tScore: 0 - 0\tStatus: TBD\n",
      "[2024-03-28 20:00:37,078 - bracket - INFO] Status update for event from TBD to STATUS_SCHEDULED.\n",
      "Event #: 49\tUConn Huskies (Scott) vs. San Diego State Aztecs (Eddie)\tScore: 0 - 0\tStatus: TBD\n",
      "[2024-03-28 20:00:37,078 - bracket - INFO] Status update for event from TBD to STATUS_SCHEDULED.\n",
      "Event #: 49\tUConn Huskies (Scott) vs. San Diego State Aztecs (Eddie)\tScore: 0 - 0\tStatus: TBD\n",
      "[2024-03-28 20:00:37,078 - bracket - INFO] Status update for event from TBD to STATUS_SCHEDULED.\n",
      "Event #: 49\tUConn Huskies (Scott) vs. San Diego State Aztecs (Eddie)\tScore: 0 - 0\tStatus: TBD\n",
      "[2024-03-28 20:00:37,078 - bracket - INFO] Status update for event from TBD to STATUS_SCHEDULED.\n",
      "Event #: 49\tUConn Huskies (Scott) vs. San Diego State Aztecs (Eddie)\tScore: 0 - 0\tStatus: TBD\n",
      "[2024-03-28 20:00:37,079 - bracket - INFO] Status update for event from TBD to STATUS_SCHEDULED.\n",
      "Event #: 50\tIllinois Fighting Illini (Keav) vs. Iowa State Cyclones (Brandon)\tScore: 0 - 0\tStatus: TBD\n",
      "[2024-03-28 20:00:37,079 - bracket - INFO] Status update for event from TBD to STATUS_SCHEDULED.\n",
      "Event #: 50\tIllinois Fighting Illini (Keav) vs. Iowa State Cyclones (Brandon)\tScore: 0 - 0\tStatus: TBD\n",
      "[2024-03-28 20:00:37,079 - bracket - INFO] Status update for event from TBD to STATUS_SCHEDULED.\n",
      "Event #: 50\tIllinois Fighting Illini (Keav) vs. Iowa State Cyclones (Brandon)\tScore: 0 - 0\tStatus: TBD\n",
      "[2024-03-28 20:00:37,079 - bracket - INFO] Status update for event from TBD to STATUS_SCHEDULED.\n",
      "Event #: 50\tIllinois Fighting Illini (Keav) vs. Iowa State Cyclones (Brandon)\tScore: 0 - 0\tStatus: TBD\n",
      "[2024-03-28 20:00:37,079 - bracket - INFO] Status update for event from TBD to STATUS_SCHEDULED.\n",
      "Event #: 51\tNorth Carolina Tar Heels (Big Mike) vs. Alabama Crimson Tide (Dana)\tScore: 0 - 0\tStatus: TBD\n",
      "[2024-03-28 20:00:37,079 - bracket - INFO] Status update for event from TBD to STATUS_SCHEDULED.\n",
      "Event #: 51\tNorth Carolina Tar Heels (Big Mike) vs. Alabama Crimson Tide (Dana)\tScore: 0 - 0\tStatus: TBD\n",
      "[2024-03-28 20:00:37,079 - bracket - INFO] Status update for event from TBD to STATUS_SCHEDULED.\n",
      "Event #: 51\tNorth Carolina Tar Heels (Big Mike) vs. Alabama Crimson Tide (Dana)\tScore: 0 - 0\tStatus: TBD\n",
      "[2024-03-28 20:00:37,079 - bracket - INFO] Status update for event from TBD to STATUS_SCHEDULED.\n",
      "Event #: 51\tNorth Carolina Tar Heels (Big Mike) vs. Alabama Crimson Tide (Dana)\tScore: 0 - 0\tStatus: TBD\n",
      "[2024-03-28 20:00:37,080 - bracket - INFO] Status update for event from TBD to STATUS_SCHEDULED.\n",
      "Event #: 52\tClemson Tigers (Rosa) vs. Arizona Wildcats (Kurta)\tScore: 0 - 0\tStatus: TBD\n",
      "[2024-03-28 20:00:37,080 - bracket - INFO] Status update for event from TBD to STATUS_SCHEDULED.\n",
      "Event #: 52\tClemson Tigers (Rosa) vs. Arizona Wildcats (Kurta)\tScore: 0 - 0\tStatus: TBD\n",
      "[2024-03-28 20:00:37,080 - bracket - INFO] Status update for event from TBD to STATUS_SCHEDULED.\n",
      "Event #: 52\tClemson Tigers (Rosa) vs. Arizona Wildcats (Kurta)\tScore: 0 - 0\tStatus: TBD\n",
      "[2024-03-28 20:00:37,080 - bracket - INFO] Status update for event from TBD to STATUS_SCHEDULED.\n",
      "Event #: 52\tClemson Tigers (Rosa) vs. Arizona Wildcats (Kurta)\tScore: 0 - 0\tStatus: TBD\n",
      "[2024-03-28 20:00:37,081 - bracket - INFO] Status update for event from TBD to STATUS_SCHEDULED.\n",
      "Event #: 53\tHouston Cougars (Dillon (2)) vs. Duke Blue Devils (Scott (2))\tScore: 0 - 0\tStatus: TBD\n",
      "[2024-03-28 20:00:37,081 - bracket - INFO] Status update for event from TBD to STATUS_SCHEDULED.\n",
      "Event #: 53\tHouston Cougars (Dillon (2)) vs. Duke Blue Devils (Scott (2))\tScore: 0 - 0\tStatus: TBD\n",
      "[2024-03-28 20:00:37,081 - bracket - INFO] Status update for event from TBD to STATUS_SCHEDULED.\n",
      "Event #: 53\tHouston Cougars (Dillon (2)) vs. Duke Blue Devils (Scott (2))\tScore: 0 - 0\tStatus: TBD\n",
      "[2024-03-28 20:00:37,081 - bracket - INFO] Status update for event from TBD to STATUS_SCHEDULED.\n",
      "Event #: 53\tHouston Cougars (Dillon (2)) vs. Duke Blue Devils (Scott (2))\tScore: 0 - 0\tStatus: TBD\n",
      "[2024-03-28 20:00:37,081 - bracket - INFO] Status update for event from TBD to STATUS_SCHEDULED.\n",
      "Event #: 54\tNC State Wolfpack (Rosa (2)) vs. Marquette Golden Eagles (Rob (2))\tScore: 0 - 0\tStatus: TBD\n",
      "[2024-03-28 20:00:37,081 - bracket - INFO] Status update for event from TBD to STATUS_SCHEDULED.\n",
      "Event #: 54\tNC State Wolfpack (Rosa (2)) vs. Marquette Golden Eagles (Rob (2))\tScore: 0 - 0\tStatus: TBD\n",
      "[2024-03-28 20:00:37,081 - bracket - INFO] Status update for event from TBD to STATUS_SCHEDULED.\n",
      "Event #: 54\tNC State Wolfpack (Rosa (2)) vs. Marquette Golden Eagles (Rob (2))\tScore: 0 - 0\tStatus: TBD\n",
      "[2024-03-28 20:00:37,081 - bracket - INFO] Status update for event from TBD to STATUS_SCHEDULED.\n",
      "Event #: 54\tNC State Wolfpack (Rosa (2)) vs. Marquette Golden Eagles (Rob (2))\tScore: 0 - 0\tStatus: TBD\n",
      "[2024-03-28 20:00:37,082 - bracket - INFO] Status update for event from TBD to STATUS_SCHEDULED.\n",
      "Event #: 55\tPurdue Boilermakers (Brey (2)) vs. Gonzaga Bulldogs (Kurta (2))\tScore: 0 - 0\tStatus: TBD\n",
      "[2024-03-28 20:00:37,082 - bracket - INFO] Status update for event from TBD to STATUS_SCHEDULED.\n",
      "Event #: 55\tPurdue Boilermakers (Brey (2)) vs. Gonzaga Bulldogs (Kurta (2))\tScore: 0 - 0\tStatus: TBD\n",
      "[2024-03-28 20:00:37,082 - bracket - INFO] Status update for event from TBD to STATUS_SCHEDULED.\n",
      "Event #: 55\tPurdue Boilermakers (Brey (2)) vs. Gonzaga Bulldogs (Kurta (2))\tScore: 0 - 0\tStatus: TBD\n",
      "[2024-03-28 20:00:37,082 - bracket - INFO] Status update for event from TBD to STATUS_SCHEDULED.\n",
      "Event #: 55\tPurdue Boilermakers (Brey (2)) vs. Gonzaga Bulldogs (Kurta (2))\tScore: 0 - 0\tStatus: TBD\n",
      "[2024-03-28 20:00:37,083 - bracket - INFO] Status update for event from TBD to STATUS_SCHEDULED.\n",
      "Event #: 56\tCreighton Bluejays (F-Cup (2)) vs. Tennessee Volunteers (Nicolai (2))\tScore: 0 - 0\tStatus: TBD\n",
      "[2024-03-28 20:00:37,083 - bracket - INFO] Status update for event from TBD to STATUS_SCHEDULED.\n",
      "Event #: 56\tCreighton Bluejays (F-Cup (2)) vs. Tennessee Volunteers (Nicolai (2))\tScore: 0 - 0\tStatus: TBD\n",
      "[2024-03-28 20:00:37,083 - bracket - INFO] Status update for event from TBD to STATUS_SCHEDULED.\n",
      "Event #: 56\tCreighton Bluejays (F-Cup (2)) vs. Tennessee Volunteers (Nicolai (2))\tScore: 0 - 0\tStatus: TBD\n",
      "[2024-03-28 20:00:37,083 - bracket - INFO] Status update for event from TBD to STATUS_SCHEDULED.\n",
      "Event #: 56\tCreighton Bluejays (F-Cup (2)) vs. Tennessee Volunteers (Nicolai (2))\tScore: 0 - 0\tStatus: TBD\n"
     ]
    }
   ],
   "source": [
    "bracket.pre_populate_events()"
   ]
  },
  {
   "cell_type": "code",
   "execution_count": 97,
   "metadata": {},
   "outputs": [],
   "source": [
    "events_by_round = bracket.to_events_by_round()"
   ]
  },
  {
   "cell_type": "code",
   "execution_count": 67,
   "metadata": {},
   "outputs": [],
   "source": [
    "# espn_name_to_odds_name = {}"
   ]
  },
  {
   "cell_type": "code",
   "execution_count": 68,
   "metadata": {},
   "outputs": [],
   "source": [
    "# def espn_team_to_odds_team(game, event):\n",
    "#     def teams_match(team1, team2):\n",
    "#         if team1 == team2:\n",
    "#             return True\n",
    "#         team1_words = team1.lower().split()\n",
    "#         team2_words = team2.lower().split()\n",
    "#         if all(\n",
    "#             [\n",
    "#                 any(word1 in word2 for word2 in team2_words)\n",
    "#                 for word1 in team1_words\n",
    "#             ]\n",
    "#         ):\n",
    "#             return True\n",
    "#         if all(\n",
    "#             [\n",
    "#                 any(word2 in word1 for word1 in team1_words)\n",
    "#                 for word2 in team2_words\n",
    "#             ]\n",
    "#         ):\n",
    "#             return True\n",
    "#         return False\n",
    "#     if teams_match(game['home_team'], event.home_participant.team.name):\n",
    "#         # ensure away matches away\n",
    "#         if teams_match(game['away_team'], event.away_participant.team.name):\n",
    "#             espn_name_to_odds_name[event.home_participant.team.name] = game['home_team']\n",
    "#             espn_name_to_odds_name[event.away_participant.team.name] = game['away_team']\n",
    "#             return {\n",
    "#                 event.home_participant.team.name: game['home_team'],\n",
    "#                 event.away_participant.team.name: game['away_team'],\n",
    "#             }\n",
    "#     # away team matches home team\n",
    "#     if teams_match(game['away_team'], event.home_participant.team.name):\n",
    "#         # ensure away matches home\n",
    "#         if teams_match(game['home_team'], event.away_participant.team.name):\n",
    "#             espn_name_to_odds_name[event.home_participant.team.name] = game['away_team']\n",
    "#             espn_name_to_odds_name[event.away_participant.team.name] = game['home_team']\n",
    "#             return {\n",
    "#                 event.home_participant.team.name: game['away_team'],\n",
    "#                 event.away_participant.team.name: game['home_team'],\n",
    "#             }\n",
    "#     return {}"
   ]
  },
  {
   "cell_type": "code",
   "execution_count": 88,
   "metadata": {},
   "outputs": [],
   "source": [
    "def team_match(game, event):\n",
    "    if game['home_team'] == event.home_participant.team.odds_api_name:\n",
    "        # ensure away matches away\n",
    "        if game['away_team'] == event.away_participant.team.odds_api_name:\n",
    "            return True\n",
    "    # away team matches home team\n",
    "    if game['away_team'] == event.home_participant.team.odds_api_name:\n",
    "        # ensure away matches home\n",
    "        if game['home_team'] == event.away_participant.team.odds_api_name:\n",
    "            return True\n",
    "    return False"
   ]
  },
  {
   "cell_type": "code",
   "execution_count": 127,
   "metadata": {},
   "outputs": [
    {
     "data": {
      "text/plain": [
       "{\"Saint Peter's Peacocks\": 22.0, 'Tennessee Volunteers': -22.0}"
      ]
     },
     "execution_count": 127,
     "metadata": {},
     "output_type": "execute_result"
    }
   ],
   "source": [
    "get_spread(s)"
   ]
  },
  {
   "cell_type": "code",
   "execution_count": 117,
   "metadata": {},
   "outputs": [],
   "source": [
    "import numpy as np"
   ]
  },
  {
   "cell_type": "code",
   "execution_count": 119,
   "metadata": {},
   "outputs": [],
   "source": [
    "from statistics import mode\n"
   ]
  },
  {
   "cell_type": "code",
   "execution_count": 121,
   "metadata": {},
   "outputs": [
    {
     "data": {
      "text/plain": [
       "2"
      ]
     },
     "execution_count": 121,
     "metadata": {},
     "output_type": "execute_result"
    }
   ],
   "source": [
    "[1, 2, 3].index(3)"
   ]
  },
  {
   "cell_type": "code",
   "execution_count": 126,
   "metadata": {},
   "outputs": [],
   "source": [
    "def get_spread(spreads):\n",
    "    spread_point_outcomes = [spread['outcomes'][0]['point'] for spread in spreads]\n",
    "    point_spread = mode(spread_point_outcomes)\n",
    "    return {\n",
    "        spreads[0]['outcomes'][0]['name']: point_spread,  # home\n",
    "        spreads[0]['outcomes'][1]['name']: -point_spread,  # away\n",
    "    }\n",
    "    return spread_outcomes_away"
   ]
  },
  {
   "cell_type": "code",
   "execution_count": 111,
   "metadata": {},
   "outputs": [],
   "source": [
    "s = get_spreads(event, time_min_5)"
   ]
  },
  {
   "cell_type": "code",
   "execution_count": 105,
   "metadata": {},
   "outputs": [
    {
     "data": {
      "text/plain": [
       "'2024-03-22T01:15:00Z'"
      ]
     },
     "execution_count": 105,
     "metadata": {},
     "output_type": "execute_result"
    }
   ],
   "source": [
    "time_min_5"
   ]
  },
  {
   "cell_type": "code",
   "execution_count": 103,
   "metadata": {},
   "outputs": [
    {
     "data": {
      "text/plain": [
       "[{'key': 'spreads',\n",
       "  'last_update': '2024-03-22T01:10:09Z',\n",
       "  'outcomes': [{'name': \"Saint Peter's Peacocks\",\n",
       "    'price': -108,\n",
       "    'point': 21.5},\n",
       "   {'name': 'Tennessee Volunteers', 'price': -112, 'point': -21.5}]},\n",
       " {'key': 'spreads',\n",
       "  'last_update': '2024-03-22T01:10:36Z',\n",
       "  'outcomes': [{'name': \"Saint Peter's Peacocks\",\n",
       "    'price': -109,\n",
       "    'point': 22.0},\n",
       "   {'name': 'Tennessee Volunteers', 'price': -112, 'point': -22.0}]},\n",
       " {'key': 'spreads',\n",
       "  'last_update': '2024-03-22T01:10:09Z',\n",
       "  'outcomes': [{'name': \"Saint Peter's Peacocks\",\n",
       "    'price': -109,\n",
       "    'point': 22.0},\n",
       "   {'name': 'Tennessee Volunteers', 'price': -112, 'point': -22.0}]},\n",
       " {'key': 'spreads',\n",
       "  'last_update': '2024-03-22T01:09:35Z',\n",
       "  'outcomes': [{'name': \"Saint Peter's Peacocks\",\n",
       "    'price': -115,\n",
       "    'point': 22.5},\n",
       "   {'name': 'Tennessee Volunteers', 'price': -105, 'point': -22.5}]},\n",
       " {'key': 'spreads',\n",
       "  'last_update': '2024-03-22T01:09:56Z',\n",
       "  'outcomes': [{'name': \"Saint Peter's Peacocks\",\n",
       "    'price': -110,\n",
       "    'point': 22.0},\n",
       "   {'name': 'Tennessee Volunteers', 'price': -110, 'point': -22.0}]},\n",
       " {'key': 'spreads',\n",
       "  'last_update': '2024-03-22T01:09:55Z',\n",
       "  'outcomes': [{'name': \"Saint Peter's Peacocks\",\n",
       "    'price': -106,\n",
       "    'point': 22.0},\n",
       "   {'name': 'Tennessee Volunteers', 'price': -106, 'point': -22.0}]},\n",
       " {'key': 'spreads',\n",
       "  'last_update': '2024-03-22T01:10:36Z',\n",
       "  'outcomes': [{'name': \"Saint Peter's Peacocks\",\n",
       "    'price': -110,\n",
       "    'point': 22.0},\n",
       "   {'name': 'Tennessee Volunteers', 'price': -110, 'point': -22.0}]},\n",
       " {'key': 'spreads',\n",
       "  'last_update': '2024-03-22T01:10:36Z',\n",
       "  'outcomes': [{'name': \"Saint Peter's Peacocks\",\n",
       "    'price': -110,\n",
       "    'point': 22.0},\n",
       "   {'name': 'Tennessee Volunteers', 'price': -110, 'point': -22.0}]},\n",
       " {'key': 'spreads',\n",
       "  'last_update': '2024-03-22T01:10:36Z',\n",
       "  'outcomes': [{'name': \"Saint Peter's Peacocks\",\n",
       "    'price': -105,\n",
       "    'point': 21.5},\n",
       "   {'name': 'Tennessee Volunteers', 'price': -115, 'point': -21.5}]},\n",
       " {'key': 'spreads',\n",
       "  'last_update': '2024-03-22T01:10:07Z',\n",
       "  'outcomes': [{'name': \"Saint Peter's Peacocks\",\n",
       "    'price': -110,\n",
       "    'point': 22.0},\n",
       "   {'name': 'Tennessee Volunteers', 'price': -110, 'point': -22.0}]},\n",
       " {'key': 'spreads',\n",
       "  'last_update': '2024-03-22T01:09:09Z',\n",
       "  'outcomes': [{'name': \"Saint Peter's Peacocks\",\n",
       "    'price': -110,\n",
       "    'point': 21.5},\n",
       "   {'name': 'Tennessee Volunteers', 'price': -110, 'point': -21.5}]}]"
      ]
     },
     "execution_count": 103,
     "metadata": {},
     "output_type": "execute_result"
    }
   ],
   "source": [
    "s"
   ]
  },
  {
   "cell_type": "code",
   "execution_count": 101,
   "metadata": {},
   "outputs": [],
   "source": [
    "def get_spreads(event, date_str):\n",
    "    spreads_past = requests.get(\n",
    "        f'https://api.the-odds-api.com/v4/historical/sports/basketball_ncaab/odds?apiKey={config[\"ODDS_API_KEY\"]}&regions=us&markets=spreads&dateFormat=iso&oddsFormat=american&date={date_str}'\n",
    "    ).json()\n",
    "    spreads = []\n",
    "    for game in spreads_past['data']:\n",
    "        # espn_to_odds_names = espn_team_to_odds_team(game, event)\n",
    "        if team_match(game, event):\n",
    "            for bookmaker in game['bookmakers']:\n",
    "                spreads.append(bookmaker['markets'][0])#['outcomes'][0]['point'])\n",
    "            break\n",
    "    if len(spreads) == 0:\n",
    "        print('no match')\n",
    "        teams = [(game['home_team'], game['away_team']) for game in spreads_past['data']]\n",
    "        print(teams)\n",
    "        pass\n",
    "    return spreads"
   ]
  },
  {
   "cell_type": "code",
   "execution_count": 99,
   "metadata": {},
   "outputs": [
    {
     "name": "stdout",
     "output_type": "stream",
     "text": [
      "UConn Huskies Stetson Hatters 2024-03-22T19:17:00Z\n",
      "\t [27.5, 27.5, 27.5, 27.5, 27.5, 27.5, 27.5, 27.5, 27.5, 27.5, 27.5, 27.5, 27.5, 27.5]\n",
      "Florida Atlantic Owls Northwestern Wildcats 2024-03-22T16:10:00Z\n",
      "\t [-4.5, -3.5, -4.5, -4.5, -4.5, -4.5, -4.0, -4.0, -4.0, -4.5, -4.5, -4.0, -4.0, -4.5]\n",
      "San Diego State Aztecs UAB Blazers 2024-03-22T17:40:00Z\n",
      "\t [-6.0, -6.5, -6.5, -6.5, -6.5, -6.5, -6.0, -6.5, -6.5, -6.0, -6.5, -6.0, -6.5, -6.5]\n",
      "Auburn Tigers Yale Bulldogs 2024-03-22T20:28:00Z\n",
      "\t [-14.0, -14.0, -13.5, -13.5, -14.0, -14.0, -14.5, -13.5, -13.5, -14.0, -14.0, -14.0, -13.5, -13.5]\n",
      "BYU Cougars Duquesne Dukes 2024-03-21T16:35:00Z\n",
      "\t [-9.5, -9.5, -9.5, -9.0, -9.5, -9.5, -9.0, -9.5, -9.5, -9.0, -9.5, -9.5, -9.5]\n",
      "Illinois Fighting Illini Morehead State Eagles 2024-03-21T19:25:00Z\n",
      "\t [-10.5, -11.0, -11.5, -11.0, -11.0, -11.0, -11.0, -11.0, -11.0, -11.0, -11.0, -11.0, -11.0]\n",
      "Washington State Cougars Drake Bulldogs 2024-03-22T02:07:00Z\n",
      "\t [-1.0, -1.5, -1.0, -1.0, -1.5, -1.5, -1.0, -1.0, -1.0, -1.0, -1.0, -1.0, -1.0, -1.5]\n",
      "Iowa State Cyclones South Dakota State Jackrabbits 2024-03-21T23:30:00Z\n",
      "\t [-15.0, -15.5, -16.0, -16.0, -15.5, -15.0, -15.5, -15.0, -15.0, -15.0, -15.0, -15.5, -15.0]\n",
      "North Carolina Tar Heels Wagner Seahawks 2024-03-21T18:40:00Z\n",
      "\t [-24.5, -25.5, -25.5, -25.5, -25.5, -25.5, -26.0, -26.0, -26.0, -25.5, -25.5, -25.5]\n",
      "Mississippi State Bulldogs Michigan State Spartans 2024-03-21T16:10:00Z\n",
      "\t [-1.5, -1.5, -1.5, -1.5, -1.5, -1.5, -1.5, -1.5, -1.5, -1.5, -1.5, -1.5, -1.5]\n",
      "Saint Mary's Gaels Grand Canyon Lopes 2024-03-23T02:52:00Z\n",
      "\t [6.0, 5.5, 5.5, 5.5, 6.0, 5.5, 5.5, 5.5, 6.0, 6.0, 5.5, 5.5, 5.5]\n",
      "Alabama Crimson Tide Charleston Cougars 2024-03-22T23:58:00Z\n",
      "\t [-8.5, -8.0, -8.5, -8.5, -8.5, -8.5, -9.0, -8.5, -8.5, -8.5, -8.5, -8.5, -8.5, -9.0]\n",
      "Clemson Tigers New Mexico Lobos 2024-03-22T19:05:00Z\n",
      "\t [1.5, 2.0, 1.5, 2.0, 2.0, 2.0, 2.5, 2.0, 2.0, 2.0, 2.0, 2.0, 2.0, 2.5]\n",
      "Baylor Bears Colgate Raiders 2024-03-22T16:35:00Z\n",
      "\t [-15.0, -14.5, -14.5, -14.5, -14.5, -14.5, -15.0, -14.5, -14.5, -15.0, -14.5, -14.5, -14.5]\n",
      "Dayton Flyers Nevada Wolf Pack 2024-03-21T20:40:00Z\n",
      "\t [1.5, 1.5, 1.5, 2.0, 2.0, 2.0, 2.0, 1.5, 1.5, 1.5, 1.5, 1.5, 1.0]\n",
      "Arizona Wildcats Long Beach State Beach 2024-03-21T17:55:00Z\n",
      "\t [-19.5, -20.5, -20.5, -20.0, -20.5, -20.5, -19.5, -20.0, -20.0, -20.5, -20.0, -20.0, -20.0]\n",
      "Houston Cougars Longwood Lancers 2024-03-23T01:44:00Z\n",
      "\t [-24.0, -23.5, -24.5, -24.0, -24.0, -24.0, -24.0, -24.0, -24.0, -24.0, -24.0, -24.0, -24.5, -24.0]\n",
      "Nebraska Cornhuskers Texas A&M Aggies 2024-03-22T22:55:00Z\n",
      "\t [1.5, 1.0, 1.5, 1.0, 1.0, 1.0, 1.0, 1.0, 1.0, 1.0, 1.0, 1.0, 1.0, 1.0]\n",
      "Wisconsin Badgers James Madison Dukes 2024-03-23T01:45:00Z\n",
      "\t [5.0, 4.5, 4.5, 4.5, 4.5, 4.5, 5.0, 4.5, 4.5, 5.0, 5.0, 5.0, 5.0, 5.0]\n",
      "Duke Blue Devils Vermont Catamounts 2024-03-22T23:05:00Z\n",
      "\t [-12.5, -12.5, -12.5, -12.5, -12.5, -12.5, -12.0, -12.5, -12.5, -13.0, -12.5, -12.5, -12.5, -12.0]\n",
      "Texas Tech Red Raiders NC State Wolfpack 2024-03-22T02:05:00Z\n",
      "\t [4.5, 5.0, 4.5, 4.5, 5.5, 5.0, 5.0, 5.0, 5.0, 5.0, 5.0, 5.0, 5.0, 5.5]\n",
      "Kentucky Wildcats Oakland Golden Grizzlies 2024-03-21T23:15:00Z\n",
      "\t [-13.5, -13.0, -13.5, -13.5, -13.5, -13.0, -13.5, -13.0, -13.0, -13.0, -13.5, -13.0, -13.0]\n",
      "Florida Gators Colorado Buffaloes 2024-03-22T20:33:00Z\n",
      "\t [-1.5, -1.5, -1.0, -1.5, -1.0, -1.0, -1.0, -1.0, -1.0, -1.0, -1.5, -1.5, -1.0, -1.0]\n",
      "Marquette Golden Eagles Western Kentucky Hilltoppers 2024-03-22T17:55:00Z\n",
      "\t [-14.5, -14.5, -14.5, -15.0, -14.5, -14.5, -15.0, -14.5, -14.5, -15.0, -15.0, -15.5, -15.0, -13.5]\n",
      "Purdue Boilermakers Grambling Tigers 2024-03-22T23:54:00Z\n",
      "\t [27.0, 26.5, 27.0, 27.0, 27.5, 27.0, 27.0, 27.0, 27.0, 27.0, 27.0, 26.5]\n",
      "Utah State Aggies TCU Horned Frogs 2024-03-23T02:25:00Z\n",
      "\t [-3.5, -4.0, -3.5, -4.0, -4.0, -4.0, -4.0, -4.0, -4.0, -3.5, -4.0, -4.0, -4.0, -4.0]\n",
      "Gonzaga Bulldogs McNeese Cowboys 2024-03-21T23:42:00Z\n",
      "\t [-6.5, -7.0, -7.0, -6.5, -6.5, -6.5, -6.5, -6.5, -6.5, -6.5, -6.5, -6.5, -6.5]\n",
      "Kansas Jayhawks Samford Bulldogs 2024-03-22T02:15:00Z\n",
      "\t [-7.5, -7.5, -7.5, -7.5, -7.0, -7.5, -7.5, -7.5, -7.5, -7.0, -7.0, -7.5, -7.5, -7.0]\n",
      "South Carolina Gamecocks Oregon Ducks 2024-03-21T19:55:00Z\n",
      "\t [-2.5, -2.5, -2.5, -2.5, -2.5, -2.5, -2.5, -2.5, -2.5, -2.5, -3.0, -2.5, -2.5]\n",
      "Creighton Bluejays Akron Zips 2024-03-21T17:25:00Z\n",
      "\t [12.5, 12.0, 11.5, 12.0, 12.0, 12.0, 12.0, 12.0, 12.0, 12.0, 12.0, 12.0, 12.0]\n",
      "Texas Longhorns Colorado State Rams 2024-03-21T22:45:00Z\n",
      "\t [3.0, 2.5, 2.5, 2.5, 3.0, 3.5, 3.0, 3.0, 3.0, 3.0, 3.0, 3.0, 3.0]\n",
      "Tennessee Volunteers Saint Peter's Peacocks 2024-03-22T01:15:00Z\n",
      "\t [21.5, 22.0, 22.0, 22.5, 22.0, 22.0, 22.0, 22.0, 21.5, 22.0, 21.5]\n"
     ]
    }
   ],
   "source": [
    "for round in (1,):\n",
    "    for event in events_by_round[round]:\n",
    "        time_min_5 = (event.estimated_start_time - timedelta(minutes=5)).strftime('%Y-%m-%dT%H:%M:%SZ')\n",
    "        print(event.home_participant.team.name, event.away_participant.team.name, time_min_5)\n",
    "        print('\\t', get_past_odds(event, time_min_5))"
   ]
  },
  {
   "cell_type": "code",
   "execution_count": 90,
   "metadata": {},
   "outputs": [
    {
     "data": {
      "text/plain": [
       "64"
      ]
     },
     "execution_count": 90,
     "metadata": {},
     "output_type": "execute_result"
    }
   ],
   "source": [
    "len(espn_name_to_odds_name)"
   ]
  },
  {
   "cell_type": "code",
   "execution_count": 91,
   "metadata": {},
   "outputs": [],
   "source": [
    "for event in events_by_round[1]:\n",
    "    if event.home_participant.team.name not in espn_name_to_odds_name:\n",
    "        print(event.home_participant.team.name)\n",
    "    if event.away_participant.team.name not in espn_name_to_odds_name:\n",
    "        print(event.away_participant.team.name)"
   ]
  },
  {
   "cell_type": "code",
   "execution_count": 72,
   "metadata": {},
   "outputs": [],
   "source": [
    "espn_name_to_odds_name['Arizona Wildcats'] = 'Arizona Wildcats'\n",
    "espn_name_to_odds_name['Long Beach State Beach'] = 'Long Beach St 49ers'"
   ]
  },
  {
   "cell_type": "code",
   "execution_count": 73,
   "metadata": {},
   "outputs": [
    {
     "data": {
      "text/plain": [
       "64"
      ]
     },
     "execution_count": 73,
     "metadata": {},
     "output_type": "execute_result"
    }
   ],
   "source": [
    "len(espn_name_to_odds_name)"
   ]
  },
  {
   "cell_type": "code",
   "execution_count": 74,
   "metadata": {},
   "outputs": [
    {
     "data": {
      "text/html": [
       "<div>\n",
       "<style scoped>\n",
       "    .dataframe tbody tr th:only-of-type {\n",
       "        vertical-align: middle;\n",
       "    }\n",
       "\n",
       "    .dataframe tbody tr th {\n",
       "        vertical-align: top;\n",
       "    }\n",
       "\n",
       "    .dataframe thead th {\n",
       "        text-align: right;\n",
       "    }\n",
       "</style>\n",
       "<table border=\"1\" class=\"dataframe\">\n",
       "  <thead>\n",
       "    <tr style=\"text-align: right;\">\n",
       "      <th></th>\n",
       "      <th>participant_name</th>\n",
       "      <th>team_name</th>\n",
       "      <th>seed</th>\n",
       "      <th>team_name_norm</th>\n",
       "      <th>team_code</th>\n",
       "    </tr>\n",
       "  </thead>\n",
       "  <tbody>\n",
       "    <tr>\n",
       "      <th>0</th>\n",
       "      <td>Scott</td>\n",
       "      <td>UConn Huskies</td>\n",
       "      <td>1</td>\n",
       "      <td>UConn</td>\n",
       "      <td>CONN</td>\n",
       "    </tr>\n",
       "    <tr>\n",
       "      <th>1</th>\n",
       "      <td>Katz</td>\n",
       "      <td>Stetson Hatters</td>\n",
       "      <td>16</td>\n",
       "      <td>Stetson</td>\n",
       "      <td>STET</td>\n",
       "    </tr>\n",
       "    <tr>\n",
       "      <th>2</th>\n",
       "      <td>Molloy</td>\n",
       "      <td>Florida Atlantic Owls</td>\n",
       "      <td>8</td>\n",
       "      <td>Florida Atlantic</td>\n",
       "      <td>FAU</td>\n",
       "    </tr>\n",
       "    <tr>\n",
       "      <th>3</th>\n",
       "      <td>John + Tyler</td>\n",
       "      <td>Northwestern Wildcats</td>\n",
       "      <td>9</td>\n",
       "      <td>Northwestern</td>\n",
       "      <td>NU</td>\n",
       "    </tr>\n",
       "    <tr>\n",
       "      <th>4</th>\n",
       "      <td>Eddie</td>\n",
       "      <td>San Diego State Aztecs</td>\n",
       "      <td>5</td>\n",
       "      <td>San Diego St</td>\n",
       "      <td>SDSU</td>\n",
       "    </tr>\n",
       "  </tbody>\n",
       "</table>\n",
       "</div>"
      ],
      "text/plain": [
       "  participant_name               team_name  seed    team_name_norm team_code\n",
       "0            Scott           UConn Huskies     1             UConn      CONN\n",
       "1             Katz         Stetson Hatters    16           Stetson      STET\n",
       "2           Molloy   Florida Atlantic Owls     8  Florida Atlantic       FAU\n",
       "3     John + Tyler   Northwestern Wildcats     9      Northwestern        NU\n",
       "4            Eddie  San Diego State Aztecs     5      San Diego St      SDSU"
      ]
     },
     "execution_count": 74,
     "metadata": {},
     "output_type": "execute_result"
    }
   ],
   "source": [
    "bracket_df = pd.read_csv('mm-with-team-codes.csv')\n",
    "bracket_df.head()"
   ]
  },
  {
   "cell_type": "code",
   "execution_count": 76,
   "metadata": {},
   "outputs": [
    {
     "data": {
      "text/html": [
       "<div>\n",
       "<style scoped>\n",
       "    .dataframe tbody tr th:only-of-type {\n",
       "        vertical-align: middle;\n",
       "    }\n",
       "\n",
       "    .dataframe tbody tr th {\n",
       "        vertical-align: top;\n",
       "    }\n",
       "\n",
       "    .dataframe thead th {\n",
       "        text-align: right;\n",
       "    }\n",
       "</style>\n",
       "<table border=\"1\" class=\"dataframe\">\n",
       "  <thead>\n",
       "    <tr style=\"text-align: right;\">\n",
       "      <th></th>\n",
       "      <th>participant_name</th>\n",
       "      <th>team_name</th>\n",
       "      <th>seed</th>\n",
       "      <th>team_name_norm</th>\n",
       "      <th>team_code</th>\n",
       "      <th>odds_api_team_name</th>\n",
       "    </tr>\n",
       "  </thead>\n",
       "  <tbody>\n",
       "    <tr>\n",
       "      <th>0</th>\n",
       "      <td>Scott</td>\n",
       "      <td>UConn Huskies</td>\n",
       "      <td>1</td>\n",
       "      <td>UConn</td>\n",
       "      <td>CONN</td>\n",
       "      <td>UConn Huskies</td>\n",
       "    </tr>\n",
       "    <tr>\n",
       "      <th>1</th>\n",
       "      <td>Katz</td>\n",
       "      <td>Stetson Hatters</td>\n",
       "      <td>16</td>\n",
       "      <td>Stetson</td>\n",
       "      <td>STET</td>\n",
       "      <td>Stetson Hatters</td>\n",
       "    </tr>\n",
       "    <tr>\n",
       "      <th>2</th>\n",
       "      <td>Molloy</td>\n",
       "      <td>Florida Atlantic Owls</td>\n",
       "      <td>8</td>\n",
       "      <td>Florida Atlantic</td>\n",
       "      <td>FAU</td>\n",
       "      <td>Florida Atlantic Owls</td>\n",
       "    </tr>\n",
       "    <tr>\n",
       "      <th>3</th>\n",
       "      <td>John + Tyler</td>\n",
       "      <td>Northwestern Wildcats</td>\n",
       "      <td>9</td>\n",
       "      <td>Northwestern</td>\n",
       "      <td>NU</td>\n",
       "      <td>Northwestern Wildcats</td>\n",
       "    </tr>\n",
       "    <tr>\n",
       "      <th>4</th>\n",
       "      <td>Eddie</td>\n",
       "      <td>San Diego State Aztecs</td>\n",
       "      <td>5</td>\n",
       "      <td>San Diego St</td>\n",
       "      <td>SDSU</td>\n",
       "      <td>San Diego St Aztecs</td>\n",
       "    </tr>\n",
       "  </tbody>\n",
       "</table>\n",
       "</div>"
      ],
      "text/plain": [
       "  participant_name               team_name  seed    team_name_norm team_code  \\\n",
       "0            Scott           UConn Huskies     1             UConn      CONN   \n",
       "1             Katz         Stetson Hatters    16           Stetson      STET   \n",
       "2           Molloy   Florida Atlantic Owls     8  Florida Atlantic       FAU   \n",
       "3     John + Tyler   Northwestern Wildcats     9      Northwestern        NU   \n",
       "4            Eddie  San Diego State Aztecs     5      San Diego St      SDSU   \n",
       "\n",
       "      odds_api_team_name  \n",
       "0          UConn Huskies  \n",
       "1        Stetson Hatters  \n",
       "2  Florida Atlantic Owls  \n",
       "3  Northwestern Wildcats  \n",
       "4    San Diego St Aztecs  "
      ]
     },
     "execution_count": 76,
     "metadata": {},
     "output_type": "execute_result"
    }
   ],
   "source": [
    "bracket_df['odds_api_team_name'] = bracket_df.team_name.apply(lambda n: espn_name_to_odds_name[n])\n",
    "bracket_df.head()"
   ]
  },
  {
   "cell_type": "code",
   "execution_count": 77,
   "metadata": {},
   "outputs": [
    {
     "data": {
      "text/plain": [
       "participant_name      0\n",
       "team_name             0\n",
       "seed                  0\n",
       "team_name_norm        0\n",
       "team_code             0\n",
       "odds_api_team_name    0\n",
       "dtype: int64"
      ]
     },
     "execution_count": 77,
     "metadata": {},
     "output_type": "execute_result"
    }
   ],
   "source": [
    "bracket_df.isna().sum()"
   ]
  },
  {
   "cell_type": "code",
   "execution_count": 79,
   "metadata": {},
   "outputs": [
    {
     "data": {
      "text/html": [
       "<div>\n",
       "<style scoped>\n",
       "    .dataframe tbody tr th:only-of-type {\n",
       "        vertical-align: middle;\n",
       "    }\n",
       "\n",
       "    .dataframe tbody tr th {\n",
       "        vertical-align: top;\n",
       "    }\n",
       "\n",
       "    .dataframe thead th {\n",
       "        text-align: right;\n",
       "    }\n",
       "</style>\n",
       "<table border=\"1\" class=\"dataframe\">\n",
       "  <thead>\n",
       "    <tr style=\"text-align: right;\">\n",
       "      <th></th>\n",
       "      <th>participant_name</th>\n",
       "      <th>team_name</th>\n",
       "      <th>seed</th>\n",
       "      <th>team_code</th>\n",
       "      <th>odds_api_team_name</th>\n",
       "    </tr>\n",
       "  </thead>\n",
       "  <tbody>\n",
       "    <tr>\n",
       "      <th>0</th>\n",
       "      <td>Scott</td>\n",
       "      <td>UConn Huskies</td>\n",
       "      <td>1</td>\n",
       "      <td>CONN</td>\n",
       "      <td>UConn Huskies</td>\n",
       "    </tr>\n",
       "    <tr>\n",
       "      <th>1</th>\n",
       "      <td>Katz</td>\n",
       "      <td>Stetson Hatters</td>\n",
       "      <td>16</td>\n",
       "      <td>STET</td>\n",
       "      <td>Stetson Hatters</td>\n",
       "    </tr>\n",
       "    <tr>\n",
       "      <th>2</th>\n",
       "      <td>Molloy</td>\n",
       "      <td>Florida Atlantic Owls</td>\n",
       "      <td>8</td>\n",
       "      <td>FAU</td>\n",
       "      <td>Florida Atlantic Owls</td>\n",
       "    </tr>\n",
       "    <tr>\n",
       "      <th>3</th>\n",
       "      <td>John + Tyler</td>\n",
       "      <td>Northwestern Wildcats</td>\n",
       "      <td>9</td>\n",
       "      <td>NU</td>\n",
       "      <td>Northwestern Wildcats</td>\n",
       "    </tr>\n",
       "    <tr>\n",
       "      <th>4</th>\n",
       "      <td>Eddie</td>\n",
       "      <td>San Diego State Aztecs</td>\n",
       "      <td>5</td>\n",
       "      <td>SDSU</td>\n",
       "      <td>San Diego St Aztecs</td>\n",
       "    </tr>\n",
       "  </tbody>\n",
       "</table>\n",
       "</div>"
      ],
      "text/plain": [
       "  participant_name               team_name  seed team_code  \\\n",
       "0            Scott           UConn Huskies     1      CONN   \n",
       "1             Katz         Stetson Hatters    16      STET   \n",
       "2           Molloy   Florida Atlantic Owls     8       FAU   \n",
       "3     John + Tyler   Northwestern Wildcats     9        NU   \n",
       "4            Eddie  San Diego State Aztecs     5      SDSU   \n",
       "\n",
       "      odds_api_team_name  \n",
       "0          UConn Huskies  \n",
       "1        Stetson Hatters  \n",
       "2  Florida Atlantic Owls  \n",
       "3  Northwestern Wildcats  \n",
       "4    San Diego St Aztecs  "
      ]
     },
     "execution_count": 79,
     "metadata": {},
     "output_type": "execute_result"
    }
   ],
   "source": [
    "bracket_df_clean = bracket_df.drop(columns=['team_name_norm'])\n",
    "bracket_df_clean.head()"
   ]
  },
  {
   "cell_type": "code",
   "execution_count": 81,
   "metadata": {},
   "outputs": [],
   "source": [
    "bracket_df_clean.to_csv('mm-with-team-codes.csv', index=False)"
   ]
  },
  {
   "cell_type": "code",
   "execution_count": 17,
   "metadata": {},
   "outputs": [
    {
     "data": {
      "text/plain": [
       "[]"
      ]
     },
     "execution_count": 17,
     "metadata": {},
     "output_type": "execute_result"
    }
   ],
   "source": [
    "missing_event = events_by_round[2][1]\n",
    "time_min_5 = (missing_event.estimated_start_time - timedelta(minutes=5)).strftime('%Y-%m-%dT%H:%M:%SZ')\n",
    "get_past_odds(missing_event.home_participant.team.name, time_min_5)"
   ]
  },
  {
   "cell_type": "code",
   "execution_count": 12,
   "metadata": {},
   "outputs": [
    {
     "ename": "NameError",
     "evalue": "name 'event' is not defined",
     "output_type": "error",
     "traceback": [
      "\u001b[0;31m---------------------------------------------------------------------------\u001b[0m",
      "\u001b[0;31mNameError\u001b[0m                                 Traceback (most recent call last)",
      "Cell \u001b[0;32mIn[12], line 1\u001b[0m\n\u001b[0;32m----> 1\u001b[0m \u001b[38;5;28mprint\u001b[39m(\u001b[43mevent\u001b[49m\u001b[38;5;241m.\u001b[39mestimated_start_time\u001b[38;5;241m.\u001b[39mstrftime(\u001b[38;5;124m'\u001b[39m\u001b[38;5;124m%\u001b[39m\u001b[38;5;124mY-\u001b[39m\u001b[38;5;124m%\u001b[39m\u001b[38;5;124mm-\u001b[39m\u001b[38;5;132;01m%d\u001b[39;00m\u001b[38;5;124mT\u001b[39m\u001b[38;5;124m%\u001b[39m\u001b[38;5;124mH:\u001b[39m\u001b[38;5;124m%\u001b[39m\u001b[38;5;124mM:\u001b[39m\u001b[38;5;124m%\u001b[39m\u001b[38;5;124mSZ\u001b[39m\u001b[38;5;124m'\u001b[39m))\n\u001b[1;32m      2\u001b[0m \u001b[38;5;28mprint\u001b[39m((event\u001b[38;5;241m.\u001b[39mestimated_start_time \u001b[38;5;241m-\u001b[39m timedelta(minutes\u001b[38;5;241m=\u001b[39m\u001b[38;5;241m5\u001b[39m))\u001b[38;5;241m.\u001b[39mstrftime(\u001b[38;5;124m'\u001b[39m\u001b[38;5;124m%\u001b[39m\u001b[38;5;124mY-\u001b[39m\u001b[38;5;124m%\u001b[39m\u001b[38;5;124mm-\u001b[39m\u001b[38;5;132;01m%d\u001b[39;00m\u001b[38;5;124mT\u001b[39m\u001b[38;5;124m%\u001b[39m\u001b[38;5;124mH:\u001b[39m\u001b[38;5;124m%\u001b[39m\u001b[38;5;124mM:\u001b[39m\u001b[38;5;124m%\u001b[39m\u001b[38;5;124mSZ\u001b[39m\u001b[38;5;124m'\u001b[39m))\n",
      "\u001b[0;31mNameError\u001b[0m: name 'event' is not defined"
     ]
    }
   ],
   "source": [
    "print(event.estimated_start_time.strftime('%Y-%m-%dT%H:%M:%SZ'))\n",
    "print((event.estimated_start_time - timedelta(minutes=5)).strftime('%Y-%m-%dT%H:%M:%SZ'))"
   ]
  },
  {
   "cell_type": "code",
   "execution_count": 67,
   "metadata": {},
   "outputs": [
    {
     "data": {
      "text/plain": [
       "15"
      ]
     },
     "execution_count": 67,
     "metadata": {},
     "output_type": "execute_result"
    }
   ],
   "source": [
    "len(bracket._events_to_process)"
   ]
  },
  {
   "cell_type": "code",
   "execution_count": 66,
   "metadata": {},
   "outputs": [
    {
     "data": {
      "text/plain": [
       "'UConn Huskies'"
      ]
     },
     "execution_count": 66,
     "metadata": {},
     "output_type": "execute_result"
    }
   ],
   "source": [
    "bracket.participants[0].team.name, bracket.participants[0].team.name, "
   ]
  },
  {
   "cell_type": "code",
   "execution_count": 21,
   "metadata": {},
   "outputs": [],
   "source": [
    "# {\n",
    "#     \"key\": \"basketball_ncaab\",\n",
    "#     \"group\": \"Basketball\",\n",
    "#     \"title\": \"NCAAB\",\n",
    "#     \"description\": \"US College Basketball\",\n",
    "#     \"active\": true,\n",
    "#     \"has_outrights\": false\n",
    "#   },"
   ]
  },
  {
   "cell_type": "code",
   "execution_count": 22,
   "metadata": {},
   "outputs": [],
   "source": [
    "from_str = datetime(2024, 3, 9, 4, 15).strftime('%Y-%m-%dT%H:%M:%SZ')  # 2024-03-09T00%3A00%3A00Z\n",
    "to_str = datetime(2024, 4, 20, 4, 15).strftime('%Y-%m-%dT%H:%M:%SZ')  # 2024-04-20T00%3A00%3A00Z"
   ]
  },
  {
   "cell_type": "code",
   "execution_count": 23,
   "metadata": {},
   "outputs": [],
   "source": [
    "spreads_upcoming = requests.get(\n",
    "    f'https://api.the-odds-api.com/v4/sports/basketball_ncaab/odds?apiKey={config[\"ODDS_API_KEY\"]}&regions=us&markets=spreads&dateFormat=iso&oddsFormat=decimal&commenceTimeFrom={from_str}&commenceTimeTo={to_str}'\n",
    ").json()\n"
   ]
  },
  {
   "cell_type": "code",
   "execution_count": 24,
   "metadata": {},
   "outputs": [
    {
     "data": {
      "text/plain": [
       "10"
      ]
     },
     "execution_count": 24,
     "metadata": {},
     "output_type": "execute_result"
    }
   ],
   "source": [
    "len(spreads_upcoming)"
   ]
  },
  {
   "cell_type": "code",
   "execution_count": 25,
   "metadata": {},
   "outputs": [
    {
     "data": {
      "text/plain": [
       "dict_keys(['id', 'sport_key', 'sport_title', 'commence_time', 'home_team', 'away_team', 'bookmakers'])"
      ]
     },
     "execution_count": 25,
     "metadata": {},
     "output_type": "execute_result"
    }
   ],
   "source": [
    "spreads_upcoming[0].keys()"
   ]
  },
  {
   "cell_type": "code",
   "execution_count": 29,
   "metadata": {},
   "outputs": [],
   "source": [
    "import numpy as np"
   ]
  },
  {
   "cell_type": "code",
   "execution_count": 43,
   "metadata": {},
   "outputs": [
    {
     "name": "stdout",
     "output_type": "stream",
     "text": [
      "Arizona Wildcats vs. Clemson Tigers\n",
      "\ttime start: 2024-03-28T23:09:00Z\n",
      "\t[-7.5, -7.0, -7.0, -7.0, -7.0, -7.0, -7.0, -7.0, -7.0, -7.5, -7.0, -7.0, -7.0, -7.0]\n",
      "\tspread mean: -7.071428571428571\n",
      "\tspread std: 0.17496355305594127\n",
      "UConn Huskies vs. San Diego St Aztecs\n",
      "\ttime start: 2024-03-28T23:39:00Z\n",
      "\t[12.0, 11.5, 11.5, 11.5, 11.5, 11.5, 11.5, 11.0, 12.0, 12.0, 11.5, 12.0, 11.5, 12.0]\n",
      "\tspread mean: 11.642857142857142\n",
      "\tspread std: 0.2945075446869757\n",
      "North Carolina Tar Heels vs. Alabama Crimson Tide\n",
      "\ttime start: 2024-03-29T01:39:12Z\n",
      "\t[4.5, 4.5, 4.5, 4.5, 5.0, 4.5, 4.5, 4.5, 4.5, 4.5, 4.5, 4.5, 5.0, 5.5]\n",
      "\tspread mean: 4.642857142857143\n",
      "\tspread std: 0.29450754468697576\n",
      "Iowa State Cyclones vs. Illinois Fighting Illini\n",
      "\ttime start: 2024-03-29T02:09:44Z\n",
      "\t[1.5, 1.5, 1.5, 1.5, 1.5, 1.5, 1.5, 1.5, 1.5, 1.5, 1.5, 1.5, 1.5, 1.5]\n",
      "\tspread mean: 1.5\n",
      "\tspread std: 0.0\n",
      "Marquette Golden Eagles vs. NC State Wolfpack\n",
      "\ttime start: 2024-03-29T23:09:00Z\n",
      "\t[-6.5, -6.0, -6.5, -6.5, -6.5, -6.5, -6.5, -6.5, -6.5, -6.5, -6.5, -6.5, -6.5, -6.5]\n",
      "\tspread mean: -6.464285714285714\n",
      "\tspread std: 0.12876968840942818\n",
      "Purdue Boilermakers vs. Gonzaga Bulldogs\n",
      "\ttime start: 2024-03-29T23:39:00Z\n",
      "\t[5.5, 5.0, 5.0, 5.5, 5.5, 5.5, 5.5, 5.5, 5.5, 5.5, 5.0, 5.5, 5.5, 5.5]\n",
      "\tspread mean: 5.392857142857143\n",
      "\tspread std: 0.2051629516620725\n",
      "Houston Cougars vs. Duke Blue Devils\n",
      "\ttime start: 2024-03-30T01:40:00Z\n",
      "\t[4.5, 4.0, 4.0, 4.0, 4.0, 4.0, 4.0, 4.0, 4.0, 4.0, 3.5, 4.0, 4.0, 4.0]\n",
      "\tspread mean: 4.0\n",
      "\tspread std: 0.1889822365046136\n",
      "Tennessee Volunteers vs. Creighton Bluejays\n",
      "\ttime start: 2024-03-30T02:20:00Z\n",
      "\t[3.0, 2.5, 2.5, 3.0, 3.0, 2.5, 2.5, 3.5, 3.0, 3.0, 3.0, 2.5, 2.5, 2.5]\n",
      "\tspread mean: 2.7857142857142856\n",
      "\tspread std: 0.31134992453861954\n",
      "Indiana St Sycamores vs. Utah Utes\n",
      "\ttime start: 2024-04-02T19:00:28Z\n",
      "\t[-2.5, -2.5, -2.5, -2.5, -2.5, -2.5]\n",
      "\tspread mean: -2.5\n",
      "\tspread std: 0.0\n",
      "Seton Hall Pirates vs. Georgia Bulldogs\n",
      "\ttime start: 2024-04-02T19:00:56Z\n",
      "\t[3.5, 4.0, 4.0, 3.5]\n",
      "\tspread mean: 3.75\n",
      "\tspread std: 0.25\n"
     ]
    }
   ],
   "source": [
    "odds_long_team_names = []\n",
    "for game in spreads_upcoming:\n",
    "    odds_long_team_names.append(game[\"home_team\"])\n",
    "    odds_long_team_names.append(game[\"away_team\"])\n",
    "    print(f'{game[\"home_team\"]} vs. {game[\"away_team\"]}')\n",
    "    print(f'\\ttime start: {game[\"commence_time\"]}')\n",
    "    spreads = []\n",
    "    for bookmaker in game['bookmakers']:\n",
    "        spreads.append(bookmaker['markets'][0]['outcomes'][0]['point'])\n",
    "    print(f'\\t{spreads}')\n",
    "    print(f'\\tspread mean: {np.mean(spreads)}')\n",
    "    print(f'\\tspread std: {np.std(spreads)}')"
   ]
  },
  {
   "cell_type": "code",
   "execution_count": null,
   "metadata": {},
   "outputs": [],
   "source": [
    "date_str = datetime(2024, 3, 23, 15, 15).strftime('%Y-%m-%dT%H:%M:%SZ') # 2024-03-23T12%3A15%3A00Z\n",
    "spreads_past = requests.get(\n",
    "    f'https://api.the-odds-api.com/v4/historical/sports/basketball_ncaab/odds?apiKey={config[\"ODDS_API_KEY\"]}&regions=us&markets=spreads&dateFormat=iso&oddsFormat=american&date={date_str}'\n",
    ").json()"
   ]
  },
  {
   "cell_type": "code",
   "execution_count": null,
   "metadata": {},
   "outputs": [],
   "source": [
    "len(spreads_past['data'])"
   ]
  },
  {
   "cell_type": "code",
   "execution_count": null,
   "metadata": {},
   "outputs": [],
   "source": [
    "spreads_past['data'][0].keys()"
   ]
  },
  {
   "cell_type": "markdown",
   "metadata": {},
   "source": [
    "## ESPN API"
   ]
  },
  {
   "cell_type": "code",
   "execution_count": 50,
   "metadata": {},
   "outputs": [],
   "source": [
    "data_from_march = requests.get(\n",
    "    'https://site.api.espn.com/apis/site/v2/sports/basketball/mens-college-basketball/scoreboard?dates=202403'\n",
    ").json()"
   ]
  },
  {
   "cell_type": "code",
   "execution_count": 51,
   "metadata": {},
   "outputs": [
    {
     "data": {
      "text/plain": [
       "62"
      ]
     },
     "execution_count": 51,
     "metadata": {},
     "output_type": "execute_result"
    }
   ],
   "source": [
    "len(data_from_march['events'])"
   ]
  },
  {
   "cell_type": "code",
   "execution_count": 54,
   "metadata": {},
   "outputs": [],
   "source": [
    "df_teams = pd.read_csv('mm-with-team-codes.csv')"
   ]
  },
  {
   "cell_type": "code",
   "execution_count": 52,
   "metadata": {},
   "outputs": [],
   "source": [
    "short_teams, long_teams = [], []\n",
    "for event in data_from_march['events']:\n",
    "    s_teams = event['shortName'].split(' VS ')\n",
    "    assert len(s_teams) == 2\n",
    "    l_teams = event['name'].split(' at ')\n",
    "    assert len(l_teams) == 2\n",
    "    short_teams += s_teams\n",
    "    long_teams += l_teams\n",
    "\n",
    "long_to_short = dict(zip(long_teams, short_teams))\n"
   ]
  },
  {
   "cell_type": "code",
   "execution_count": 53,
   "metadata": {},
   "outputs": [
    {
     "data": {
      "text/plain": [
       "['Akron Zips',\n",
       " 'Alabama Crimson Tide',\n",
       " 'Arizona Wildcats',\n",
       " 'Auburn Tigers',\n",
       " 'BYU Cougars',\n",
       " 'Baylor Bears',\n",
       " 'Boise State Broncos',\n",
       " 'Charleston Cougars',\n",
       " 'Clemson Tigers',\n",
       " 'Colgate Raiders',\n",
       " 'Colorado Buffaloes',\n",
       " 'Colorado State Rams',\n",
       " 'Creighton Bluejays',\n",
       " 'Dayton Flyers',\n",
       " 'Drake Bulldogs',\n",
       " 'Duke Blue Devils',\n",
       " 'Duquesne Dukes',\n",
       " 'Florida Atlantic Owls',\n",
       " 'Florida Gators',\n",
       " 'Gonzaga Bulldogs',\n",
       " 'Grambling Tigers',\n",
       " 'Grand Canyon Lopes',\n",
       " 'Houston Cougars',\n",
       " 'Howard Bison',\n",
       " 'Illinois Fighting Illini',\n",
       " 'Iowa State Cyclones',\n",
       " 'James Madison Dukes',\n",
       " 'Kansas Jayhawks',\n",
       " 'Kentucky Wildcats',\n",
       " 'Long Beach State Beach',\n",
       " 'Longwood Lancers',\n",
       " 'Marquette Golden Eagles',\n",
       " 'McNeese Cowboys',\n",
       " 'Michigan State Spartans',\n",
       " 'Mississippi State Bulldogs',\n",
       " 'Montana State Bobcats',\n",
       " 'Morehead State Eagles',\n",
       " 'NC State Wolfpack',\n",
       " 'Nebraska Cornhuskers',\n",
       " 'Nevada Wolf Pack',\n",
       " 'New Mexico Lobos',\n",
       " 'North Carolina Tar Heels',\n",
       " 'Northwestern Wildcats',\n",
       " 'Oakland Golden Grizzlies',\n",
       " 'Oregon Ducks',\n",
       " 'Purdue Boilermakers',\n",
       " \"Saint Mary's Gaels\",\n",
       " \"Saint Peter's Peacocks\",\n",
       " 'Samford Bulldogs',\n",
       " 'San Diego State Aztecs',\n",
       " 'South Carolina Gamecocks',\n",
       " 'South Dakota State Jackrabbits',\n",
       " 'Stetson Hatters',\n",
       " 'TBD TBD',\n",
       " 'TCU Horned Frogs',\n",
       " 'Tennessee Volunteers',\n",
       " 'Texas A&M Aggies',\n",
       " 'Texas Longhorns',\n",
       " 'Texas Tech Red Raiders',\n",
       " 'UAB Blazers',\n",
       " 'UConn Huskies',\n",
       " 'Utah State Aggies',\n",
       " 'Vermont Catamounts',\n",
       " 'Virginia Cavaliers',\n",
       " 'Wagner Seahawks',\n",
       " 'Washington State Cougars',\n",
       " 'Western Kentucky Hilltoppers',\n",
       " 'Wisconsin Badgers',\n",
       " 'Yale Bulldogs']"
      ]
     },
     "execution_count": 53,
     "metadata": {},
     "output_type": "execute_result"
    }
   ],
   "source": [
    "sorted(long_to_short.keys())"
   ]
  },
  {
   "cell_type": "code",
   "execution_count": 46,
   "metadata": {},
   "outputs": [
    {
     "name": "stdout",
     "output_type": "stream",
     "text": [
      "Arizona Wildcats True\n",
      "Clemson Tigers True\n",
      "UConn Huskies True\n",
      "San Diego St Aztecs False\n",
      "North Carolina Tar Heels True\n",
      "Alabama Crimson Tide True\n",
      "Iowa State Cyclones True\n",
      "Illinois Fighting Illini True\n",
      "Marquette Golden Eagles True\n",
      "NC State Wolfpack True\n",
      "Purdue Boilermakers True\n",
      "Gonzaga Bulldogs True\n",
      "Houston Cougars True\n",
      "Duke Blue Devils True\n",
      "Tennessee Volunteers True\n",
      "Creighton Bluejays True\n",
      "Indiana St Sycamores False\n",
      "Utah Utes False\n",
      "Seton Hall Pirates False\n",
      "Georgia Bulldogs False\n"
     ]
    }
   ],
   "source": [
    "for name in odds_long_team_names:\n",
    "    print(name, name in long_to_short)"
   ]
  },
  {
   "cell_type": "code",
   "execution_count": 45,
   "metadata": {},
   "outputs": [
    {
     "data": {
      "text/plain": [
       "True"
      ]
     },
     "execution_count": 45,
     "metadata": {},
     "output_type": "execute_result"
    }
   ],
   "source": [
    "odds_long_team_names[0] in long_to_short"
   ]
  },
  {
   "cell_type": "code",
   "execution_count": 58,
   "metadata": {},
   "outputs": [],
   "source": [
    "short_to_long = dict(zip(short_teams, long_teams))"
   ]
  },
  {
   "cell_type": "code",
   "execution_count": 60,
   "metadata": {},
   "outputs": [],
   "source": [
    "df_teams['team_name'] = df_teams['team_code'].apply(lambda c: short_to_long[c])"
   ]
  },
  {
   "cell_type": "code",
   "execution_count": 61,
   "metadata": {},
   "outputs": [],
   "source": [
    "df_teams.to_csv('mm-with-team-codes.csv', index=False)"
   ]
  },
  {
   "cell_type": "code",
   "execution_count": 42,
   "metadata": {},
   "outputs": [
    {
     "data": {
      "text/plain": [
       "{'STET': 'Stetson Hatters',\n",
       " 'CONN': 'UConn Huskies',\n",
       " 'GRAM': 'Grambling Tigers',\n",
       " 'PUR': 'Purdue Boilermakers',\n",
       " 'LONG': 'Longwood Lancers',\n",
       " 'HOU': 'Houston Cougars',\n",
       " 'WKU': 'Western Kentucky Hilltoppers',\n",
       " 'MARQ': 'Marquette Golden Eagles',\n",
       " 'COLG': 'Colgate Raiders',\n",
       " 'BAY': 'Baylor Bears',\n",
       " 'YALE': 'Yale Bulldogs',\n",
       " 'AUB': 'Auburn Tigers',\n",
       " 'UVM': 'Vermont Catamounts',\n",
       " 'DUKE': 'Duke Blue Devils',\n",
       " 'COFC': 'Charleston Cougars',\n",
       " 'ALA': 'Alabama Crimson Tide',\n",
       " 'UAB': 'UAB Blazers',\n",
       " 'SDSU': 'San Diego State Aztecs',\n",
       " 'JMU': 'James Madison Dukes',\n",
       " 'WIS': 'Wisconsin Badgers',\n",
       " 'GCU': 'Grand Canyon Lopes',\n",
       " 'SMC': \"Saint Mary's Gaels\",\n",
       " 'UNM': 'New Mexico Lobos',\n",
       " 'CLEM': 'Clemson Tigers',\n",
       " 'COLO': 'Colorado Buffaloes',\n",
       " 'FLA': 'Florida Gators',\n",
       " 'NU': 'Northwestern Wildcats',\n",
       " 'FAU': 'Florida Atlantic Owls',\n",
       " 'TA&M': 'Texas A&M Aggies',\n",
       " 'NEB': 'Nebraska Cornhuskers',\n",
       " 'TCU': 'TCU Horned Frogs',\n",
       " 'USU': 'Utah State Aggies',\n",
       " 'MSU': 'Michigan State Spartans',\n",
       " 'UNC': 'North Carolina Tar Heels',\n",
       " 'DAY': 'Dayton Flyers',\n",
       " 'ARIZ': 'Arizona Wildcats',\n",
       " 'WSU': 'Washington State Cougars',\n",
       " 'ISU': 'Iowa State Cyclones',\n",
       " 'TEX': 'Texas Longhorns',\n",
       " 'TENN': 'Tennessee Volunteers',\n",
       " 'DUQ': 'Duquesne Dukes',\n",
       " 'ILL': 'Illinois Fighting Illini',\n",
       " 'ORE': 'Oregon Ducks',\n",
       " 'CREI': 'Creighton Bluejays',\n",
       " 'GONZ': 'Gonzaga Bulldogs',\n",
       " 'KU': 'Kansas Jayhawks',\n",
       " 'OAK': 'Oakland Golden Grizzlies',\n",
       " 'NCSU': 'NC State Wolfpack'}"
      ]
     },
     "execution_count": 42,
     "metadata": {},
     "output_type": "execute_result"
    }
   ],
   "source": [
    "short_to_long"
   ]
  },
  {
   "cell_type": "code",
   "execution_count": null,
   "metadata": {},
   "outputs": [],
   "source": [
    "event_types = set()\n",
    "for event in data_from_march['events']:\n",
    "    event_types.add(event['season']['slug'])"
   ]
  },
  {
   "cell_type": "code",
   "execution_count": null,
   "metadata": {},
   "outputs": [],
   "source": [
    "test_df = pd.read_csv('monkey-madness-teams.csv')"
   ]
  },
  {
   "cell_type": "code",
   "execution_count": null,
   "metadata": {},
   "outputs": [],
   "source": [
    "def normalize_team_name(team_name):\n",
    "    n = team_name.strip(\".\").strip()\n",
    "    if n.endswith(\"'s\"):\n",
    "        return n[:-2]\n",
    "    return n"
   ]
  },
  {
   "cell_type": "code",
   "execution_count": null,
   "metadata": {},
   "outputs": [],
   "source": [
    "def team_name_to_short_code(team_name_norm):\n",
    "    short_team_code = None\n",
    "    for long_team, short_team in long_to_short.items():\n",
    "        if team_name_norm.lower() in long_team.lower() or long_team.lower() in team_name_norm.lower():\n",
    "            short_team_code = short_team\n",
    "        elif short_team.lower() in team_name_norm.lower():\n",
    "            short_team_code = short_team\n",
    "    return short_team_code"
   ]
  },
  {
   "cell_type": "code",
   "execution_count": null,
   "metadata": {},
   "outputs": [],
   "source": [
    "test_df['team_name_norm'] = test_df.team_name.apply(normalize_team_name)\n",
    "test_df['team_code'] = test_df.team_name_norm.apply(team_name_to_short_code)"
   ]
  },
  {
   "cell_type": "code",
   "execution_count": null,
   "metadata": {},
   "outputs": [],
   "source": [
    "# fix empty and duplicates"
   ]
  },
  {
   "cell_type": "code",
   "execution_count": null,
   "metadata": {},
   "outputs": [],
   "source": [
    "code_counts = dict(test_df.team_code.value_counts())"
   ]
  },
  {
   "cell_type": "code",
   "execution_count": null,
   "metadata": {},
   "outputs": [],
   "source": [
    "dup_codes = [key for key, value in code_counts.items() if value > 1]"
   ]
  },
  {
   "cell_type": "code",
   "execution_count": null,
   "metadata": {},
   "outputs": [],
   "source": [
    "dup_codes"
   ]
  },
  {
   "cell_type": "code",
   "execution_count": null,
   "metadata": {},
   "outputs": [],
   "source": [
    "no_code = test_df[pd.isna(test_df.team_code)]\n",
    "print(len(no_code))\n",
    "no_code.head(15)"
   ]
  },
  {
   "cell_type": "code",
   "execution_count": null,
   "metadata": {},
   "outputs": [],
   "source": [
    "dup_code = test_df[test_df.team_code.apply(lambda c: c in dup_codes)]\n",
    "print(len(dup_code))\n",
    "dup_code.head(15)"
   ]
  },
  {
   "cell_type": "code",
   "execution_count": null,
   "metadata": {},
   "outputs": [],
   "source": [
    "fixes = {\n",
    "    'Molloy (2)': 'FLA',\n",
    "    'Nicolai': 'MORE',\n",
    "    'F-Cup': 'LBSU',\n",
    "    'Scott (2)': 'DUKE',\n",
    "    'Cimi (2)': 'UK',\n",
    "    'Peralo (2)': 'CSU',\n",
    "    'Leff (2)': 'TEX'\n",
    "}"
   ]
  },
  {
   "cell_type": "code",
   "execution_count": null,
   "metadata": {},
   "outputs": [],
   "source": [
    "test_df['team_code'] = test_df.apply(\n",
    "    lambda row: fixes[row.participant_name] if row.participant_name in fixes else row.team_code,\n",
    "    axis=1\n",
    ")"
   ]
  },
  {
   "cell_type": "code",
   "execution_count": null,
   "metadata": {},
   "outputs": [],
   "source": [
    "test_df.isna().sum()"
   ]
  },
  {
   "cell_type": "code",
   "execution_count": null,
   "metadata": {},
   "outputs": [],
   "source": [
    "len(test_df.team_code.unique())"
   ]
  },
  {
   "cell_type": "code",
   "execution_count": null,
   "metadata": {},
   "outputs": [],
   "source": [
    "test_df.team_code.value_counts()"
   ]
  },
  {
   "cell_type": "code",
   "execution_count": null,
   "metadata": {},
   "outputs": [],
   "source": [
    "test_df[test_df.team_code.values == 'TEX'].head()"
   ]
  },
  {
   "cell_type": "code",
   "execution_count": null,
   "metadata": {},
   "outputs": [],
   "source": [
    "test_df[test_df.team_code.values == 'TTU'].head()"
   ]
  },
  {
   "cell_type": "code",
   "execution_count": null,
   "metadata": {},
   "outputs": [],
   "source": [
    "len(test_df.team_code.unique())"
   ]
  },
  {
   "cell_type": "code",
   "execution_count": null,
   "metadata": {},
   "outputs": [],
   "source": [
    "test_df.to_csv('mm-with-team-codes.csv', index=False)"
   ]
  },
  {
   "cell_type": "code",
   "execution_count": null,
   "metadata": {},
   "outputs": [],
   "source": [
    "# manually changed to TTU^"
   ]
  },
  {
   "cell_type": "code",
   "execution_count": null,
   "metadata": {},
   "outputs": [],
   "source": [
    "df_clean = pd.read_csv('mm-with-team-codes.csv')\n",
    "assert len(df_clean.team_code.unique()) == 64"
   ]
  },
  {
   "cell_type": "code",
   "execution_count": null,
   "metadata": {},
   "outputs": [],
   "source": [
    "from construct_bracket import Bracket"
   ]
  },
  {
   "cell_type": "code",
   "execution_count": null,
   "metadata": {},
   "outputs": [],
   "source": [
    "bracket = Bracket.from_csv('mm-with-team-codes.csv')"
   ]
  },
  {
   "cell_type": "code",
   "execution_count": null,
   "metadata": {},
   "outputs": [],
   "source": [
    "bracket"
   ]
  },
  {
   "cell_type": "code",
   "execution_count": null,
   "metadata": {},
   "outputs": [],
   "source": [
    "data_from_march.keys()"
   ]
  },
  {
   "cell_type": "code",
   "execution_count": null,
   "metadata": {},
   "outputs": [],
   "source": [
    "is_finished = data_from_march['events'][0]['status']['type']['completed']  # boolean\n",
    "status = data_from_march['events'][0]['status']['type']['name']\n",
    "# change last 0 to 1 for second team\n",
    "team_to_score = {}\n",
    "for i in range(2):\n",
    "    score = data_from_march['events'][0]['competitions'][0]['competitors'][i]['score']\n",
    "    team_code = data_from_march['events'][0]['competitions'][0]['competitors'][i]['team']['abbreviation']\n",
    "    team_to_score[team_code] = score\n",
    "status, is_finished, team_to_score"
   ]
  },
  {
   "cell_type": "code",
   "execution_count": null,
   "metadata": {},
   "outputs": [],
   "source": [
    "data_from_march['events'][0]['competitions'][0]['competitors'][0]['winner']"
   ]
  },
  {
   "cell_type": "code",
   "execution_count": null,
   "metadata": {},
   "outputs": [],
   "source": []
  }
 ],
 "metadata": {
  "kernelspec": {
   "display_name": "mm-bracket",
   "language": "python",
   "name": "python3"
  },
  "language_info": {
   "codemirror_mode": {
    "name": "ipython",
    "version": 3
   },
   "file_extension": ".py",
   "mimetype": "text/x-python",
   "name": "python",
   "nbconvert_exporter": "python",
   "pygments_lexer": "ipython3",
   "version": "3.8.19"
  }
 },
 "nbformat": 4,
 "nbformat_minor": 2
}
