{
 "cells": [
  {
   "cell_type": "code",
   "execution_count": 1,
   "metadata": {},
   "outputs": [],
   "source": [
    "%load_ext autoreload\n",
    "%autoreload 2"
   ]
  },
  {
   "cell_type": "code",
   "execution_count": 2,
   "metadata": {},
   "outputs": [],
   "source": [
    "import requests\n",
    "import json\n",
    "import pandas as pd"
   ]
  },
  {
   "cell_type": "code",
   "execution_count": 3,
   "metadata": {},
   "outputs": [],
   "source": [
    "from datetime import datetime, timedelta"
   ]
  },
  {
   "cell_type": "code",
   "execution_count": 75,
   "metadata": {},
   "outputs": [],
   "source": [
    "\n",
    "# FIXME: instead of using date range, just query 3 days and concatenate results here\n",
    "data1 = requests.get(\n",
    "    f'https://site.api.espn.com/' +\\\n",
    "    f'apis/site/v2/sports/basketball/mens-college-basketball/scoreboard?dates=20250329'\n",
    ").json()\n",
    "data2 = requests.get(\n",
    "    f'https://site.api.espn.com/' +\\\n",
    "    f'apis/site/v2/sports/basketball/mens-college-basketball/scoreboard?dates=20250330'\n",
    ").json()\n",
    "data3 = requests.get(\n",
    "    f'https://site.api.espn.com/' +\\\n",
    "    f'apis/site/v2/sports/basketball/mens-college-basketball/scoreboard?dates=20250328'\n",
    ").json()\n",
    "# pre-process this data to make it query-able via two-team code tuples\n",
    "all_data = data1['events'] + data2['events'] + data3['events']\n",
    "event_data_by_matchup_tuple = {}\n",
    "for event_data in all_data:\n",
    "    matchup_tuple = tuple(sorted(event_data['shortName'].split(' VS ')))\n",
    "    if matchup_tuple == ('TBD', 'TBD'):\n",
    "        continue\n",
    "    assert len(matchup_tuple) == 2\n",
    "    assert matchup_tuple not in event_data_by_matchup_tuple  # teams should only play once in the tournament\n",
    "    event_data_by_matchup_tuple[matchup_tuple] = event_data\n"
   ]
  },
  {
   "cell_type": "code",
   "execution_count": 76,
   "metadata": {},
   "outputs": [
    {
     "data": {
      "text/plain": [
       "(8, 2, 2, 4)"
      ]
     },
     "execution_count": 76,
     "metadata": {},
     "output_type": "execute_result"
    }
   ],
   "source": [
    "len(all_data), len(data1['events']), len(data2['events']), len(data3['events'])"
   ]
  },
  {
   "cell_type": "code",
   "execution_count": 39,
   "metadata": {},
   "outputs": [],
   "source": [
    "from dotenv import dotenv_values\n",
    "\n",
    "config = dotenv_values(\".env\")"
   ]
  },
  {
   "cell_type": "markdown",
   "metadata": {},
   "source": [
    "## ODDS API"
   ]
  },
  {
   "cell_type": "code",
   "execution_count": 5,
   "metadata": {},
   "outputs": [],
   "source": [
    "from bracket import Bracket"
   ]
  },
  {
   "cell_type": "code",
   "execution_count": 17,
   "metadata": {},
   "outputs": [
    {
     "name": "stderr",
     "output_type": "stream",
     "text": [
      "[2025-04-01 15:58:36,147 - bracket - INFO] Using spread cache!\n",
      "[2025-04-01 15:58:36,148 - bracket - INFO] No cache file found at: ./.spread_cache.pkl. Creating one!\n"
     ]
    }
   ],
   "source": [
    "bracket = Bracket.from_config(config)"
   ]
  },
  {
   "cell_type": "code",
   "execution_count": 20,
   "metadata": {},
   "outputs": [
    {
     "name": "stderr",
     "output_type": "stream",
     "text": [
      "[2025-04-01 15:59:05,678 - bracket - INFO] Data for 64 events returned.\n"
     ]
    },
    {
     "name": "stdout",
     "output_type": "stream",
     "text": [
      "Found 32 determined events\n"
     ]
    }
   ],
   "source": [
    "bracket.pre_populate_events()"
   ]
  },
  {
   "cell_type": "code",
   "execution_count": 97,
   "metadata": {},
   "outputs": [],
   "source": [
    "events_by_round = bracket.to_events_by_round()"
   ]
  },
  {
   "cell_type": "code",
   "execution_count": 67,
   "metadata": {},
   "outputs": [],
   "source": [
    "espn_name_to_odds_name = {}"
   ]
  },
  {
   "cell_type": "code",
   "execution_count": 68,
   "metadata": {},
   "outputs": [],
   "source": [
    "def espn_team_to_odds_team(game, event):\n",
    "    def teams_match(team1, team2):\n",
    "        if team1 == team2:\n",
    "            return True\n",
    "        team1_words = team1.lower().split()\n",
    "        team2_words = team2.lower().split()\n",
    "        if all(\n",
    "            [\n",
    "                any(word1 in word2 for word2 in team2_words)\n",
    "                for word1 in team1_words\n",
    "            ]\n",
    "        ):\n",
    "            return True\n",
    "        if all(\n",
    "            [\n",
    "                any(word2 in word1 for word1 in team1_words)\n",
    "                for word2 in team2_words\n",
    "            ]\n",
    "        ):\n",
    "            return True\n",
    "        return False\n",
    "    if teams_match(game['home_team'], event.home_participant.team.name):\n",
    "        # ensure away matches away\n",
    "        if teams_match(game['away_team'], event.away_participant.team.name):\n",
    "            espn_name_to_odds_name[event.home_participant.team.name] = game['home_team']\n",
    "            espn_name_to_odds_name[event.away_participant.team.name] = game['away_team']\n",
    "            return {\n",
    "                event.home_participant.team.name: game['home_team'],\n",
    "                event.away_participant.team.name: game['away_team'],\n",
    "            }\n",
    "    # away team matches home team\n",
    "    if teams_match(game['away_team'], event.home_participant.team.name):\n",
    "        # ensure away matches home\n",
    "        if teams_match(game['home_team'], event.away_participant.team.name):\n",
    "            espn_name_to_odds_name[event.home_participant.team.name] = game['away_team']\n",
    "            espn_name_to_odds_name[event.away_participant.team.name] = game['home_team']\n",
    "            return {\n",
    "                event.home_participant.team.name: game['away_team'],\n",
    "                event.away_participant.team.name: game['home_team'],\n",
    "            }\n",
    "    return {}"
   ]
  },
  {
   "cell_type": "code",
   "execution_count": 88,
   "metadata": {},
   "outputs": [],
   "source": [
    "def team_match(game, event):\n",
    "    if game['home_team'] == event.home_participant.team.odds_api_name:\n",
    "        # ensure away matches away\n",
    "        if game['away_team'] == event.away_participant.team.odds_api_name:\n",
    "            return True\n",
    "    # away team matches home team\n",
    "    if game['away_team'] == event.home_participant.team.odds_api_name:\n",
    "        # ensure away matches home\n",
    "        if game['home_team'] == event.away_participant.team.odds_api_name:\n",
    "            return True\n",
    "    return False"
   ]
  },
  {
   "cell_type": "code",
   "execution_count": 127,
   "metadata": {},
   "outputs": [
    {
     "data": {
      "text/plain": [
       "{\"Saint Peter's Peacocks\": 22.0, 'Tennessee Volunteers': -22.0}"
      ]
     },
     "execution_count": 127,
     "metadata": {},
     "output_type": "execute_result"
    }
   ],
   "source": [
    "get_spread(s)"
   ]
  },
  {
   "cell_type": "code",
   "execution_count": 117,
   "metadata": {},
   "outputs": [],
   "source": [
    "import numpy as np"
   ]
  },
  {
   "cell_type": "code",
   "execution_count": 119,
   "metadata": {},
   "outputs": [],
   "source": [
    "from statistics import mode\n"
   ]
  },
  {
   "cell_type": "code",
   "execution_count": 121,
   "metadata": {},
   "outputs": [
    {
     "data": {
      "text/plain": [
       "2"
      ]
     },
     "execution_count": 121,
     "metadata": {},
     "output_type": "execute_result"
    }
   ],
   "source": [
    "[1, 2, 3].index(3)"
   ]
  },
  {
   "cell_type": "code",
   "execution_count": 126,
   "metadata": {},
   "outputs": [],
   "source": [
    "def get_spread(spreads):\n",
    "    spread_point_outcomes = [spread['outcomes'][0]['point'] for spread in spreads]\n",
    "    point_spread = mode(spread_point_outcomes)\n",
    "    return {\n",
    "        spreads[0]['outcomes'][0]['name']: point_spread,  # home\n",
    "        spreads[0]['outcomes'][1]['name']: -point_spread,  # away\n",
    "    }\n",
    "    return spread_outcomes_away"
   ]
  },
  {
   "cell_type": "code",
   "execution_count": 111,
   "metadata": {},
   "outputs": [],
   "source": [
    "s = get_spreads(event, time_min_5)"
   ]
  },
  {
   "cell_type": "code",
   "execution_count": 105,
   "metadata": {},
   "outputs": [
    {
     "data": {
      "text/plain": [
       "'2024-03-22T01:15:00Z'"
      ]
     },
     "execution_count": 105,
     "metadata": {},
     "output_type": "execute_result"
    }
   ],
   "source": [
    "time_min_5"
   ]
  },
  {
   "cell_type": "code",
   "execution_count": 103,
   "metadata": {},
   "outputs": [
    {
     "data": {
      "text/plain": [
       "[{'key': 'spreads',\n",
       "  'last_update': '2024-03-22T01:10:09Z',\n",
       "  'outcomes': [{'name': \"Saint Peter's Peacocks\",\n",
       "    'price': -108,\n",
       "    'point': 21.5},\n",
       "   {'name': 'Tennessee Volunteers', 'price': -112, 'point': -21.5}]},\n",
       " {'key': 'spreads',\n",
       "  'last_update': '2024-03-22T01:10:36Z',\n",
       "  'outcomes': [{'name': \"Saint Peter's Peacocks\",\n",
       "    'price': -109,\n",
       "    'point': 22.0},\n",
       "   {'name': 'Tennessee Volunteers', 'price': -112, 'point': -22.0}]},\n",
       " {'key': 'spreads',\n",
       "  'last_update': '2024-03-22T01:10:09Z',\n",
       "  'outcomes': [{'name': \"Saint Peter's Peacocks\",\n",
       "    'price': -109,\n",
       "    'point': 22.0},\n",
       "   {'name': 'Tennessee Volunteers', 'price': -112, 'point': -22.0}]},\n",
       " {'key': 'spreads',\n",
       "  'last_update': '2024-03-22T01:09:35Z',\n",
       "  'outcomes': [{'name': \"Saint Peter's Peacocks\",\n",
       "    'price': -115,\n",
       "    'point': 22.5},\n",
       "   {'name': 'Tennessee Volunteers', 'price': -105, 'point': -22.5}]},\n",
       " {'key': 'spreads',\n",
       "  'last_update': '2024-03-22T01:09:56Z',\n",
       "  'outcomes': [{'name': \"Saint Peter's Peacocks\",\n",
       "    'price': -110,\n",
       "    'point': 22.0},\n",
       "   {'name': 'Tennessee Volunteers', 'price': -110, 'point': -22.0}]},\n",
       " {'key': 'spreads',\n",
       "  'last_update': '2024-03-22T01:09:55Z',\n",
       "  'outcomes': [{'name': \"Saint Peter's Peacocks\",\n",
       "    'price': -106,\n",
       "    'point': 22.0},\n",
       "   {'name': 'Tennessee Volunteers', 'price': -106, 'point': -22.0}]},\n",
       " {'key': 'spreads',\n",
       "  'last_update': '2024-03-22T01:10:36Z',\n",
       "  'outcomes': [{'name': \"Saint Peter's Peacocks\",\n",
       "    'price': -110,\n",
       "    'point': 22.0},\n",
       "   {'name': 'Tennessee Volunteers', 'price': -110, 'point': -22.0}]},\n",
       " {'key': 'spreads',\n",
       "  'last_update': '2024-03-22T01:10:36Z',\n",
       "  'outcomes': [{'name': \"Saint Peter's Peacocks\",\n",
       "    'price': -110,\n",
       "    'point': 22.0},\n",
       "   {'name': 'Tennessee Volunteers', 'price': -110, 'point': -22.0}]},\n",
       " {'key': 'spreads',\n",
       "  'last_update': '2024-03-22T01:10:36Z',\n",
       "  'outcomes': [{'name': \"Saint Peter's Peacocks\",\n",
       "    'price': -105,\n",
       "    'point': 21.5},\n",
       "   {'name': 'Tennessee Volunteers', 'price': -115, 'point': -21.5}]},\n",
       " {'key': 'spreads',\n",
       "  'last_update': '2024-03-22T01:10:07Z',\n",
       "  'outcomes': [{'name': \"Saint Peter's Peacocks\",\n",
       "    'price': -110,\n",
       "    'point': 22.0},\n",
       "   {'name': 'Tennessee Volunteers', 'price': -110, 'point': -22.0}]},\n",
       " {'key': 'spreads',\n",
       "  'last_update': '2024-03-22T01:09:09Z',\n",
       "  'outcomes': [{'name': \"Saint Peter's Peacocks\",\n",
       "    'price': -110,\n",
       "    'point': 21.5},\n",
       "   {'name': 'Tennessee Volunteers', 'price': -110, 'point': -21.5}]}]"
      ]
     },
     "execution_count": 103,
     "metadata": {},
     "output_type": "execute_result"
    }
   ],
   "source": [
    "s"
   ]
  },
  {
   "cell_type": "code",
   "execution_count": 101,
   "metadata": {},
   "outputs": [],
   "source": [
    "def get_spreads(event, date_str):\n",
    "    spreads_past = requests.get(\n",
    "        f'https://api.the-odds-api.com/v4/historical/sports/basketball_ncaab/odds?apiKey={config[\"ODDS_API_KEY\"]}&regions=us&markets=spreads&dateFormat=iso&oddsFormat=american&date={date_str}'\n",
    "    ).json()\n",
    "    spreads = []\n",
    "    for game in spreads_past['data']:\n",
    "        # espn_to_odds_names = espn_team_to_odds_team(game, event)\n",
    "        if team_match(game, event):\n",
    "            for bookmaker in game['bookmakers']:\n",
    "                spreads.append(bookmaker['markets'][0])#['outcomes'][0]['point'])\n",
    "            break\n",
    "    if len(spreads) == 0:\n",
    "        print('no match')\n",
    "        teams = [(game['home_team'], game['away_team']) for game in spreads_past['data']]\n",
    "        print(teams)\n",
    "        pass\n",
    "    return spreads"
   ]
  },
  {
   "cell_type": "code",
   "execution_count": 99,
   "metadata": {},
   "outputs": [
    {
     "name": "stdout",
     "output_type": "stream",
     "text": [
      "UConn Huskies Stetson Hatters 2024-03-22T19:17:00Z\n",
      "\t [27.5, 27.5, 27.5, 27.5, 27.5, 27.5, 27.5, 27.5, 27.5, 27.5, 27.5, 27.5, 27.5, 27.5]\n",
      "Florida Atlantic Owls Northwestern Wildcats 2024-03-22T16:10:00Z\n",
      "\t [-4.5, -3.5, -4.5, -4.5, -4.5, -4.5, -4.0, -4.0, -4.0, -4.5, -4.5, -4.0, -4.0, -4.5]\n",
      "San Diego State Aztecs UAB Blazers 2024-03-22T17:40:00Z\n",
      "\t [-6.0, -6.5, -6.5, -6.5, -6.5, -6.5, -6.0, -6.5, -6.5, -6.0, -6.5, -6.0, -6.5, -6.5]\n",
      "Auburn Tigers Yale Bulldogs 2024-03-22T20:28:00Z\n",
      "\t [-14.0, -14.0, -13.5, -13.5, -14.0, -14.0, -14.5, -13.5, -13.5, -14.0, -14.0, -14.0, -13.5, -13.5]\n",
      "BYU Cougars Duquesne Dukes 2024-03-21T16:35:00Z\n",
      "\t [-9.5, -9.5, -9.5, -9.0, -9.5, -9.5, -9.0, -9.5, -9.5, -9.0, -9.5, -9.5, -9.5]\n",
      "Illinois Fighting Illini Morehead State Eagles 2024-03-21T19:25:00Z\n",
      "\t [-10.5, -11.0, -11.5, -11.0, -11.0, -11.0, -11.0, -11.0, -11.0, -11.0, -11.0, -11.0, -11.0]\n",
      "Washington State Cougars Drake Bulldogs 2024-03-22T02:07:00Z\n",
      "\t [-1.0, -1.5, -1.0, -1.0, -1.5, -1.5, -1.0, -1.0, -1.0, -1.0, -1.0, -1.0, -1.0, -1.5]\n",
      "Iowa State Cyclones South Dakota State Jackrabbits 2024-03-21T23:30:00Z\n",
      "\t [-15.0, -15.5, -16.0, -16.0, -15.5, -15.0, -15.5, -15.0, -15.0, -15.0, -15.0, -15.5, -15.0]\n",
      "North Carolina Tar Heels Wagner Seahawks 2024-03-21T18:40:00Z\n",
      "\t [-24.5, -25.5, -25.5, -25.5, -25.5, -25.5, -26.0, -26.0, -26.0, -25.5, -25.5, -25.5]\n",
      "Mississippi State Bulldogs Michigan State Spartans 2024-03-21T16:10:00Z\n",
      "\t [-1.5, -1.5, -1.5, -1.5, -1.5, -1.5, -1.5, -1.5, -1.5, -1.5, -1.5, -1.5, -1.5]\n",
      "Saint Mary's Gaels Grand Canyon Lopes 2024-03-23T02:52:00Z\n",
      "\t [6.0, 5.5, 5.5, 5.5, 6.0, 5.5, 5.5, 5.5, 6.0, 6.0, 5.5, 5.5, 5.5]\n",
      "Alabama Crimson Tide Charleston Cougars 2024-03-22T23:58:00Z\n",
      "\t [-8.5, -8.0, -8.5, -8.5, -8.5, -8.5, -9.0, -8.5, -8.5, -8.5, -8.5, -8.5, -8.5, -9.0]\n",
      "Clemson Tigers New Mexico Lobos 2024-03-22T19:05:00Z\n",
      "\t [1.5, 2.0, 1.5, 2.0, 2.0, 2.0, 2.5, 2.0, 2.0, 2.0, 2.0, 2.0, 2.0, 2.5]\n",
      "Baylor Bears Colgate Raiders 2024-03-22T16:35:00Z\n",
      "\t [-15.0, -14.5, -14.5, -14.5, -14.5, -14.5, -15.0, -14.5, -14.5, -15.0, -14.5, -14.5, -14.5]\n",
      "Dayton Flyers Nevada Wolf Pack 2024-03-21T20:40:00Z\n",
      "\t [1.5, 1.5, 1.5, 2.0, 2.0, 2.0, 2.0, 1.5, 1.5, 1.5, 1.5, 1.5, 1.0]\n",
      "Arizona Wildcats Long Beach State Beach 2024-03-21T17:55:00Z\n",
      "\t [-19.5, -20.5, -20.5, -20.0, -20.5, -20.5, -19.5, -20.0, -20.0, -20.5, -20.0, -20.0, -20.0]\n",
      "Houston Cougars Longwood Lancers 2024-03-23T01:44:00Z\n",
      "\t [-24.0, -23.5, -24.5, -24.0, -24.0, -24.0, -24.0, -24.0, -24.0, -24.0, -24.0, -24.0, -24.5, -24.0]\n",
      "Nebraska Cornhuskers Texas A&M Aggies 2024-03-22T22:55:00Z\n",
      "\t [1.5, 1.0, 1.5, 1.0, 1.0, 1.0, 1.0, 1.0, 1.0, 1.0, 1.0, 1.0, 1.0, 1.0]\n",
      "Wisconsin Badgers James Madison Dukes 2024-03-23T01:45:00Z\n",
      "\t [5.0, 4.5, 4.5, 4.5, 4.5, 4.5, 5.0, 4.5, 4.5, 5.0, 5.0, 5.0, 5.0, 5.0]\n",
      "Duke Blue Devils Vermont Catamounts 2024-03-22T23:05:00Z\n",
      "\t [-12.5, -12.5, -12.5, -12.5, -12.5, -12.5, -12.0, -12.5, -12.5, -13.0, -12.5, -12.5, -12.5, -12.0]\n",
      "Texas Tech Red Raiders NC State Wolfpack 2024-03-22T02:05:00Z\n",
      "\t [4.5, 5.0, 4.5, 4.5, 5.5, 5.0, 5.0, 5.0, 5.0, 5.0, 5.0, 5.0, 5.0, 5.5]\n",
      "Kentucky Wildcats Oakland Golden Grizzlies 2024-03-21T23:15:00Z\n",
      "\t [-13.5, -13.0, -13.5, -13.5, -13.5, -13.0, -13.5, -13.0, -13.0, -13.0, -13.5, -13.0, -13.0]\n",
      "Florida Gators Colorado Buffaloes 2024-03-22T20:33:00Z\n",
      "\t [-1.5, -1.5, -1.0, -1.5, -1.0, -1.0, -1.0, -1.0, -1.0, -1.0, -1.5, -1.5, -1.0, -1.0]\n",
      "Marquette Golden Eagles Western Kentucky Hilltoppers 2024-03-22T17:55:00Z\n",
      "\t [-14.5, -14.5, -14.5, -15.0, -14.5, -14.5, -15.0, -14.5, -14.5, -15.0, -15.0, -15.5, -15.0, -13.5]\n",
      "Purdue Boilermakers Grambling Tigers 2024-03-22T23:54:00Z\n",
      "\t [27.0, 26.5, 27.0, 27.0, 27.5, 27.0, 27.0, 27.0, 27.0, 27.0, 27.0, 26.5]\n",
      "Utah State Aggies TCU Horned Frogs 2024-03-23T02:25:00Z\n",
      "\t [-3.5, -4.0, -3.5, -4.0, -4.0, -4.0, -4.0, -4.0, -4.0, -3.5, -4.0, -4.0, -4.0, -4.0]\n",
      "Gonzaga Bulldogs McNeese Cowboys 2024-03-21T23:42:00Z\n",
      "\t [-6.5, -7.0, -7.0, -6.5, -6.5, -6.5, -6.5, -6.5, -6.5, -6.5, -6.5, -6.5, -6.5]\n",
      "Kansas Jayhawks Samford Bulldogs 2024-03-22T02:15:00Z\n",
      "\t [-7.5, -7.5, -7.5, -7.5, -7.0, -7.5, -7.5, -7.5, -7.5, -7.0, -7.0, -7.5, -7.5, -7.0]\n",
      "South Carolina Gamecocks Oregon Ducks 2024-03-21T19:55:00Z\n",
      "\t [-2.5, -2.5, -2.5, -2.5, -2.5, -2.5, -2.5, -2.5, -2.5, -2.5, -3.0, -2.5, -2.5]\n",
      "Creighton Bluejays Akron Zips 2024-03-21T17:25:00Z\n",
      "\t [12.5, 12.0, 11.5, 12.0, 12.0, 12.0, 12.0, 12.0, 12.0, 12.0, 12.0, 12.0, 12.0]\n",
      "Texas Longhorns Colorado State Rams 2024-03-21T22:45:00Z\n",
      "\t [3.0, 2.5, 2.5, 2.5, 3.0, 3.5, 3.0, 3.0, 3.0, 3.0, 3.0, 3.0, 3.0]\n",
      "Tennessee Volunteers Saint Peter's Peacocks 2024-03-22T01:15:00Z\n",
      "\t [21.5, 22.0, 22.0, 22.5, 22.0, 22.0, 22.0, 22.0, 21.5, 22.0, 21.5]\n"
     ]
    }
   ],
   "source": [
    "for round in (1,):\n",
    "    for event in events_by_round[round]:\n",
    "        time_min_5 = (event.estimated_start_time - timedelta(minutes=5)).strftime('%Y-%m-%dT%H:%M:%SZ')\n",
    "        print(event.home_participant.team.name, event.away_participant.team.name, time_min_5)\n",
    "        print('\\t', get_past_odds(event, time_min_5))"
   ]
  },
  {
   "cell_type": "code",
   "execution_count": 90,
   "metadata": {},
   "outputs": [
    {
     "data": {
      "text/plain": [
       "64"
      ]
     },
     "execution_count": 90,
     "metadata": {},
     "output_type": "execute_result"
    }
   ],
   "source": [
    "len(espn_name_to_odds_name)"
   ]
  },
  {
   "cell_type": "code",
   "execution_count": 91,
   "metadata": {},
   "outputs": [],
   "source": [
    "for event in events_by_round[1]:\n",
    "    if event.home_participant.team.name not in espn_name_to_odds_name:\n",
    "        print(event.home_participant.team.name)\n",
    "    if event.away_participant.team.name not in espn_name_to_odds_name:\n",
    "        print(event.away_participant.team.name)"
   ]
  },
  {
   "cell_type": "code",
   "execution_count": 72,
   "metadata": {},
   "outputs": [],
   "source": [
    "espn_name_to_odds_name['Arizona Wildcats'] = 'Arizona Wildcats'\n",
    "espn_name_to_odds_name['Long Beach State Beach'] = 'Long Beach St 49ers'"
   ]
  },
  {
   "cell_type": "code",
   "execution_count": 73,
   "metadata": {},
   "outputs": [
    {
     "data": {
      "text/plain": [
       "64"
      ]
     },
     "execution_count": 73,
     "metadata": {},
     "output_type": "execute_result"
    }
   ],
   "source": [
    "len(espn_name_to_odds_name)"
   ]
  },
  {
   "cell_type": "code",
   "execution_count": 74,
   "metadata": {},
   "outputs": [
    {
     "data": {
      "text/html": [
       "<div>\n",
       "<style scoped>\n",
       "    .dataframe tbody tr th:only-of-type {\n",
       "        vertical-align: middle;\n",
       "    }\n",
       "\n",
       "    .dataframe tbody tr th {\n",
       "        vertical-align: top;\n",
       "    }\n",
       "\n",
       "    .dataframe thead th {\n",
       "        text-align: right;\n",
       "    }\n",
       "</style>\n",
       "<table border=\"1\" class=\"dataframe\">\n",
       "  <thead>\n",
       "    <tr style=\"text-align: right;\">\n",
       "      <th></th>\n",
       "      <th>participant_name</th>\n",
       "      <th>team_name</th>\n",
       "      <th>seed</th>\n",
       "      <th>team_name_norm</th>\n",
       "      <th>team_code</th>\n",
       "    </tr>\n",
       "  </thead>\n",
       "  <tbody>\n",
       "    <tr>\n",
       "      <th>0</th>\n",
       "      <td>Scott</td>\n",
       "      <td>UConn Huskies</td>\n",
       "      <td>1</td>\n",
       "      <td>UConn</td>\n",
       "      <td>CONN</td>\n",
       "    </tr>\n",
       "    <tr>\n",
       "      <th>1</th>\n",
       "      <td>Katz</td>\n",
       "      <td>Stetson Hatters</td>\n",
       "      <td>16</td>\n",
       "      <td>Stetson</td>\n",
       "      <td>STET</td>\n",
       "    </tr>\n",
       "    <tr>\n",
       "      <th>2</th>\n",
       "      <td>Molloy</td>\n",
       "      <td>Florida Atlantic Owls</td>\n",
       "      <td>8</td>\n",
       "      <td>Florida Atlantic</td>\n",
       "      <td>FAU</td>\n",
       "    </tr>\n",
       "    <tr>\n",
       "      <th>3</th>\n",
       "      <td>John + Tyler</td>\n",
       "      <td>Northwestern Wildcats</td>\n",
       "      <td>9</td>\n",
       "      <td>Northwestern</td>\n",
       "      <td>NU</td>\n",
       "    </tr>\n",
       "    <tr>\n",
       "      <th>4</th>\n",
       "      <td>Eddie</td>\n",
       "      <td>San Diego State Aztecs</td>\n",
       "      <td>5</td>\n",
       "      <td>San Diego St</td>\n",
       "      <td>SDSU</td>\n",
       "    </tr>\n",
       "  </tbody>\n",
       "</table>\n",
       "</div>"
      ],
      "text/plain": [
       "  participant_name               team_name  seed    team_name_norm team_code\n",
       "0            Scott           UConn Huskies     1             UConn      CONN\n",
       "1             Katz         Stetson Hatters    16           Stetson      STET\n",
       "2           Molloy   Florida Atlantic Owls     8  Florida Atlantic       FAU\n",
       "3     John + Tyler   Northwestern Wildcats     9      Northwestern        NU\n",
       "4            Eddie  San Diego State Aztecs     5      San Diego St      SDSU"
      ]
     },
     "execution_count": 74,
     "metadata": {},
     "output_type": "execute_result"
    }
   ],
   "source": [
    "bracket_df = pd.read_csv('mm-with-team-codes.csv')\n",
    "bracket_df.head()"
   ]
  },
  {
   "cell_type": "code",
   "execution_count": 76,
   "metadata": {},
   "outputs": [
    {
     "data": {
      "text/html": [
       "<div>\n",
       "<style scoped>\n",
       "    .dataframe tbody tr th:only-of-type {\n",
       "        vertical-align: middle;\n",
       "    }\n",
       "\n",
       "    .dataframe tbody tr th {\n",
       "        vertical-align: top;\n",
       "    }\n",
       "\n",
       "    .dataframe thead th {\n",
       "        text-align: right;\n",
       "    }\n",
       "</style>\n",
       "<table border=\"1\" class=\"dataframe\">\n",
       "  <thead>\n",
       "    <tr style=\"text-align: right;\">\n",
       "      <th></th>\n",
       "      <th>participant_name</th>\n",
       "      <th>team_name</th>\n",
       "      <th>seed</th>\n",
       "      <th>team_name_norm</th>\n",
       "      <th>team_code</th>\n",
       "      <th>odds_api_team_name</th>\n",
       "    </tr>\n",
       "  </thead>\n",
       "  <tbody>\n",
       "    <tr>\n",
       "      <th>0</th>\n",
       "      <td>Scott</td>\n",
       "      <td>UConn Huskies</td>\n",
       "      <td>1</td>\n",
       "      <td>UConn</td>\n",
       "      <td>CONN</td>\n",
       "      <td>UConn Huskies</td>\n",
       "    </tr>\n",
       "    <tr>\n",
       "      <th>1</th>\n",
       "      <td>Katz</td>\n",
       "      <td>Stetson Hatters</td>\n",
       "      <td>16</td>\n",
       "      <td>Stetson</td>\n",
       "      <td>STET</td>\n",
       "      <td>Stetson Hatters</td>\n",
       "    </tr>\n",
       "    <tr>\n",
       "      <th>2</th>\n",
       "      <td>Molloy</td>\n",
       "      <td>Florida Atlantic Owls</td>\n",
       "      <td>8</td>\n",
       "      <td>Florida Atlantic</td>\n",
       "      <td>FAU</td>\n",
       "      <td>Florida Atlantic Owls</td>\n",
       "    </tr>\n",
       "    <tr>\n",
       "      <th>3</th>\n",
       "      <td>John + Tyler</td>\n",
       "      <td>Northwestern Wildcats</td>\n",
       "      <td>9</td>\n",
       "      <td>Northwestern</td>\n",
       "      <td>NU</td>\n",
       "      <td>Northwestern Wildcats</td>\n",
       "    </tr>\n",
       "    <tr>\n",
       "      <th>4</th>\n",
       "      <td>Eddie</td>\n",
       "      <td>San Diego State Aztecs</td>\n",
       "      <td>5</td>\n",
       "      <td>San Diego St</td>\n",
       "      <td>SDSU</td>\n",
       "      <td>San Diego St Aztecs</td>\n",
       "    </tr>\n",
       "  </tbody>\n",
       "</table>\n",
       "</div>"
      ],
      "text/plain": [
       "  participant_name               team_name  seed    team_name_norm team_code  \\\n",
       "0            Scott           UConn Huskies     1             UConn      CONN   \n",
       "1             Katz         Stetson Hatters    16           Stetson      STET   \n",
       "2           Molloy   Florida Atlantic Owls     8  Florida Atlantic       FAU   \n",
       "3     John + Tyler   Northwestern Wildcats     9      Northwestern        NU   \n",
       "4            Eddie  San Diego State Aztecs     5      San Diego St      SDSU   \n",
       "\n",
       "      odds_api_team_name  \n",
       "0          UConn Huskies  \n",
       "1        Stetson Hatters  \n",
       "2  Florida Atlantic Owls  \n",
       "3  Northwestern Wildcats  \n",
       "4    San Diego St Aztecs  "
      ]
     },
     "execution_count": 76,
     "metadata": {},
     "output_type": "execute_result"
    }
   ],
   "source": [
    "bracket_df['odds_api_team_name'] = bracket_df.team_name.apply(lambda n: espn_name_to_odds_name[n])\n",
    "bracket_df.head()"
   ]
  },
  {
   "cell_type": "code",
   "execution_count": 77,
   "metadata": {},
   "outputs": [
    {
     "data": {
      "text/plain": [
       "participant_name      0\n",
       "team_name             0\n",
       "seed                  0\n",
       "team_name_norm        0\n",
       "team_code             0\n",
       "odds_api_team_name    0\n",
       "dtype: int64"
      ]
     },
     "execution_count": 77,
     "metadata": {},
     "output_type": "execute_result"
    }
   ],
   "source": [
    "bracket_df.isna().sum()"
   ]
  },
  {
   "cell_type": "code",
   "execution_count": 79,
   "metadata": {},
   "outputs": [
    {
     "data": {
      "text/html": [
       "<div>\n",
       "<style scoped>\n",
       "    .dataframe tbody tr th:only-of-type {\n",
       "        vertical-align: middle;\n",
       "    }\n",
       "\n",
       "    .dataframe tbody tr th {\n",
       "        vertical-align: top;\n",
       "    }\n",
       "\n",
       "    .dataframe thead th {\n",
       "        text-align: right;\n",
       "    }\n",
       "</style>\n",
       "<table border=\"1\" class=\"dataframe\">\n",
       "  <thead>\n",
       "    <tr style=\"text-align: right;\">\n",
       "      <th></th>\n",
       "      <th>participant_name</th>\n",
       "      <th>team_name</th>\n",
       "      <th>seed</th>\n",
       "      <th>team_code</th>\n",
       "      <th>odds_api_team_name</th>\n",
       "    </tr>\n",
       "  </thead>\n",
       "  <tbody>\n",
       "    <tr>\n",
       "      <th>0</th>\n",
       "      <td>Scott</td>\n",
       "      <td>UConn Huskies</td>\n",
       "      <td>1</td>\n",
       "      <td>CONN</td>\n",
       "      <td>UConn Huskies</td>\n",
       "    </tr>\n",
       "    <tr>\n",
       "      <th>1</th>\n",
       "      <td>Katz</td>\n",
       "      <td>Stetson Hatters</td>\n",
       "      <td>16</td>\n",
       "      <td>STET</td>\n",
       "      <td>Stetson Hatters</td>\n",
       "    </tr>\n",
       "    <tr>\n",
       "      <th>2</th>\n",
       "      <td>Molloy</td>\n",
       "      <td>Florida Atlantic Owls</td>\n",
       "      <td>8</td>\n",
       "      <td>FAU</td>\n",
       "      <td>Florida Atlantic Owls</td>\n",
       "    </tr>\n",
       "    <tr>\n",
       "      <th>3</th>\n",
       "      <td>John + Tyler</td>\n",
       "      <td>Northwestern Wildcats</td>\n",
       "      <td>9</td>\n",
       "      <td>NU</td>\n",
       "      <td>Northwestern Wildcats</td>\n",
       "    </tr>\n",
       "    <tr>\n",
       "      <th>4</th>\n",
       "      <td>Eddie</td>\n",
       "      <td>San Diego State Aztecs</td>\n",
       "      <td>5</td>\n",
       "      <td>SDSU</td>\n",
       "      <td>San Diego St Aztecs</td>\n",
       "    </tr>\n",
       "  </tbody>\n",
       "</table>\n",
       "</div>"
      ],
      "text/plain": [
       "  participant_name               team_name  seed team_code  \\\n",
       "0            Scott           UConn Huskies     1      CONN   \n",
       "1             Katz         Stetson Hatters    16      STET   \n",
       "2           Molloy   Florida Atlantic Owls     8       FAU   \n",
       "3     John + Tyler   Northwestern Wildcats     9        NU   \n",
       "4            Eddie  San Diego State Aztecs     5      SDSU   \n",
       "\n",
       "      odds_api_team_name  \n",
       "0          UConn Huskies  \n",
       "1        Stetson Hatters  \n",
       "2  Florida Atlantic Owls  \n",
       "3  Northwestern Wildcats  \n",
       "4    San Diego St Aztecs  "
      ]
     },
     "execution_count": 79,
     "metadata": {},
     "output_type": "execute_result"
    }
   ],
   "source": [
    "bracket_df_clean = bracket_df.drop(columns=['team_name_norm'])\n",
    "bracket_df_clean.head()"
   ]
  },
  {
   "cell_type": "code",
   "execution_count": 81,
   "metadata": {},
   "outputs": [],
   "source": [
    "bracket_df_clean.to_csv('mm-with-team-codes.csv', index=False)"
   ]
  },
  {
   "cell_type": "code",
   "execution_count": 17,
   "metadata": {},
   "outputs": [
    {
     "data": {
      "text/plain": [
       "[]"
      ]
     },
     "execution_count": 17,
     "metadata": {},
     "output_type": "execute_result"
    }
   ],
   "source": [
    "missing_event = events_by_round[2][1]\n",
    "time_min_5 = (missing_event.estimated_start_time - timedelta(minutes=5)).strftime('%Y-%m-%dT%H:%M:%SZ')\n",
    "get_past_odds(missing_event.home_participant.team.name, time_min_5)"
   ]
  },
  {
   "cell_type": "code",
   "execution_count": 12,
   "metadata": {},
   "outputs": [
    {
     "ename": "NameError",
     "evalue": "name 'event' is not defined",
     "output_type": "error",
     "traceback": [
      "\u001b[0;31m---------------------------------------------------------------------------\u001b[0m",
      "\u001b[0;31mNameError\u001b[0m                                 Traceback (most recent call last)",
      "Cell \u001b[0;32mIn[12], line 1\u001b[0m\n\u001b[0;32m----> 1\u001b[0m \u001b[38;5;28mprint\u001b[39m(\u001b[43mevent\u001b[49m\u001b[38;5;241m.\u001b[39mestimated_start_time\u001b[38;5;241m.\u001b[39mstrftime(\u001b[38;5;124m'\u001b[39m\u001b[38;5;124m%\u001b[39m\u001b[38;5;124mY-\u001b[39m\u001b[38;5;124m%\u001b[39m\u001b[38;5;124mm-\u001b[39m\u001b[38;5;132;01m%d\u001b[39;00m\u001b[38;5;124mT\u001b[39m\u001b[38;5;124m%\u001b[39m\u001b[38;5;124mH:\u001b[39m\u001b[38;5;124m%\u001b[39m\u001b[38;5;124mM:\u001b[39m\u001b[38;5;124m%\u001b[39m\u001b[38;5;124mSZ\u001b[39m\u001b[38;5;124m'\u001b[39m))\n\u001b[1;32m      2\u001b[0m \u001b[38;5;28mprint\u001b[39m((event\u001b[38;5;241m.\u001b[39mestimated_start_time \u001b[38;5;241m-\u001b[39m timedelta(minutes\u001b[38;5;241m=\u001b[39m\u001b[38;5;241m5\u001b[39m))\u001b[38;5;241m.\u001b[39mstrftime(\u001b[38;5;124m'\u001b[39m\u001b[38;5;124m%\u001b[39m\u001b[38;5;124mY-\u001b[39m\u001b[38;5;124m%\u001b[39m\u001b[38;5;124mm-\u001b[39m\u001b[38;5;132;01m%d\u001b[39;00m\u001b[38;5;124mT\u001b[39m\u001b[38;5;124m%\u001b[39m\u001b[38;5;124mH:\u001b[39m\u001b[38;5;124m%\u001b[39m\u001b[38;5;124mM:\u001b[39m\u001b[38;5;124m%\u001b[39m\u001b[38;5;124mSZ\u001b[39m\u001b[38;5;124m'\u001b[39m))\n",
      "\u001b[0;31mNameError\u001b[0m: name 'event' is not defined"
     ]
    }
   ],
   "source": [
    "print(event.estimated_start_time.strftime('%Y-%m-%dT%H:%M:%SZ'))\n",
    "print((event.estimated_start_time - timedelta(minutes=5)).strftime('%Y-%m-%dT%H:%M:%SZ'))"
   ]
  },
  {
   "cell_type": "code",
   "execution_count": 67,
   "metadata": {},
   "outputs": [
    {
     "data": {
      "text/plain": [
       "15"
      ]
     },
     "execution_count": 67,
     "metadata": {},
     "output_type": "execute_result"
    }
   ],
   "source": [
    "len(bracket._events_to_process)"
   ]
  },
  {
   "cell_type": "code",
   "execution_count": 66,
   "metadata": {},
   "outputs": [
    {
     "data": {
      "text/plain": [
       "'UConn Huskies'"
      ]
     },
     "execution_count": 66,
     "metadata": {},
     "output_type": "execute_result"
    }
   ],
   "source": [
    "bracket.participants[0].team.name, bracket.participants[0].team.name, "
   ]
  },
  {
   "cell_type": "code",
   "execution_count": 21,
   "metadata": {},
   "outputs": [],
   "source": [
    "# {\n",
    "#     \"key\": \"basketball_ncaab\",\n",
    "#     \"group\": \"Basketball\",\n",
    "#     \"title\": \"NCAAB\",\n",
    "#     \"description\": \"US College Basketball\",\n",
    "#     \"active\": true,\n",
    "#     \"has_outrights\": false\n",
    "#   },"
   ]
  },
  {
   "cell_type": "code",
   "execution_count": 29,
   "metadata": {},
   "outputs": [],
   "source": [
    "from_str = datetime(2025, 3, 9, 4, 15).strftime('%Y-%m-%dT%H:%M:%SZ')  # 2025-03-09T00%3A00%3A00Z\n",
    "to_str = datetime(2025, 4, 20, 4, 15).strftime('%Y-%m-%dT%H:%M:%SZ')  # 2025-04-20T00%3A00%3A00Z"
   ]
  },
  {
   "cell_type": "code",
   "execution_count": 30,
   "metadata": {},
   "outputs": [],
   "source": [
    "spreads_upcoming = requests.get(\n",
    "    f'https://api.the-odds-api.com/v4/sports/basketball_ncaab/odds?apiKey={config[\"ODDS_API_KEY\"]}&regions=us&markets=spreads&dateFormat=iso&oddsFormat=decimal&commenceTimeFrom={from_str}&commenceTimeTo={to_str}'\n",
    ").json()\n"
   ]
  },
  {
   "cell_type": "code",
   "execution_count": 31,
   "metadata": {},
   "outputs": [
    {
     "data": {
      "text/plain": [
       "13"
      ]
     },
     "execution_count": 31,
     "metadata": {},
     "output_type": "execute_result"
    }
   ],
   "source": [
    "len(spreads_upcoming)"
   ]
  },
  {
   "cell_type": "code",
   "execution_count": 25,
   "metadata": {},
   "outputs": [
    {
     "data": {
      "text/plain": [
       "dict_keys(['id', 'sport_key', 'sport_title', 'commence_time', 'home_team', 'away_team', 'bookmakers'])"
      ]
     },
     "execution_count": 25,
     "metadata": {},
     "output_type": "execute_result"
    }
   ],
   "source": [
    "spreads_upcoming[0].keys()"
   ]
  },
  {
   "cell_type": "code",
   "execution_count": 33,
   "metadata": {},
   "outputs": [],
   "source": [
    "import numpy as np"
   ]
  },
  {
   "cell_type": "code",
   "execution_count": 34,
   "metadata": {},
   "outputs": [
    {
     "name": "stdout",
     "output_type": "stream",
     "text": [
      "UCF Knights vs. Oregon St Beavers\n",
      "\ttime start: 2025-04-01T21:38:06Z\n",
      "\t[6.0, 0.5, 1.5]\n",
      "\tspread mean: 2.6666666666666665\n",
      "\tspread std: 2.3921166824012206\n",
      "UC Irvine Anteaters vs. North Texas Mean Green\n",
      "\ttime start: 2025-04-01T23:00:00Z\n",
      "\t[-1.5, -1.5, -1.5, -1.0, -1.5, -1.5]\n",
      "\tspread mean: -1.4166666666666667\n",
      "\tspread std: 0.18633899812498245\n",
      "Villanova Wildcats vs. Colorado Buffaloes\n",
      "\ttime start: 2025-04-02T00:30:00Z\n",
      "\t[4.5, 4.5, 5.0, 4.5, 4.5]\n",
      "\tspread mean: 4.6\n",
      "\tspread std: 0.19999999999999998\n",
      "Loyola (Chi) Ramblers vs. Chattanooga Mocs\n",
      "\ttime start: 2025-04-02T01:30:00Z\n",
      "\t[2.5, 2.5, 2.5, 2.5, 2.5, 2.5]\n",
      "\tspread mean: 2.5\n",
      "\tspread std: 0.0\n",
      "USC Trojans vs. Tulane Green Wave\n",
      "\ttime start: 2025-04-02T03:00:00Z\n",
      "\t[8.0, 8.0, 8.0, 7.5, 8.5]\n",
      "\tspread mean: 8.0\n",
      "\tspread std: 0.31622776601683794\n",
      "Boise State Broncos vs. Butler Bulldogs\n",
      "\ttime start: 2025-04-02T23:00:00Z\n",
      "\t[-6.5, -6.5, -6.5, -6.5, -6.5]\n",
      "\tspread mean: -6.5\n",
      "\tspread std: 0.0\n",
      "Georgetown Hoyas vs. Nebraska Cornhuskers\n",
      "\ttime start: 2025-04-03T01:30:00Z\n",
      "\t[7.5, 7.5, 7.5, 7.5, 7.5]\n",
      "\tspread mean: 7.5\n",
      "\tspread std: 0.0\n",
      "Auburn Tigers vs. Florida Gators\n",
      "\ttime start: 2025-04-05T22:09:00Z\n",
      "\t[2.5, 2.5, 2.5, 2.5, 2.5, 2.5, 2.5, 2.5, 3.0]\n",
      "\tspread mean: 2.5555555555555554\n",
      "\tspread std: 0.15713484026367724\n",
      "Duke Blue Devils vs. Houston Cougars\n",
      "\ttime start: 2025-04-06T00:49:00Z\n",
      "\t[-4.5, -5.5, -5.0, -5.0, -5.0, -5.0, -5.0, -5.5, -5.0]\n",
      "\tspread mean: -5.055555555555555\n",
      "\tspread std: 0.28327886186626583\n",
      "Auburn Tigers vs. Duke Blue Devils\n",
      "\ttime start: 2025-04-08T00:50:00Z\n",
      "\t[5.5, 6.0, 6.0, 5.5]\n",
      "\tspread mean: 5.75\n",
      "\tspread std: 0.25\n",
      "Auburn Tigers vs. Houston Cougars\n",
      "\ttime start: 2025-04-08T00:50:00Z\n",
      "\t[1.5, 1.0, 1.0, 1.0]\n",
      "\tspread mean: 1.125\n",
      "\tspread std: 0.21650635094610965\n",
      "Duke Blue Devils vs. Florida Gators\n",
      "\ttime start: 2025-04-08T00:50:00Z\n",
      "\t[-4.5, -4.5, -4.5, -4.5]\n",
      "\tspread mean: -4.5\n",
      "\tspread std: 0.0\n",
      "Houston Cougars vs. Florida Gators\n",
      "\ttime start: 2025-04-08T00:50:00Z\n",
      "\t[-1.5, -1.0, -1.0, -1.5]\n",
      "\tspread mean: -1.25\n",
      "\tspread std: 0.25\n"
     ]
    }
   ],
   "source": [
    "odds_long_team_names = []\n",
    "for game in spreads_upcoming:\n",
    "    odds_long_team_names.append(game[\"home_team\"])\n",
    "    odds_long_team_names.append(game[\"away_team\"])\n",
    "    print(f'{game[\"home_team\"]} vs. {game[\"away_team\"]}')\n",
    "    print(f'\\ttime start: {game[\"commence_time\"]}')\n",
    "    spreads = []\n",
    "    for bookmaker in game['bookmakers']:\n",
    "        spreads.append(bookmaker['markets'][0]['outcomes'][0]['point'])\n",
    "    print(f'\\t{spreads}')\n",
    "    print(f'\\tspread mean: {np.mean(spreads)}')\n",
    "    print(f'\\tspread std: {np.std(spreads)}')"
   ]
  },
  {
   "cell_type": "code",
   "execution_count": 60,
   "metadata": {},
   "outputs": [],
   "source": [
    "date_str = datetime(2025, 3, 18, 15, 15).strftime('%Y-%m-%dT%H:%M:%SZ') # START DATE OF MARCH MADNESS\n",
    "spreads_past = requests.get(\n",
    "    f'https://api.the-odds-api.com/v4/historical/sports/basketball_ncaab/odds?apiKey={config[\"ODDS_API_KEY\"]}&regions=us&markets=spreads&dateFormat=iso&oddsFormat=american&date={date_str}'\n",
    ").json()"
   ]
  },
  {
   "cell_type": "code",
   "execution_count": 61,
   "metadata": {},
   "outputs": [
    {
     "data": {
      "text/plain": [
       "61"
      ]
     },
     "execution_count": 61,
     "metadata": {},
     "output_type": "execute_result"
    }
   ],
   "source": [
    "len(spreads_past['data'])"
   ]
  },
  {
   "cell_type": "code",
   "execution_count": 62,
   "metadata": {},
   "outputs": [
    {
     "data": {
      "text/plain": [
       "dict_keys(['id', 'sport_key', 'sport_title', 'commence_time', 'home_team', 'away_team', 'bookmakers'])"
      ]
     },
     "execution_count": 62,
     "metadata": {},
     "output_type": "execute_result"
    }
   ],
   "source": [
    "spreads_past['data'][0].keys()"
   ]
  },
  {
   "cell_type": "code",
   "execution_count": 64,
   "metadata": {},
   "outputs": [
    {
     "data": {
      "text/plain": [
       "(122, 109)"
      ]
     },
     "execution_count": 64,
     "metadata": {},
     "output_type": "execute_result"
    }
   ],
   "source": [
    "odds_long_team_names = []\n",
    "for game in spreads_past['data']:\n",
    "    odds_long_team_names.append(game[\"home_team\"])\n",
    "    odds_long_team_names.append(game[\"away_team\"])\n",
    "    # print(f'{game[\"home_team\"]} vs. {game[\"away_team\"]}')\n",
    "    # print(f'\\ttime start: {game[\"commence_time\"]}')\n",
    "    spreads = []\n",
    "    for bookmaker in game['bookmakers']:\n",
    "        spreads.append(bookmaker['markets'][0]['outcomes'][0]['point'])\n",
    "    # print(f'\\t{spreads}')\n",
    "    # print(f'\\tspread mean: {np.mean(spreads)}')\n",
    "    # print(f'\\tspread std: {np.std(spreads)}')\n",
    "len(odds_long_team_names), len(set(odds_long_team_names))"
   ]
  },
  {
   "cell_type": "markdown",
   "metadata": {},
   "source": [
    "## ESPN API"
   ]
  },
  {
   "cell_type": "code",
   "execution_count": 24,
   "metadata": {},
   "outputs": [],
   "source": [
    "data_from_march = requests.get(\n",
    "    'https://site.api.espn.com/apis/site/v2/sports/basketball/mens-college-basketball/scoreboard?dates=202503'\n",
    ").json()"
   ]
  },
  {
   "cell_type": "code",
   "execution_count": 25,
   "metadata": {},
   "outputs": [
    {
     "data": {
      "text/plain": [
       "64"
      ]
     },
     "execution_count": 25,
     "metadata": {},
     "output_type": "execute_result"
    }
   ],
   "source": [
    "len(data_from_march['events'])"
   ]
  },
  {
   "cell_type": "code",
   "execution_count": 54,
   "metadata": {},
   "outputs": [],
   "source": [
    "df_teams = pd.read_csv('mm-with-team-codes.csv')"
   ]
  },
  {
   "cell_type": "code",
   "execution_count": 26,
   "metadata": {},
   "outputs": [],
   "source": [
    "short_teams, long_teams = [], []\n",
    "for event in data_from_march['events']:\n",
    "    s_teams = event['shortName'].split(' VS ')\n",
    "    assert len(s_teams) == 2\n",
    "    l_teams = event['name'].split(' at ')\n",
    "    assert len(l_teams) == 2\n",
    "    short_teams += s_teams\n",
    "    long_teams += l_teams\n",
    "\n",
    "long_to_short = dict(zip(long_teams, short_teams))\n"
   ]
  },
  {
   "cell_type": "code",
   "execution_count": 27,
   "metadata": {},
   "outputs": [
    {
     "data": {
      "text/plain": [
       "{'North Carolina Tar Heels': 'UNC',\n",
       " 'San Diego State Aztecs': 'SDSU',\n",
       " 'St. Francis (PA) Red Flash': 'SFPA',\n",
       " 'Alabama State Hornets': 'ALST',\n",
       " 'Xavier Musketeers': 'XAV',\n",
       " 'Texas Longhorns': 'TEX',\n",
       " \"Mount St. Mary's Mountaineers\": 'MSM',\n",
       " 'American University Eagles': 'AMER',\n",
       " 'SIU Edwardsville Cougars': 'SIUE',\n",
       " 'Houston Cougars': 'HOU',\n",
       " 'Auburn Tigers': 'AUB',\n",
       " 'Wofford Terriers': 'WOF',\n",
       " 'Tennessee Volunteers': 'TENN',\n",
       " 'Omaha Mavericks': 'OMA',\n",
       " \"St. John's Red Storm\": 'SJU',\n",
       " 'Montana Grizzlies': 'MONT',\n",
       " 'Wisconsin Badgers': 'WIS',\n",
       " 'UNC Wilmington Seahawks': 'UNCW',\n",
       " 'Texas Tech Red Raiders': 'TTU',\n",
       " 'High Point Panthers': 'HPU',\n",
       " 'Purdue Boilermakers': 'PUR',\n",
       " 'Yale Bulldogs': 'YALE',\n",
       " 'Texas A&M Aggies': 'TA&M',\n",
       " 'McNeese Cowboys': 'MCN',\n",
       " 'Clemson Tigers': 'CLEM',\n",
       " 'UC San Diego Tritons': 'UCSD',\n",
       " 'Michigan Wolverines': 'MICH',\n",
       " 'VCU Rams': 'VCU',\n",
       " 'BYU Cougars': 'BYU',\n",
       " 'Drake Bulldogs': 'DRKE',\n",
       " 'Missouri Tigers': 'MIZ',\n",
       " 'Arkansas Razorbacks': 'ARK',\n",
       " 'Kansas Jayhawks': 'KU',\n",
       " 'Utah State Aggies': 'USU',\n",
       " 'UCLA Bruins': 'UCLA',\n",
       " 'Creighton Bluejays': 'CREI',\n",
       " 'Louisville Cardinals': 'LOU',\n",
       " 'Georgia Bulldogs': 'UGA',\n",
       " 'Gonzaga Bulldogs': 'GONZ',\n",
       " 'Duke Blue Devils': 'DUKE',\n",
       " 'Norfolk State Spartans': 'NORF',\n",
       " 'Florida Gators': 'FLA',\n",
       " 'Robert Morris Colonials': 'RMU',\n",
       " 'Alabama Crimson Tide': 'ALA',\n",
       " 'Bryant Bulldogs': 'BRY',\n",
       " 'Michigan State Spartans': 'MSU',\n",
       " 'Lipscomb Bisons': 'LIP',\n",
       " 'Iowa State Cyclones': 'ISU',\n",
       " 'Troy Trojans': 'TROY',\n",
       " 'Kentucky Wildcats': 'UK',\n",
       " 'Grand Canyon Lopes': 'GCU',\n",
       " 'Maryland Terrapins': 'MD',\n",
       " 'Akron Zips': 'AKR',\n",
       " 'Arizona Wildcats': 'ARIZ',\n",
       " 'Colorado State Rams': 'CSU',\n",
       " 'Memphis Tigers': 'MEM',\n",
       " 'Liberty Flames': 'LIB',\n",
       " 'Oregon Ducks': 'ORE',\n",
       " 'Ole Miss Rebels': 'MISS',\n",
       " 'Illinois Fighting Illini': 'ILL',\n",
       " 'Vanderbilt Commodores': 'VAN',\n",
       " \"Saint Mary's Gaels\": 'SMC',\n",
       " 'New Mexico Lobos': 'UNM',\n",
       " 'Marquette Golden Eagles': 'MARQ',\n",
       " 'Baylor Bears': 'BAY',\n",
       " 'Mississippi State Bulldogs': 'MSST',\n",
       " 'Oklahoma Sooners': 'OU',\n",
       " 'UConn Huskies': 'CONN'}"
      ]
     },
     "execution_count": 27,
     "metadata": {},
     "output_type": "execute_result"
    }
   ],
   "source": [
    "long_to_short"
   ]
  },
  {
   "cell_type": "code",
   "execution_count": 28,
   "metadata": {},
   "outputs": [
    {
     "data": {
      "text/plain": [
       "68"
      ]
     },
     "execution_count": 28,
     "metadata": {},
     "output_type": "execute_result"
    }
   ],
   "source": [
    "len(long_to_short)"
   ]
  },
  {
   "cell_type": "code",
   "execution_count": 71,
   "metadata": {},
   "outputs": [
    {
     "data": {
      "text/plain": [
       "{'Akron Zips',\n",
       " 'Alabama Crimson Tide',\n",
       " 'Alabama State Hornets',\n",
       " 'American University Eagles',\n",
       " 'Arizona Wildcats',\n",
       " 'Arkansas Razorbacks',\n",
       " 'Auburn Tigers',\n",
       " 'BYU Cougars',\n",
       " 'Baylor Bears',\n",
       " 'Bryant Bulldogs',\n",
       " 'Clemson Tigers',\n",
       " 'Colorado State Rams',\n",
       " 'Creighton Bluejays',\n",
       " 'Drake Bulldogs',\n",
       " 'Duke Blue Devils',\n",
       " 'Florida Gators',\n",
       " 'Georgia Bulldogs',\n",
       " 'Gonzaga Bulldogs',\n",
       " 'Grand Canyon Lopes',\n",
       " 'High Point Panthers',\n",
       " 'Houston Cougars',\n",
       " 'Illinois Fighting Illini',\n",
       " 'Iowa State Cyclones',\n",
       " 'Kansas Jayhawks',\n",
       " 'Kentucky Wildcats',\n",
       " 'Liberty Flames',\n",
       " 'Lipscomb Bisons',\n",
       " 'Louisville Cardinals',\n",
       " 'Marquette Golden Eagles',\n",
       " 'Maryland Terrapins',\n",
       " 'McNeese Cowboys',\n",
       " 'Memphis Tigers',\n",
       " 'Michigan State Spartans',\n",
       " 'Michigan Wolverines',\n",
       " 'Mississippi State Bulldogs',\n",
       " 'Missouri Tigers',\n",
       " 'Montana Grizzlies',\n",
       " \"Mount St. Mary's Mountaineers\",\n",
       " 'New Mexico Lobos',\n",
       " 'Norfolk State Spartans',\n",
       " 'North Carolina Tar Heels',\n",
       " 'Oklahoma Sooners',\n",
       " 'Ole Miss Rebels',\n",
       " 'Omaha Mavericks',\n",
       " 'Oregon Ducks',\n",
       " 'Purdue Boilermakers',\n",
       " 'Robert Morris Colonials',\n",
       " 'SIU Edwardsville Cougars',\n",
       " \"Saint Mary's Gaels\",\n",
       " 'San Diego State Aztecs',\n",
       " 'St. Francis (PA) Red Flash',\n",
       " \"St. John's Red Storm\",\n",
       " 'Tennessee Volunteers',\n",
       " 'Texas A&M Aggies',\n",
       " 'Texas Longhorns',\n",
       " 'Texas Tech Red Raiders',\n",
       " 'Troy Trojans',\n",
       " 'UC San Diego Tritons',\n",
       " 'UCLA Bruins',\n",
       " 'UConn Huskies',\n",
       " 'UNC Wilmington Seahawks',\n",
       " 'Utah State Aggies',\n",
       " 'VCU Rams',\n",
       " 'Vanderbilt Commodores',\n",
       " 'Wisconsin Badgers',\n",
       " 'Wofford Terriers',\n",
       " 'Xavier Musketeers',\n",
       " 'Yale Bulldogs'}"
      ]
     },
     "execution_count": 71,
     "metadata": {},
     "output_type": "execute_result"
    }
   ],
   "source": [
    "set(long_to_short.keys())"
   ]
  },
  {
   "cell_type": "code",
   "execution_count": 53,
   "metadata": {},
   "outputs": [
    {
     "data": {
      "text/plain": [
       "['Akron Zips',\n",
       " 'Alabama Crimson Tide',\n",
       " 'Arizona Wildcats',\n",
       " 'Auburn Tigers',\n",
       " 'BYU Cougars',\n",
       " 'Baylor Bears',\n",
       " 'Boise State Broncos',\n",
       " 'Charleston Cougars',\n",
       " 'Clemson Tigers',\n",
       " 'Colgate Raiders',\n",
       " 'Colorado Buffaloes',\n",
       " 'Colorado State Rams',\n",
       " 'Creighton Bluejays',\n",
       " 'Dayton Flyers',\n",
       " 'Drake Bulldogs',\n",
       " 'Duke Blue Devils',\n",
       " 'Duquesne Dukes',\n",
       " 'Florida Atlantic Owls',\n",
       " 'Florida Gators',\n",
       " 'Gonzaga Bulldogs',\n",
       " 'Grambling Tigers',\n",
       " 'Grand Canyon Lopes',\n",
       " 'Houston Cougars',\n",
       " 'Howard Bison',\n",
       " 'Illinois Fighting Illini',\n",
       " 'Iowa State Cyclones',\n",
       " 'James Madison Dukes',\n",
       " 'Kansas Jayhawks',\n",
       " 'Kentucky Wildcats',\n",
       " 'Long Beach State Beach',\n",
       " 'Longwood Lancers',\n",
       " 'Marquette Golden Eagles',\n",
       " 'McNeese Cowboys',\n",
       " 'Michigan State Spartans',\n",
       " 'Mississippi State Bulldogs',\n",
       " 'Montana State Bobcats',\n",
       " 'Morehead State Eagles',\n",
       " 'NC State Wolfpack',\n",
       " 'Nebraska Cornhuskers',\n",
       " 'Nevada Wolf Pack',\n",
       " 'New Mexico Lobos',\n",
       " 'North Carolina Tar Heels',\n",
       " 'Northwestern Wildcats',\n",
       " 'Oakland Golden Grizzlies',\n",
       " 'Oregon Ducks',\n",
       " 'Purdue Boilermakers',\n",
       " \"Saint Mary's Gaels\",\n",
       " \"Saint Peter's Peacocks\",\n",
       " 'Samford Bulldogs',\n",
       " 'San Diego State Aztecs',\n",
       " 'South Carolina Gamecocks',\n",
       " 'South Dakota State Jackrabbits',\n",
       " 'Stetson Hatters',\n",
       " 'TBD TBD',\n",
       " 'TCU Horned Frogs',\n",
       " 'Tennessee Volunteers',\n",
       " 'Texas A&M Aggies',\n",
       " 'Texas Longhorns',\n",
       " 'Texas Tech Red Raiders',\n",
       " 'UAB Blazers',\n",
       " 'UConn Huskies',\n",
       " 'Utah State Aggies',\n",
       " 'Vermont Catamounts',\n",
       " 'Virginia Cavaliers',\n",
       " 'Wagner Seahawks',\n",
       " 'Washington State Cougars',\n",
       " 'Western Kentucky Hilltoppers',\n",
       " 'Wisconsin Badgers',\n",
       " 'Yale Bulldogs']"
      ]
     },
     "execution_count": 53,
     "metadata": {},
     "output_type": "execute_result"
    }
   ],
   "source": [
    "sorted(long_to_short.keys())"
   ]
  },
  {
   "cell_type": "code",
   "execution_count": 69,
   "metadata": {},
   "outputs": [
    {
     "data": {
      "text/plain": [
       "{'Akron Zips',\n",
       " 'Alabama Crimson Tide',\n",
       " 'Alabama St Hornets',\n",
       " 'American Eagles',\n",
       " 'Arizona Wildcats',\n",
       " 'Arkansas Razorbacks',\n",
       " 'Arkansas St Red Wolves',\n",
       " 'Army Knights',\n",
       " 'Auburn Tigers',\n",
       " 'BYU Cougars',\n",
       " 'Baylor Bears',\n",
       " 'Bradley Braves',\n",
       " 'Bryant Bulldogs',\n",
       " 'CSU Northridge Matadors',\n",
       " 'Chattanooga Mocs',\n",
       " 'Clemson Tigers',\n",
       " 'Colorado St Rams',\n",
       " 'Creighton Bluejays',\n",
       " 'Dayton Flyers',\n",
       " 'Drake Bulldogs',\n",
       " 'Duke Blue Devils',\n",
       " 'Elon Phoenix',\n",
       " 'Florida Atlantic Owls',\n",
       " 'Florida Gators',\n",
       " 'Furman Paladins',\n",
       " 'George Mason Patriots',\n",
       " 'Georgia Bulldogs',\n",
       " 'Georgia Tech Yellow Jackets',\n",
       " 'Gonzaga Bulldogs',\n",
       " 'Grand Canyon Antelopes',\n",
       " 'High Point Panthers',\n",
       " 'Houston Cougars',\n",
       " 'Illinois Fighting Illini',\n",
       " 'Illinois St Redbirds',\n",
       " 'Incarnate Word Cardinals',\n",
       " 'Iowa State Cyclones',\n",
       " 'Jacksonville Dolphins',\n",
       " 'Jacksonville St Gamecocks',\n",
       " 'Kansas Jayhawks',\n",
       " 'Kent State Golden Flashes',\n",
       " 'Kentucky Wildcats',\n",
       " 'Liberty Flames',\n",
       " 'Lipscomb Bisons',\n",
       " 'Louisville Cardinals',\n",
       " 'Loyola (Chi) Ramblers',\n",
       " 'Manhattan Jaspers',\n",
       " 'Marquette Golden Eagles',\n",
       " 'Maryland Terrapins',\n",
       " 'McNeese Cowboys',\n",
       " 'Memphis Tigers',\n",
       " 'Michigan St Spartans',\n",
       " 'Michigan Wolverines',\n",
       " 'Middle Tennessee Blue Raiders',\n",
       " 'Mississippi St Bulldogs',\n",
       " 'Missouri Tigers',\n",
       " 'Montana Grizzlies',\n",
       " \"Mt. St. Mary's Mountaineers\",\n",
       " 'N Colorado Bears',\n",
       " 'New Mexico Lobos',\n",
       " 'Norfolk St Spartans',\n",
       " 'North Alabama Lions',\n",
       " 'North Carolina Tar Heels',\n",
       " 'North Texas Mean Green',\n",
       " 'Northern Arizona Lumberjacks',\n",
       " 'Northern Iowa Panthers',\n",
       " 'Oklahoma Sooners',\n",
       " 'Oklahoma St Cowboys',\n",
       " 'Ole Miss Rebels',\n",
       " 'Omaha Mavericks',\n",
       " 'Oregon Ducks',\n",
       " 'Presbyterian Blue Hose',\n",
       " 'Purdue Boilermakers',\n",
       " 'Queens University Royals',\n",
       " 'Robert Morris Colonials',\n",
       " 'SIU-Edwardsville Cougars',\n",
       " 'SMU Mustangs',\n",
       " \"Saint Joseph's Hawks\",\n",
       " 'Saint Louis Billikens',\n",
       " \"Saint Mary's Gaels\",\n",
       " 'Samford Bulldogs',\n",
       " 'San Diego St Aztecs',\n",
       " 'San Francisco Dons',\n",
       " 'San José St Spartans',\n",
       " 'Santa Clara Broncos',\n",
       " 'St. Bonaventure Bonnies',\n",
       " 'St. Francis (PA) Red Flash',\n",
       " \"St. John's Red Storm\",\n",
       " 'Stanford Cardinal',\n",
       " 'Tennessee Volunteers',\n",
       " 'Texas A&M Aggies',\n",
       " 'Texas Longhorns',\n",
       " 'Texas Tech Red Raiders',\n",
       " 'Troy Trojans',\n",
       " 'UAB Blazers',\n",
       " 'UC Irvine Anteaters',\n",
       " 'UC Riverside Highlanders',\n",
       " 'UC San Diego Tritons',\n",
       " 'UCLA Bruins',\n",
       " 'UConn Huskies',\n",
       " 'UNC Wilmington Seahawks',\n",
       " 'Utah State Aggies',\n",
       " 'Utah Valley Wolverines',\n",
       " 'VCU Rams',\n",
       " 'Vanderbilt Commodores',\n",
       " 'Wichita St Shockers',\n",
       " 'Wisconsin Badgers',\n",
       " 'Wofford Terriers',\n",
       " 'Xavier Musketeers',\n",
       " 'Yale Bulldogs'}"
      ]
     },
     "execution_count": 69,
     "metadata": {},
     "output_type": "execute_result"
    }
   ],
   "source": [
    "set(odds_long_team_names)"
   ]
  },
  {
   "cell_type": "code",
   "execution_count": 66,
   "metadata": {},
   "outputs": [
    {
     "name": "stdout",
     "output_type": "stream",
     "text": [
      "Dayton Flyers False\n",
      "Furman Paladins False\n",
      "UC San Diego Tritons True\n",
      "Stanford Cardinal False\n",
      "Maryland Terrapins True\n",
      "Illinois Fighting Illini True\n",
      "Utah State Aggies True\n",
      "Troy Trojans True\n",
      "Ole Miss Rebels True\n",
      "Army Knights False\n",
      "Akron Zips True\n",
      "North Texas Mean Green False\n",
      "Manhattan Jaspers False\n",
      "Saint Mary's Gaels True\n",
      "Wisconsin Badgers True\n",
      "Saint Joseph's Hawks False\n",
      "Santa Clara Broncos False\n",
      "Colorado St Rams False\n",
      "UC Irvine Anteaters False\n",
      "St. Francis (PA) Red Flash True\n",
      "Northern Arizona Lumberjacks False\n",
      "Georgia Bulldogs True\n",
      "Arkansas Razorbacks True\n",
      "Kentucky Wildcats True\n",
      "Alabama St Hornets False\n",
      "New Mexico Lobos True\n",
      "Robert Morris Colonials True\n",
      "N Colorado Bears False\n",
      "Saint Louis Billikens False\n",
      "Jacksonville St Gamecocks False\n",
      "St. Bonaventure Bonnies False\n",
      "VCU Rams True\n",
      "Mississippi St Bulldogs False\n",
      "Drake Bulldogs True\n",
      "San José St Spartans False\n",
      "Wofford Terriers True\n",
      "Bryant Bulldogs True\n",
      "San Francisco Dons False\n",
      "UC Riverside Highlanders False\n",
      "Chattanooga Mocs False\n",
      "Wichita St Shockers False\n",
      "Houston Cougars True\n",
      "Presbyterian Blue Hose False\n",
      "Arizona Wildcats True\n",
      "George Mason Patriots False\n",
      "CSU Northridge Matadors False\n",
      "Lipscomb Bisons True\n",
      "McNeese Cowboys True\n",
      "Michigan St Spartans False\n",
      "Clemson Tigers True\n",
      "UAB Blazers False\n",
      "Texas Longhorns True\n",
      "UCLA Bruins True\n",
      "Jacksonville Dolphins False\n",
      "High Point Panthers True\n",
      "Tennessee Volunteers True\n",
      "Georgia Tech Yellow Jackets False\n",
      "Texas Tech Red Raiders True\n",
      "Florida Gators True\n",
      "SMU Mustangs False\n",
      "Oklahoma St Cowboys False\n",
      "Michigan Wolverines True\n",
      "North Carolina Tar Heels True\n",
      "Elon Phoenix False\n",
      "St. John's Red Storm True\n",
      "Gonzaga Bulldogs True\n",
      "Florida Atlantic Owls False\n",
      "Omaha Mavericks True\n",
      "Montana Grizzlies True\n",
      "Memphis Tigers True\n",
      "Baylor Bears True\n",
      "Marquette Golden Eagles True\n",
      "Samford Bulldogs False\n",
      "Oregon Ducks True\n",
      "Alabama Crimson Tide True\n",
      "Arkansas St Red Wolves False\n",
      "Grand Canyon Antelopes False\n",
      "Illinois St Redbirds False\n",
      "BYU Cougars True\n",
      "Louisville Cardinals True\n",
      "Auburn Tigers True\n",
      "Middle Tennessee Blue Raiders False\n",
      "Utah Valley Wolverines False\n",
      "Kent State Golden Flashes False\n",
      "Vanderbilt Commodores True\n",
      "Iowa State Cyclones True\n",
      "Mt. St. Mary's Mountaineers False\n",
      "North Alabama Lions False\n",
      "Texas A&M Aggies True\n",
      "San Diego St Aztecs False\n",
      "Oklahoma Sooners True\n",
      "UConn Huskies True\n",
      "Incarnate Word Cardinals False\n",
      "Bradley Braves False\n",
      "American Eagles False\n",
      "Kansas Jayhawks True\n",
      "Northern Iowa Panthers False\n",
      "Missouri Tigers True\n",
      "Creighton Bluejays True\n",
      "Duke Blue Devils True\n",
      "UNC Wilmington Seahawks True\n",
      "Liberty Flames True\n",
      "Yale Bulldogs True\n",
      "Purdue Boilermakers True\n",
      "Norfolk St Spartans False\n",
      "SIU-Edwardsville Cougars False\n",
      "Loyola (Chi) Ramblers False\n",
      "Xavier Musketeers True\n",
      "Queens University Royals False\n"
     ]
    }
   ],
   "source": [
    "for name in set(odds_long_team_names):\n",
    "    print(name, name in long_to_short)"
   ]
  },
  {
   "cell_type": "code",
   "execution_count": 45,
   "metadata": {},
   "outputs": [
    {
     "data": {
      "text/plain": [
       "True"
      ]
     },
     "execution_count": 45,
     "metadata": {},
     "output_type": "execute_result"
    }
   ],
   "source": [
    "odds_long_team_names[0] in long_to_short"
   ]
  },
  {
   "cell_type": "code",
   "execution_count": 58,
   "metadata": {},
   "outputs": [],
   "source": [
    "short_to_long = dict(zip(short_teams, long_teams))"
   ]
  },
  {
   "cell_type": "code",
   "execution_count": 60,
   "metadata": {},
   "outputs": [],
   "source": [
    "df_teams['team_name'] = df_teams['team_code'].apply(lambda c: short_to_long[c])"
   ]
  },
  {
   "cell_type": "code",
   "execution_count": 61,
   "metadata": {},
   "outputs": [],
   "source": [
    "df_teams.to_csv('mm-with-team-codes.csv', index=False)"
   ]
  },
  {
   "cell_type": "code",
   "execution_count": 42,
   "metadata": {},
   "outputs": [
    {
     "data": {
      "text/plain": [
       "{'STET': 'Stetson Hatters',\n",
       " 'CONN': 'UConn Huskies',\n",
       " 'GRAM': 'Grambling Tigers',\n",
       " 'PUR': 'Purdue Boilermakers',\n",
       " 'LONG': 'Longwood Lancers',\n",
       " 'HOU': 'Houston Cougars',\n",
       " 'WKU': 'Western Kentucky Hilltoppers',\n",
       " 'MARQ': 'Marquette Golden Eagles',\n",
       " 'COLG': 'Colgate Raiders',\n",
       " 'BAY': 'Baylor Bears',\n",
       " 'YALE': 'Yale Bulldogs',\n",
       " 'AUB': 'Auburn Tigers',\n",
       " 'UVM': 'Vermont Catamounts',\n",
       " 'DUKE': 'Duke Blue Devils',\n",
       " 'COFC': 'Charleston Cougars',\n",
       " 'ALA': 'Alabama Crimson Tide',\n",
       " 'UAB': 'UAB Blazers',\n",
       " 'SDSU': 'San Diego State Aztecs',\n",
       " 'JMU': 'James Madison Dukes',\n",
       " 'WIS': 'Wisconsin Badgers',\n",
       " 'GCU': 'Grand Canyon Lopes',\n",
       " 'SMC': \"Saint Mary's Gaels\",\n",
       " 'UNM': 'New Mexico Lobos',\n",
       " 'CLEM': 'Clemson Tigers',\n",
       " 'COLO': 'Colorado Buffaloes',\n",
       " 'FLA': 'Florida Gators',\n",
       " 'NU': 'Northwestern Wildcats',\n",
       " 'FAU': 'Florida Atlantic Owls',\n",
       " 'TA&M': 'Texas A&M Aggies',\n",
       " 'NEB': 'Nebraska Cornhuskers',\n",
       " 'TCU': 'TCU Horned Frogs',\n",
       " 'USU': 'Utah State Aggies',\n",
       " 'MSU': 'Michigan State Spartans',\n",
       " 'UNC': 'North Carolina Tar Heels',\n",
       " 'DAY': 'Dayton Flyers',\n",
       " 'ARIZ': 'Arizona Wildcats',\n",
       " 'WSU': 'Washington State Cougars',\n",
       " 'ISU': 'Iowa State Cyclones',\n",
       " 'TEX': 'Texas Longhorns',\n",
       " 'TENN': 'Tennessee Volunteers',\n",
       " 'DUQ': 'Duquesne Dukes',\n",
       " 'ILL': 'Illinois Fighting Illini',\n",
       " 'ORE': 'Oregon Ducks',\n",
       " 'CREI': 'Creighton Bluejays',\n",
       " 'GONZ': 'Gonzaga Bulldogs',\n",
       " 'KU': 'Kansas Jayhawks',\n",
       " 'OAK': 'Oakland Golden Grizzlies',\n",
       " 'NCSU': 'NC State Wolfpack'}"
      ]
     },
     "execution_count": 42,
     "metadata": {},
     "output_type": "execute_result"
    }
   ],
   "source": [
    "short_to_long"
   ]
  },
  {
   "cell_type": "code",
   "execution_count": null,
   "metadata": {},
   "outputs": [],
   "source": [
    "event_types = set()\n",
    "for event in data_from_march['events']:\n",
    "    event_types.add(event['season']['slug'])"
   ]
  },
  {
   "cell_type": "code",
   "execution_count": null,
   "metadata": {},
   "outputs": [],
   "source": [
    "test_df = pd.read_csv('monkey-madness-teams.csv')"
   ]
  },
  {
   "cell_type": "code",
   "execution_count": null,
   "metadata": {},
   "outputs": [],
   "source": [
    "def normalize_team_name(team_name):\n",
    "    n = team_name.strip(\".\").strip()\n",
    "    if n.endswith(\"'s\"):\n",
    "        return n[:-2]\n",
    "    return n"
   ]
  },
  {
   "cell_type": "code",
   "execution_count": null,
   "metadata": {},
   "outputs": [],
   "source": [
    "def team_name_to_short_code(team_name_norm):\n",
    "    short_team_code = None\n",
    "    for long_team, short_team in long_to_short.items():\n",
    "        if team_name_norm.lower() in long_team.lower() or long_team.lower() in team_name_norm.lower():\n",
    "            short_team_code = short_team\n",
    "        elif short_team.lower() in team_name_norm.lower():\n",
    "            short_team_code = short_team\n",
    "    return short_team_code"
   ]
  },
  {
   "cell_type": "code",
   "execution_count": null,
   "metadata": {},
   "outputs": [],
   "source": [
    "test_df['team_name_norm'] = test_df.team_name.apply(normalize_team_name)\n",
    "test_df['team_code'] = test_df.team_name_norm.apply(team_name_to_short_code)"
   ]
  },
  {
   "cell_type": "code",
   "execution_count": null,
   "metadata": {},
   "outputs": [],
   "source": [
    "# fix empty and duplicates"
   ]
  },
  {
   "cell_type": "code",
   "execution_count": null,
   "metadata": {},
   "outputs": [],
   "source": [
    "code_counts = dict(test_df.team_code.value_counts())"
   ]
  },
  {
   "cell_type": "code",
   "execution_count": null,
   "metadata": {},
   "outputs": [],
   "source": [
    "dup_codes = [key for key, value in code_counts.items() if value > 1]"
   ]
  },
  {
   "cell_type": "code",
   "execution_count": null,
   "metadata": {},
   "outputs": [],
   "source": [
    "dup_codes"
   ]
  },
  {
   "cell_type": "code",
   "execution_count": null,
   "metadata": {},
   "outputs": [],
   "source": [
    "no_code = test_df[pd.isna(test_df.team_code)]\n",
    "print(len(no_code))\n",
    "no_code.head(15)"
   ]
  },
  {
   "cell_type": "code",
   "execution_count": null,
   "metadata": {},
   "outputs": [],
   "source": [
    "dup_code = test_df[test_df.team_code.apply(lambda c: c in dup_codes)]\n",
    "print(len(dup_code))\n",
    "dup_code.head(15)"
   ]
  },
  {
   "cell_type": "code",
   "execution_count": null,
   "metadata": {},
   "outputs": [],
   "source": [
    "fixes = {\n",
    "    'Molloy (2)': 'FLA',\n",
    "    'Nicolai': 'MORE',\n",
    "    'F-Cup': 'LBSU',\n",
    "    'Scott (2)': 'DUKE',\n",
    "    'Cimi (2)': 'UK',\n",
    "    'Peralo (2)': 'CSU',\n",
    "    'Leff (2)': 'TEX'\n",
    "}"
   ]
  },
  {
   "cell_type": "code",
   "execution_count": null,
   "metadata": {},
   "outputs": [],
   "source": [
    "test_df['team_code'] = test_df.apply(\n",
    "    lambda row: fixes[row.participant_name] if row.participant_name in fixes else row.team_code,\n",
    "    axis=1\n",
    ")"
   ]
  },
  {
   "cell_type": "code",
   "execution_count": null,
   "metadata": {},
   "outputs": [],
   "source": [
    "test_df.isna().sum()"
   ]
  },
  {
   "cell_type": "code",
   "execution_count": null,
   "metadata": {},
   "outputs": [],
   "source": [
    "len(test_df.team_code.unique())"
   ]
  },
  {
   "cell_type": "code",
   "execution_count": null,
   "metadata": {},
   "outputs": [],
   "source": [
    "test_df.team_code.value_counts()"
   ]
  },
  {
   "cell_type": "code",
   "execution_count": null,
   "metadata": {},
   "outputs": [],
   "source": [
    "test_df[test_df.team_code.values == 'TEX'].head()"
   ]
  },
  {
   "cell_type": "code",
   "execution_count": null,
   "metadata": {},
   "outputs": [],
   "source": [
    "test_df[test_df.team_code.values == 'TTU'].head()"
   ]
  },
  {
   "cell_type": "code",
   "execution_count": null,
   "metadata": {},
   "outputs": [],
   "source": [
    "len(test_df.team_code.unique())"
   ]
  },
  {
   "cell_type": "code",
   "execution_count": null,
   "metadata": {},
   "outputs": [],
   "source": [
    "test_df.to_csv('mm-with-team-codes.csv', index=False)"
   ]
  },
  {
   "cell_type": "code",
   "execution_count": null,
   "metadata": {},
   "outputs": [],
   "source": [
    "# manually changed to TTU^"
   ]
  },
  {
   "cell_type": "code",
   "execution_count": null,
   "metadata": {},
   "outputs": [],
   "source": [
    "df_clean = pd.read_csv('mm-with-team-codes.csv')\n",
    "assert len(df_clean.team_code.unique()) == 64"
   ]
  },
  {
   "cell_type": "code",
   "execution_count": null,
   "metadata": {},
   "outputs": [],
   "source": [
    "from construct_bracket import Bracket"
   ]
  },
  {
   "cell_type": "code",
   "execution_count": null,
   "metadata": {},
   "outputs": [],
   "source": [
    "bracket = Bracket.from_csv('mm-with-team-codes.csv')"
   ]
  },
  {
   "cell_type": "code",
   "execution_count": null,
   "metadata": {},
   "outputs": [],
   "source": [
    "bracket"
   ]
  },
  {
   "cell_type": "code",
   "execution_count": null,
   "metadata": {},
   "outputs": [],
   "source": [
    "data_from_march.keys()"
   ]
  },
  {
   "cell_type": "code",
   "execution_count": null,
   "metadata": {},
   "outputs": [],
   "source": [
    "is_finished = data_from_march['events'][0]['status']['type']['completed']  # boolean\n",
    "status = data_from_march['events'][0]['status']['type']['name']\n",
    "# change last 0 to 1 for second team\n",
    "team_to_score = {}\n",
    "for i in range(2):\n",
    "    score = data_from_march['events'][0]['competitions'][0]['competitors'][i]['score']\n",
    "    team_code = data_from_march['events'][0]['competitions'][0]['competitors'][i]['team']['abbreviation']\n",
    "    team_to_score[team_code] = score\n",
    "status, is_finished, team_to_score"
   ]
  },
  {
   "cell_type": "code",
   "execution_count": null,
   "metadata": {},
   "outputs": [],
   "source": [
    "data_from_march['events'][0]['competitions'][0]['competitors'][0]['winner']"
   ]
  },
  {
   "cell_type": "code",
   "execution_count": null,
   "metadata": {},
   "outputs": [],
   "source": []
  }
 ],
 "metadata": {
  "kernelspec": {
   "display_name": "mm-bracket",
   "language": "python",
   "name": "python3"
  },
  "language_info": {
   "codemirror_mode": {
    "name": "ipython",
    "version": 3
   },
   "file_extension": ".py",
   "mimetype": "text/x-python",
   "name": "python",
   "nbconvert_exporter": "python",
   "pygments_lexer": "ipython3",
   "version": "3.12.0"
  }
 },
 "nbformat": 4,
 "nbformat_minor": 2
}
