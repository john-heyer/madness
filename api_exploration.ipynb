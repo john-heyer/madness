{
 "cells": [
  {
   "cell_type": "code",
   "execution_count": null,
   "metadata": {},
   "outputs": [],
   "source": [
    "%load_ext autoreload\n",
    "%autoreload 2"
   ]
  },
  {
   "cell_type": "code",
   "execution_count": null,
   "metadata": {},
   "outputs": [],
   "source": [
    "import requests\n",
    "import json\n",
    "import pandas as pd"
   ]
  },
  {
   "cell_type": "code",
   "execution_count": null,
   "metadata": {},
   "outputs": [],
   "source": [
    "from datetime import datetime"
   ]
  },
  {
   "cell_type": "code",
   "execution_count": null,
   "metadata": {},
   "outputs": [],
   "source": [
    "from dotenv import dotenv_values\n",
    "\n",
    "config = dotenv_values(\".env\")"
   ]
  },
  {
   "cell_type": "markdown",
   "metadata": {},
   "source": [
    "## ODDS API"
   ]
  },
  {
   "cell_type": "code",
   "execution_count": null,
   "metadata": {},
   "outputs": [],
   "source": [
    "# {\n",
    "#     \"key\": \"basketball_ncaab\",\n",
    "#     \"group\": \"Basketball\",\n",
    "#     \"title\": \"NCAAB\",\n",
    "#     \"description\": \"US College Basketball\",\n",
    "#     \"active\": true,\n",
    "#     \"has_outrights\": false\n",
    "#   },"
   ]
  },
  {
   "cell_type": "code",
   "execution_count": null,
   "metadata": {},
   "outputs": [],
   "source": [
    "from_str = datetime(2024, 3, 9, 4, 15).strftime('%Y-%m-%dT%H:%M:%SZ')  # 2024-03-09T00%3A00%3A00Z\n",
    "to_str = datetime(2024, 4, 20, 4, 15).strftime('%Y-%m-%dT%H:%M:%SZ')  # 2024-04-20T00%3A00%3A00Z"
   ]
  },
  {
   "cell_type": "code",
   "execution_count": null,
   "metadata": {},
   "outputs": [],
   "source": [
    "spreads_upcoming = requests.get(\n",
    "    f'https://api.the-odds-api.com/v4/sports/basketball_ncaab/odds?apiKey={config[\"ODDS_API_KEY\"]}&regions=us&markets=spreads&dateFormat=iso&oddsFormat=decimal&commenceTimeFrom={from_str}&commenceTimeTo={to_str}'\n",
    ").json()\n"
   ]
  },
  {
   "cell_type": "code",
   "execution_count": null,
   "metadata": {},
   "outputs": [],
   "source": [
    "len(spreads_upcoming)"
   ]
  },
  {
   "cell_type": "code",
   "execution_count": null,
   "metadata": {},
   "outputs": [],
   "source": [
    "spreads_upcoming[0].keys()"
   ]
  },
  {
   "cell_type": "code",
   "execution_count": null,
   "metadata": {},
   "outputs": [],
   "source": [
    "date_str = datetime(2024, 3, 23, 15, 15).strftime('%Y-%m-%dT%H:%M:%SZ') # 2024-03-23T12%3A15%3A00Z\n",
    "spreads_past = requests.get(\n",
    "    f'https://api.the-odds-api.com/v4/historical/sports/basketball_ncaab/odds?apiKey={config[\"ODDS_API_KEY\"]}&regions=us&markets=spreads&dateFormat=iso&oddsFormat=american&date={date_str}'\n",
    ").json()"
   ]
  },
  {
   "cell_type": "code",
   "execution_count": null,
   "metadata": {},
   "outputs": [],
   "source": [
    "len(spreads_past['data'])"
   ]
  },
  {
   "cell_type": "code",
   "execution_count": null,
   "metadata": {},
   "outputs": [],
   "source": [
    "spreads_past['data'][0].keys()"
   ]
  },
  {
   "cell_type": "markdown",
   "metadata": {},
   "source": [
    "## ESPN API"
   ]
  },
  {
   "cell_type": "code",
   "execution_count": null,
   "metadata": {},
   "outputs": [],
   "source": [
    "data_from_march = requests.get(\n",
    "    'https://site.api.espn.com/apis/site/v2/sports/basketball/mens-college-basketball/scoreboard?dates=20240322-20240324'\n",
    ").json()"
   ]
  },
  {
   "cell_type": "code",
   "execution_count": null,
   "metadata": {},
   "outputs": [],
   "source": [
    "data_322 = requests.get(\n",
    "    'https://site.api.espn.com/apis/site/v2/sports/basketball/mens-college-basketball/scoreboard?dates=20240322'\n",
    ").json()\n",
    "events_322 = set([event['shortName'] for event in data_322['events']])\n",
    "len(events_322)"
   ]
  },
  {
   "cell_type": "code",
   "execution_count": null,
   "metadata": {},
   "outputs": [],
   "source": [
    "data_323 = requests.get(\n",
    "    'https://site.api.espn.com/apis/site/v2/sports/basketball/mens-college-basketball/scoreboard?dates=20240328'\n",
    ").json()\n",
    "events_323 = set([event['shortName'] for event in data_323['events']])\n",
    "len(events_323)"
   ]
  },
  {
   "cell_type": "code",
   "execution_count": null,
   "metadata": {},
   "outputs": [],
   "source": [
    "data_323.keys()#['keys']"
   ]
  },
  {
   "cell_type": "code",
   "execution_count": null,
   "metadata": {},
   "outputs": [],
   "source": [
    "len(events_322 | events_323)"
   ]
  },
  {
   "cell_type": "code",
   "execution_count": null,
   "metadata": {},
   "outputs": [],
   "source": [
    "data_3224 = requests.get(\n",
    "    'https://site.api.espn.com/apis/site/v2/sports/basketball/mens-college-basketball/scoreboard?dates=20240322-20240324'\n",
    ").json()\n",
    "events_3224 = set([event['shortName'] for event in data_3224['events']])\n",
    "len(events_3224)"
   ]
  },
  {
   "cell_type": "code",
   "execution_count": null,
   "metadata": {},
   "outputs": [],
   "source": [
    "events_323 - events_3224"
   ]
  },
  {
   "cell_type": "code",
   "execution_count": null,
   "metadata": {},
   "outputs": [],
   "source": [
    "len(data_from_march['events'])"
   ]
  },
  {
   "cell_type": "code",
   "execution_count": null,
   "metadata": {},
   "outputs": [],
   "source": []
  },
  {
   "cell_type": "code",
   "execution_count": null,
   "metadata": {},
   "outputs": [],
   "source": [
    "short_teams, long_teams = [], []\n",
    "for event in data_from_march['events']:\n",
    "    s_teams = event['shortName'].split(' VS ')\n",
    "    assert len(s_teams) == 2\n",
    "    l_teams = event['name'].split(' at ')\n",
    "    assert len(l_teams) == 2\n",
    "    short_teams += s_teams\n",
    "    long_teams += l_teams\n",
    "\n",
    "long_to_short = dict(zip(long_teams, short_teams))\n"
   ]
  },
  {
   "cell_type": "code",
   "execution_count": null,
   "metadata": {},
   "outputs": [],
   "source": [
    "short_to_long = dict(zip(short_teams, long_teams))"
   ]
  },
  {
   "cell_type": "code",
   "execution_count": null,
   "metadata": {},
   "outputs": [],
   "source": [
    "event_types = set()\n",
    "for event in data_from_march['events']:\n",
    "    event_types.add(event['season']['slug'])"
   ]
  },
  {
   "cell_type": "code",
   "execution_count": null,
   "metadata": {},
   "outputs": [],
   "source": [
    "test_df = pd.read_csv('monkey-madness-teams.csv')"
   ]
  },
  {
   "cell_type": "code",
   "execution_count": null,
   "metadata": {},
   "outputs": [],
   "source": [
    "def normalize_team_name(team_name):\n",
    "    n = team_name.strip(\".\").strip()\n",
    "    if n.endswith(\"'s\"):\n",
    "        return n[:-2]\n",
    "    return n"
   ]
  },
  {
   "cell_type": "code",
   "execution_count": null,
   "metadata": {},
   "outputs": [],
   "source": [
    "def team_name_to_short_code(team_name_norm):\n",
    "    short_team_code = None\n",
    "    for long_team, short_team in long_to_short.items():\n",
    "        if team_name_norm.lower() in long_team.lower() or long_team.lower() in team_name_norm.lower():\n",
    "            short_team_code = short_team\n",
    "        elif short_team.lower() in team_name_norm.lower():\n",
    "            short_team_code = short_team\n",
    "    return short_team_code"
   ]
  },
  {
   "cell_type": "code",
   "execution_count": null,
   "metadata": {},
   "outputs": [],
   "source": [
    "test_df['team_name_norm'] = test_df.team_name.apply(normalize_team_name)\n",
    "test_df['team_code'] = test_df.team_name_norm.apply(team_name_to_short_code)"
   ]
  },
  {
   "cell_type": "code",
   "execution_count": null,
   "metadata": {},
   "outputs": [],
   "source": [
    "# fix empty and duplicates"
   ]
  },
  {
   "cell_type": "code",
   "execution_count": null,
   "metadata": {},
   "outputs": [],
   "source": [
    "code_counts = dict(test_df.team_code.value_counts())"
   ]
  },
  {
   "cell_type": "code",
   "execution_count": null,
   "metadata": {},
   "outputs": [],
   "source": [
    "dup_codes = [key for key, value in code_counts.items() if value > 1]"
   ]
  },
  {
   "cell_type": "code",
   "execution_count": null,
   "metadata": {},
   "outputs": [],
   "source": [
    "dup_codes"
   ]
  },
  {
   "cell_type": "code",
   "execution_count": null,
   "metadata": {},
   "outputs": [],
   "source": [
    "no_code = test_df[pd.isna(test_df.team_code)]\n",
    "print(len(no_code))\n",
    "no_code.head(15)"
   ]
  },
  {
   "cell_type": "code",
   "execution_count": null,
   "metadata": {},
   "outputs": [],
   "source": [
    "dup_code = test_df[test_df.team_code.apply(lambda c: c in dup_codes)]\n",
    "print(len(dup_code))\n",
    "dup_code.head(15)"
   ]
  },
  {
   "cell_type": "code",
   "execution_count": null,
   "metadata": {},
   "outputs": [],
   "source": [
    "fixes = {\n",
    "    'Molloy (2)': 'FLA',\n",
    "    'Nicolai': 'MORE',\n",
    "    'F-Cup': 'LBSU',\n",
    "    'Scott (2)': 'DUKE',\n",
    "    'Cimi (2)': 'UK',\n",
    "    'Peralo (2)': 'CSU',\n",
    "    'Leff (2)': 'TEX'\n",
    "}"
   ]
  },
  {
   "cell_type": "code",
   "execution_count": null,
   "metadata": {},
   "outputs": [],
   "source": [
    "test_df['team_code'] = test_df.apply(\n",
    "    lambda row: fixes[row.participant_name] if row.participant_name in fixes else row.team_code,\n",
    "    axis=1\n",
    ")"
   ]
  },
  {
   "cell_type": "code",
   "execution_count": null,
   "metadata": {},
   "outputs": [],
   "source": [
    "test_df.isna().sum()"
   ]
  },
  {
   "cell_type": "code",
   "execution_count": null,
   "metadata": {},
   "outputs": [],
   "source": [
    "len(test_df.team_code.unique())"
   ]
  },
  {
   "cell_type": "code",
   "execution_count": null,
   "metadata": {},
   "outputs": [],
   "source": [
    "test_df.team_code.value_counts()"
   ]
  },
  {
   "cell_type": "code",
   "execution_count": null,
   "metadata": {},
   "outputs": [],
   "source": [
    "test_df[test_df.team_code.values == 'TEX'].head()"
   ]
  },
  {
   "cell_type": "code",
   "execution_count": null,
   "metadata": {},
   "outputs": [],
   "source": [
    "test_df[test_df.team_code.values == 'TTU'].head()"
   ]
  },
  {
   "cell_type": "code",
   "execution_count": null,
   "metadata": {},
   "outputs": [],
   "source": [
    "len(test_df.team_code.unique())"
   ]
  },
  {
   "cell_type": "code",
   "execution_count": null,
   "metadata": {},
   "outputs": [],
   "source": [
    "test_df.to_csv('mm-with-team-codes.csv', index=False)"
   ]
  },
  {
   "cell_type": "code",
   "execution_count": null,
   "metadata": {},
   "outputs": [],
   "source": [
    "# manually changed to TTU^"
   ]
  },
  {
   "cell_type": "code",
   "execution_count": null,
   "metadata": {},
   "outputs": [],
   "source": [
    "df_clean = pd.read_csv('mm-with-team-codes.csv')\n",
    "assert len(df_clean.team_code.unique()) == 64"
   ]
  },
  {
   "cell_type": "code",
   "execution_count": null,
   "metadata": {},
   "outputs": [],
   "source": [
    "from construct_bracket import Bracket"
   ]
  },
  {
   "cell_type": "code",
   "execution_count": null,
   "metadata": {},
   "outputs": [],
   "source": [
    "bracket = Bracket.from_csv('mm-with-team-codes.csv')"
   ]
  },
  {
   "cell_type": "code",
   "execution_count": null,
   "metadata": {},
   "outputs": [],
   "source": [
    "bracket"
   ]
  },
  {
   "cell_type": "code",
   "execution_count": null,
   "metadata": {},
   "outputs": [],
   "source": [
    "data_from_march.keys()"
   ]
  },
  {
   "cell_type": "code",
   "execution_count": null,
   "metadata": {},
   "outputs": [],
   "source": [
    "is_finished = data_from_march['events'][0]['status']['type']['completed']  # boolean\n",
    "status = data_from_march['events'][0]['status']['type']['name']\n",
    "# change last 0 to 1 for second team\n",
    "team_to_score = {}\n",
    "for i in range(2):\n",
    "    score = data_from_march['events'][0]['competitions'][0]['competitors'][i]['score']\n",
    "    team_code = data_from_march['events'][0]['competitions'][0]['competitors'][i]['team']['abbreviation']\n",
    "    team_to_score[team_code] = score\n",
    "status, is_finished, team_to_score"
   ]
  },
  {
   "cell_type": "code",
   "execution_count": null,
   "metadata": {},
   "outputs": [],
   "source": [
    "data_from_march['events'][0]['competitions'][0]['competitors'][0]['winner']"
   ]
  },
  {
   "cell_type": "code",
   "execution_count": null,
   "metadata": {},
   "outputs": [],
   "source": []
  }
 ],
 "metadata": {
  "kernelspec": {
   "display_name": "mm-bracket",
   "language": "python",
   "name": "python3"
  },
  "language_info": {
   "codemirror_mode": {
    "name": "ipython",
    "version": 3
   },
   "file_extension": ".py",
   "mimetype": "text/x-python",
   "name": "python",
   "nbconvert_exporter": "python",
   "pygments_lexer": "ipython3",
   "version": "3.8.19"
  }
 },
 "nbformat": 4,
 "nbformat_minor": 2
}
