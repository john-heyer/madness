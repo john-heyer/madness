{
 "cells": [
  {
   "cell_type": "code",
   "execution_count": 1,
   "metadata": {},
   "outputs": [],
   "source": [
    "%load_ext autoreload\n",
    "%autoreload 2"
   ]
  },
  {
   "cell_type": "code",
   "execution_count": 2,
   "metadata": {},
   "outputs": [],
   "source": [
    "import requests\n",
    "import json\n",
    "import pandas as pd"
   ]
  },
  {
   "cell_type": "code",
   "execution_count": 3,
   "metadata": {},
   "outputs": [],
   "source": [
    "data_from_march = requests.get(\n",
    "    'https://site.api.espn.com/apis/site/v2/sports/basketball/mens-college-basketball/scoreboard?dates=202403'\n",
    ").json()"
   ]
  },
  {
   "cell_type": "code",
   "execution_count": 3,
   "metadata": {},
   "outputs": [],
   "source": [
    "short_teams, long_teams = [], []\n",
    "for event in data_from_march['events']:\n",
    "    s_teams = event['shortName'].split(' VS ')\n",
    "    assert len(s_teams) == 2\n",
    "    l_teams = event['name'].split(' at ')\n",
    "    assert len(l_teams) == 2\n",
    "    short_teams += s_teams\n",
    "    long_teams += l_teams\n",
    "\n",
    "long_to_short = dict(zip(long_teams, short_teams))\n"
   ]
  },
  {
   "cell_type": "code",
   "execution_count": 4,
   "metadata": {},
   "outputs": [],
   "source": [
    "short_to_long = dict(zip(short_teams, long_teams))"
   ]
  },
  {
   "cell_type": "code",
   "execution_count": 5,
   "metadata": {},
   "outputs": [],
   "source": [
    "event_types = set()\n",
    "for event in data_from_march['events']:\n",
    "    event_types.add(event['season']['slug'])"
   ]
  },
  {
   "cell_type": "code",
   "execution_count": 6,
   "metadata": {},
   "outputs": [],
   "source": [
    "test_df = pd.read_csv('monkey-madness-teams.csv')"
   ]
  },
  {
   "cell_type": "code",
   "execution_count": 7,
   "metadata": {},
   "outputs": [],
   "source": [
    "def normalize_team_name(team_name):\n",
    "    n = team_name.strip(\".\").strip()\n",
    "    if n.endswith(\"'s\"):\n",
    "        return n[:-2]\n",
    "    return n"
   ]
  },
  {
   "cell_type": "code",
   "execution_count": 8,
   "metadata": {},
   "outputs": [],
   "source": [
    "def team_name_to_short_code(team_name_norm):\n",
    "    short_team_code = None\n",
    "    for long_team, short_team in long_to_short.items():\n",
    "        if team_name_norm.lower() in long_team.lower() or long_team.lower() in team_name_norm.lower():\n",
    "            short_team_code = short_team\n",
    "        elif short_team.lower() in team_name_norm.lower():\n",
    "            short_team_code = short_team\n",
    "    return short_team_code"
   ]
  },
  {
   "cell_type": "code",
   "execution_count": 9,
   "metadata": {},
   "outputs": [],
   "source": [
    "test_df['team_name_norm'] = test_df.team_name.apply(normalize_team_name)\n",
    "test_df['team_code'] = test_df.team_name_norm.apply(team_name_to_short_code)"
   ]
  },
  {
   "cell_type": "code",
   "execution_count": 10,
   "metadata": {},
   "outputs": [],
   "source": [
    "# fix empty and duplicates"
   ]
  },
  {
   "cell_type": "code",
   "execution_count": 11,
   "metadata": {},
   "outputs": [],
   "source": [
    "code_counts = dict(test_df.team_code.value_counts())"
   ]
  },
  {
   "cell_type": "code",
   "execution_count": 12,
   "metadata": {},
   "outputs": [],
   "source": [
    "dup_codes = [key for key, value in code_counts.items() if value > 1]"
   ]
  },
  {
   "cell_type": "code",
   "execution_count": 13,
   "metadata": {},
   "outputs": [
    {
     "data": {
      "text/plain": [
       "['LONG', 'FAU', 'TA&M', 'JMU', 'ORE', 'WKU', 'COLO']"
      ]
     },
     "execution_count": 13,
     "metadata": {},
     "output_type": "execute_result"
    }
   ],
   "source": [
    "dup_codes"
   ]
  },
  {
   "cell_type": "code",
   "execution_count": 14,
   "metadata": {},
   "outputs": [
    {
     "name": "stdout",
     "output_type": "stream",
     "text": [
      "0\n"
     ]
    },
    {
     "data": {
      "text/html": [
       "<div>\n",
       "<style scoped>\n",
       "    .dataframe tbody tr th:only-of-type {\n",
       "        vertical-align: middle;\n",
       "    }\n",
       "\n",
       "    .dataframe tbody tr th {\n",
       "        vertical-align: top;\n",
       "    }\n",
       "\n",
       "    .dataframe thead th {\n",
       "        text-align: right;\n",
       "    }\n",
       "</style>\n",
       "<table border=\"1\" class=\"dataframe\">\n",
       "  <thead>\n",
       "    <tr style=\"text-align: right;\">\n",
       "      <th></th>\n",
       "      <th>participant_name</th>\n",
       "      <th>team_name</th>\n",
       "      <th>seed</th>\n",
       "      <th>team_name_norm</th>\n",
       "      <th>team_code</th>\n",
       "    </tr>\n",
       "  </thead>\n",
       "  <tbody>\n",
       "  </tbody>\n",
       "</table>\n",
       "</div>"
      ],
      "text/plain": [
       "Empty DataFrame\n",
       "Columns: [participant_name, team_name, seed, team_name_norm, team_code]\n",
       "Index: []"
      ]
     },
     "execution_count": 14,
     "metadata": {},
     "output_type": "execute_result"
    }
   ],
   "source": [
    "no_code = test_df[pd.isna(test_df.team_code)]\n",
    "print(len(no_code))\n",
    "no_code.head(15)"
   ]
  },
  {
   "cell_type": "code",
   "execution_count": 15,
   "metadata": {},
   "outputs": [
    {
     "name": "stdout",
     "output_type": "stream",
     "text": [
      "14\n"
     ]
    },
    {
     "data": {
      "text/html": [
       "<div>\n",
       "<style scoped>\n",
       "    .dataframe tbody tr th:only-of-type {\n",
       "        vertical-align: middle;\n",
       "    }\n",
       "\n",
       "    .dataframe tbody tr th {\n",
       "        vertical-align: top;\n",
       "    }\n",
       "\n",
       "    .dataframe thead th {\n",
       "        text-align: right;\n",
       "    }\n",
       "</style>\n",
       "<table border=\"1\" class=\"dataframe\">\n",
       "  <thead>\n",
       "    <tr style=\"text-align: right;\">\n",
       "      <th></th>\n",
       "      <th>participant_name</th>\n",
       "      <th>team_name</th>\n",
       "      <th>seed</th>\n",
       "      <th>team_name_norm</th>\n",
       "      <th>team_code</th>\n",
       "    </tr>\n",
       "  </thead>\n",
       "  <tbody>\n",
       "    <tr>\n",
       "      <th>2</th>\n",
       "      <td>Molloy</td>\n",
       "      <td>Florida Atlantic</td>\n",
       "      <td>8</td>\n",
       "      <td>Florida Atlantic</td>\n",
       "      <td>FAU</td>\n",
       "    </tr>\n",
       "    <tr>\n",
       "      <th>11</th>\n",
       "      <td>Nicolai</td>\n",
       "      <td>Morehead St.</td>\n",
       "      <td>14</td>\n",
       "      <td>Morehead St</td>\n",
       "      <td>ORE</td>\n",
       "    </tr>\n",
       "    <tr>\n",
       "      <th>31</th>\n",
       "      <td>F-Cup</td>\n",
       "      <td>Long Beach St.</td>\n",
       "      <td>15</td>\n",
       "      <td>Long Beach St</td>\n",
       "      <td>LONG</td>\n",
       "    </tr>\n",
       "    <tr>\n",
       "      <th>33</th>\n",
       "      <td>Meshi (2)</td>\n",
       "      <td>Longwood</td>\n",
       "      <td>16</td>\n",
       "      <td>Longwood</td>\n",
       "      <td>LONG</td>\n",
       "    </tr>\n",
       "    <tr>\n",
       "      <th>35</th>\n",
       "      <td>Gateson (2)</td>\n",
       "      <td>Texas A&amp;M</td>\n",
       "      <td>9</td>\n",
       "      <td>Texas A&amp;M</td>\n",
       "      <td>TA&amp;M</td>\n",
       "    </tr>\n",
       "    <tr>\n",
       "      <th>37</th>\n",
       "      <td>Katz (2)</td>\n",
       "      <td>James Madison</td>\n",
       "      <td>12</td>\n",
       "      <td>James Madison</td>\n",
       "      <td>JMU</td>\n",
       "    </tr>\n",
       "    <tr>\n",
       "      <th>38</th>\n",
       "      <td>Scott (2)</td>\n",
       "      <td>Duke</td>\n",
       "      <td>4</td>\n",
       "      <td>Duke</td>\n",
       "      <td>JMU</td>\n",
       "    </tr>\n",
       "    <tr>\n",
       "      <th>42</th>\n",
       "      <td>Cimi (2)</td>\n",
       "      <td>Kentucky</td>\n",
       "      <td>3</td>\n",
       "      <td>Kentucky</td>\n",
       "      <td>WKU</td>\n",
       "    </tr>\n",
       "    <tr>\n",
       "      <th>44</th>\n",
       "      <td>Molloy (2)</td>\n",
       "      <td>Florida</td>\n",
       "      <td>7</td>\n",
       "      <td>Florida</td>\n",
       "      <td>FAU</td>\n",
       "    </tr>\n",
       "    <tr>\n",
       "      <th>45</th>\n",
       "      <td>Bobby + Derham (2)</td>\n",
       "      <td>Colorado</td>\n",
       "      <td>10</td>\n",
       "      <td>Colorado</td>\n",
       "      <td>COLO</td>\n",
       "    </tr>\n",
       "    <tr>\n",
       "      <th>47</th>\n",
       "      <td>Mayer (2)</td>\n",
       "      <td>Western Kentucky</td>\n",
       "      <td>15</td>\n",
       "      <td>Western Kentucky</td>\n",
       "      <td>WKU</td>\n",
       "    </tr>\n",
       "    <tr>\n",
       "      <th>57</th>\n",
       "      <td>Healy (2)</td>\n",
       "      <td>Oregon</td>\n",
       "      <td>11</td>\n",
       "      <td>Oregon</td>\n",
       "      <td>ORE</td>\n",
       "    </tr>\n",
       "    <tr>\n",
       "      <th>60</th>\n",
       "      <td>Leff (2)</td>\n",
       "      <td>Texas</td>\n",
       "      <td>7</td>\n",
       "      <td>Texas</td>\n",
       "      <td>TA&amp;M</td>\n",
       "    </tr>\n",
       "    <tr>\n",
       "      <th>61</th>\n",
       "      <td>Peralo (2)</td>\n",
       "      <td>Colorado St.</td>\n",
       "      <td>10</td>\n",
       "      <td>Colorado St</td>\n",
       "      <td>COLO</td>\n",
       "    </tr>\n",
       "  </tbody>\n",
       "</table>\n",
       "</div>"
      ],
      "text/plain": [
       "      participant_name         team_name  seed    team_name_norm team_code\n",
       "2               Molloy  Florida Atlantic     8  Florida Atlantic       FAU\n",
       "11             Nicolai      Morehead St.    14       Morehead St       ORE\n",
       "31               F-Cup    Long Beach St.    15     Long Beach St      LONG\n",
       "33           Meshi (2)          Longwood    16          Longwood      LONG\n",
       "35         Gateson (2)         Texas A&M     9         Texas A&M      TA&M\n",
       "37            Katz (2)     James Madison    12     James Madison       JMU\n",
       "38           Scott (2)              Duke     4              Duke       JMU\n",
       "42            Cimi (2)          Kentucky     3          Kentucky       WKU\n",
       "44          Molloy (2)           Florida     7           Florida       FAU\n",
       "45  Bobby + Derham (2)          Colorado    10          Colorado      COLO\n",
       "47           Mayer (2)  Western Kentucky    15  Western Kentucky       WKU\n",
       "57           Healy (2)            Oregon    11            Oregon       ORE\n",
       "60            Leff (2)             Texas     7             Texas      TA&M\n",
       "61          Peralo (2)      Colorado St.    10       Colorado St      COLO"
      ]
     },
     "execution_count": 15,
     "metadata": {},
     "output_type": "execute_result"
    }
   ],
   "source": [
    "dup_code = test_df[test_df.team_code.apply(lambda c: c in dup_codes)]\n",
    "print(len(dup_code))\n",
    "dup_code.head(15)"
   ]
  },
  {
   "cell_type": "code",
   "execution_count": 16,
   "metadata": {},
   "outputs": [],
   "source": [
    "fixes = {\n",
    "    'Molloy (2)': 'FLA',\n",
    "    'Nicolai': 'MORE',\n",
    "    'F-Cup': 'LBSU',\n",
    "    'Scott (2)': 'DUKE',\n",
    "    'Cimi (2)': 'UK',\n",
    "    'Peralo (2)': 'CSU',\n",
    "    'Leff (2)': 'TEX'\n",
    "}"
   ]
  },
  {
   "cell_type": "code",
   "execution_count": 17,
   "metadata": {},
   "outputs": [],
   "source": [
    "test_df['team_code'] = test_df.apply(\n",
    "    lambda row: fixes[row.participant_name] if row.participant_name in fixes else row.team_code,\n",
    "    axis=1\n",
    ")"
   ]
  },
  {
   "cell_type": "code",
   "execution_count": 18,
   "metadata": {},
   "outputs": [
    {
     "data": {
      "text/plain": [
       "participant_name    0\n",
       "team_name           0\n",
       "seed                0\n",
       "team_name_norm      0\n",
       "team_code           0\n",
       "dtype: int64"
      ]
     },
     "execution_count": 18,
     "metadata": {},
     "output_type": "execute_result"
    }
   ],
   "source": [
    "test_df.isna().sum()"
   ]
  },
  {
   "cell_type": "code",
   "execution_count": 19,
   "metadata": {},
   "outputs": [
    {
     "data": {
      "text/plain": [
       "63"
      ]
     },
     "execution_count": 19,
     "metadata": {},
     "output_type": "execute_result"
    }
   ],
   "source": [
    "len(test_df.team_code.unique())"
   ]
  },
  {
   "cell_type": "code",
   "execution_count": 20,
   "metadata": {},
   "outputs": [
    {
     "data": {
      "text/plain": [
       "team_code\n",
       "TEX     2\n",
       "CONN    1\n",
       "WKU     1\n",
       "NEB     1\n",
       "TA&M    1\n",
       "       ..\n",
       "BAY     1\n",
       "COLG    1\n",
       "DAY     1\n",
       "NEV     1\n",
       "SPU     1\n",
       "Name: count, Length: 63, dtype: int64"
      ]
     },
     "execution_count": 20,
     "metadata": {},
     "output_type": "execute_result"
    }
   ],
   "source": [
    "test_df.team_code.value_counts()"
   ]
  },
  {
   "cell_type": "code",
   "execution_count": 25,
   "metadata": {},
   "outputs": [
    {
     "data": {
      "text/html": [
       "<div>\n",
       "<style scoped>\n",
       "    .dataframe tbody tr th:only-of-type {\n",
       "        vertical-align: middle;\n",
       "    }\n",
       "\n",
       "    .dataframe tbody tr th {\n",
       "        vertical-align: top;\n",
       "    }\n",
       "\n",
       "    .dataframe thead th {\n",
       "        text-align: right;\n",
       "    }\n",
       "</style>\n",
       "<table border=\"1\" class=\"dataframe\">\n",
       "  <thead>\n",
       "    <tr style=\"text-align: right;\">\n",
       "      <th></th>\n",
       "      <th>participant_name</th>\n",
       "      <th>team_name</th>\n",
       "      <th>seed</th>\n",
       "      <th>team_name_norm</th>\n",
       "      <th>team_code</th>\n",
       "    </tr>\n",
       "  </thead>\n",
       "  <tbody>\n",
       "    <tr>\n",
       "      <th>40</th>\n",
       "      <td>John + Tyler (2)</td>\n",
       "      <td>Texas Tech</td>\n",
       "      <td>6</td>\n",
       "      <td>Texas Tech</td>\n",
       "      <td>TEX</td>\n",
       "    </tr>\n",
       "    <tr>\n",
       "      <th>60</th>\n",
       "      <td>Leff (2)</td>\n",
       "      <td>Texas</td>\n",
       "      <td>7</td>\n",
       "      <td>Texas</td>\n",
       "      <td>TEX</td>\n",
       "    </tr>\n",
       "  </tbody>\n",
       "</table>\n",
       "</div>"
      ],
      "text/plain": [
       "    participant_name   team_name  seed team_name_norm team_code\n",
       "40  John + Tyler (2)  Texas Tech     6     Texas Tech       TEX\n",
       "60          Leff (2)       Texas     7          Texas       TEX"
      ]
     },
     "execution_count": 25,
     "metadata": {},
     "output_type": "execute_result"
    }
   ],
   "source": [
    "test_df[test_df.team_code.values == 'TEX'].head()"
   ]
  },
  {
   "cell_type": "code",
   "execution_count": 33,
   "metadata": {},
   "outputs": [
    {
     "data": {
      "text/html": [
       "<div>\n",
       "<style scoped>\n",
       "    .dataframe tbody tr th:only-of-type {\n",
       "        vertical-align: middle;\n",
       "    }\n",
       "\n",
       "    .dataframe tbody tr th {\n",
       "        vertical-align: top;\n",
       "    }\n",
       "\n",
       "    .dataframe thead th {\n",
       "        text-align: right;\n",
       "    }\n",
       "</style>\n",
       "<table border=\"1\" class=\"dataframe\">\n",
       "  <thead>\n",
       "    <tr style=\"text-align: right;\">\n",
       "      <th></th>\n",
       "      <th>participant_name</th>\n",
       "      <th>team_name</th>\n",
       "      <th>seed</th>\n",
       "      <th>team_name_norm</th>\n",
       "      <th>team_code</th>\n",
       "    </tr>\n",
       "  </thead>\n",
       "  <tbody>\n",
       "  </tbody>\n",
       "</table>\n",
       "</div>"
      ],
      "text/plain": [
       "Empty DataFrame\n",
       "Columns: [participant_name, team_name, seed, team_name_norm, team_code]\n",
       "Index: []"
      ]
     },
     "execution_count": 33,
     "metadata": {},
     "output_type": "execute_result"
    }
   ],
   "source": [
    "test_df[test_df.team_code.values == 'TTU'].head()"
   ]
  },
  {
   "cell_type": "code",
   "execution_count": 24,
   "metadata": {},
   "outputs": [
    {
     "data": {
      "text/plain": [
       "63"
      ]
     },
     "execution_count": 24,
     "metadata": {},
     "output_type": "execute_result"
    }
   ],
   "source": [
    "len(test_df.team_code.unique())"
   ]
  },
  {
   "cell_type": "code",
   "execution_count": 21,
   "metadata": {},
   "outputs": [],
   "source": [
    "test_df.to_csv('mm-with-team-codes.csv', index=False)"
   ]
  },
  {
   "cell_type": "code",
   "execution_count": 34,
   "metadata": {},
   "outputs": [],
   "source": [
    "# manually changed to TTU^"
   ]
  },
  {
   "cell_type": "code",
   "execution_count": 35,
   "metadata": {},
   "outputs": [],
   "source": [
    "df_clean = pd.read_csv('mm-with-team-codes.csv')\n",
    "assert len(df_clean.team_code.unique()) == 64"
   ]
  },
  {
   "cell_type": "code",
   "execution_count": 9,
   "metadata": {},
   "outputs": [],
   "source": [
    "from construct_bracket import Bracket"
   ]
  },
  {
   "cell_type": "code",
   "execution_count": 12,
   "metadata": {},
   "outputs": [],
   "source": [
    "bracket = Bracket.from_csv('mm-with-team-codes.csv')"
   ]
  },
  {
   "cell_type": "code",
   "execution_count": 13,
   "metadata": {},
   "outputs": [
    {
     "data": {
      "text/plain": [
       "<construct_bracket.Bracket at 0x132c98e20>"
      ]
     },
     "execution_count": 13,
     "metadata": {},
     "output_type": "execute_result"
    }
   ],
   "source": [
    "bracket"
   ]
  },
  {
   "cell_type": "code",
   "execution_count": 4,
   "metadata": {},
   "outputs": [
    {
     "data": {
      "text/plain": [
       "dict_keys(['leagues', 'groups', 'day', 'events', 'eventsDate'])"
      ]
     },
     "execution_count": 4,
     "metadata": {},
     "output_type": "execute_result"
    }
   ],
   "source": [
    "data_from_march.keys()"
   ]
  },
  {
   "cell_type": "code",
   "execution_count": 35,
   "metadata": {},
   "outputs": [
    {
     "data": {
      "text/plain": [
       "('STATUS_FINAL', True, {'UVA': '42', 'CSU': '67'})"
      ]
     },
     "execution_count": 35,
     "metadata": {},
     "output_type": "execute_result"
    }
   ],
   "source": [
    "is_finished = data_from_march['events'][0]['status']['type']['completed']  # boolean\n",
    "status = data_from_march['events'][0]['status']['type']['name']\n",
    "# change last 0 to 1 for second team\n",
    "team_to_score = {}\n",
    "for i in range(2):\n",
    "    score = data_from_march['events'][0]['competitions'][0]['competitors'][i]['score']\n",
    "    team_code = data_from_march['events'][0]['competitions'][0]['competitors'][i]['team']['abbreviation']\n",
    "    team_to_score[team_code] = score\n",
    "status, is_finished, team_to_score"
   ]
  },
  {
   "cell_type": "code",
   "execution_count": 46,
   "metadata": {},
   "outputs": [
    {
     "data": {
      "text/plain": [
       "False"
      ]
     },
     "execution_count": 46,
     "metadata": {},
     "output_type": "execute_result"
    }
   ],
   "source": [
    "data_from_march['events'][0]['competitions'][0]['competitors'][0]['winner']"
   ]
  },
  {
   "cell_type": "code",
   "execution_count": null,
   "metadata": {},
   "outputs": [],
   "source": []
  }
 ],
 "metadata": {
  "kernelspec": {
   "display_name": "mm-bracket",
   "language": "python",
   "name": "python3"
  },
  "language_info": {
   "codemirror_mode": {
    "name": "ipython",
    "version": 3
   },
   "file_extension": ".py",
   "mimetype": "text/x-python",
   "name": "python",
   "nbconvert_exporter": "python",
   "pygments_lexer": "ipython3",
   "version": "3.8.19"
  }
 },
 "nbformat": 4,
 "nbformat_minor": 2
}
